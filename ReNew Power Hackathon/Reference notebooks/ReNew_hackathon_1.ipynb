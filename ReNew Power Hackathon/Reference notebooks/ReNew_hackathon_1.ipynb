{
 "cells": [
  {
   "cell_type": "markdown",
   "metadata": {},
   "source": [
    "**READING THE DATASET**"
   ]
  },
  {
   "cell_type": "code",
   "execution_count": 1,
   "metadata": {},
   "outputs": [],
   "source": [
    "# LOAD THE LIBRARIES\n",
    "import pandas as pd\n",
    "import numpy as np\n",
    "import pandas_profiling as pp\n",
    "from pandas_profiling import ProfileReport\n",
    "import matplotlib.pyplot as plt\n",
    "%matplotlib inline\n",
    "import seaborn as sns\n",
    "sns.set_style('darkgrid') # darkgrid, white grid, dark, white and ticks\n",
    "\n",
    "# import warnings filter\n",
    "from warnings import simplefilter\n",
    "# ignore all future warnings\n",
    "simplefilter(action='ignore', category=FutureWarning)"
   ]
  },
  {
   "cell_type": "code",
   "execution_count": 2,
   "metadata": {},
   "outputs": [
    {
     "name": "stdout",
     "output_type": "stream",
     "text": [
      "The Wind Turbine training dataset has 909604 records, each with 16 attributes.\n"
     ]
    },
    {
     "data": {
      "text/html": [
       "<div>\n",
       "<style scoped>\n",
       "    .dataframe tbody tr th:only-of-type {\n",
       "        vertical-align: middle;\n",
       "    }\n",
       "\n",
       "    .dataframe tbody tr th {\n",
       "        vertical-align: top;\n",
       "    }\n",
       "\n",
       "    .dataframe thead th {\n",
       "        text-align: right;\n",
       "    }\n",
       "</style>\n",
       "<table border=\"1\" class=\"dataframe\">\n",
       "  <thead>\n",
       "    <tr style=\"text-align: right;\">\n",
       "      <th></th>\n",
       "      <th>timestamp</th>\n",
       "      <th>active_power_calculated_by_converter</th>\n",
       "      <th>active_power_raw</th>\n",
       "      <th>ambient_temperature</th>\n",
       "      <th>generator_speed</th>\n",
       "      <th>generator_winding_temp_max</th>\n",
       "      <th>grid_power10min_average</th>\n",
       "      <th>nc1_inside_temp</th>\n",
       "      <th>nacelle_temp</th>\n",
       "      <th>reactice_power_calculated_by_converter</th>\n",
       "      <th>reactive_power</th>\n",
       "      <th>wind_direction_raw</th>\n",
       "      <th>wind_speed_raw</th>\n",
       "      <th>wind_speed_turbulence</th>\n",
       "      <th>turbine_id</th>\n",
       "      <th>Target</th>\n",
       "    </tr>\n",
       "  </thead>\n",
       "  <tbody>\n",
       "    <tr>\n",
       "      <th>0</th>\n",
       "      <td>2021-02-19 20:18:00</td>\n",
       "      <td>816.636759</td>\n",
       "      <td>834.917206</td>\n",
       "      <td>31.694380</td>\n",
       "      <td>1159.616602</td>\n",
       "      <td>65.954214</td>\n",
       "      <td>917.897085</td>\n",
       "      <td>31.881972</td>\n",
       "      <td>31.504713</td>\n",
       "      <td>141.457644</td>\n",
       "      <td>165.501518</td>\n",
       "      <td>280.864782</td>\n",
       "      <td>7.057000</td>\n",
       "      <td>0.544082</td>\n",
       "      <td>Turbine_108</td>\n",
       "      <td>47.582787</td>\n",
       "    </tr>\n",
       "    <tr>\n",
       "      <th>1</th>\n",
       "      <td>2021-04-27 04:55:00</td>\n",
       "      <td>419.107829</td>\n",
       "      <td>421.050873</td>\n",
       "      <td>12.894948</td>\n",
       "      <td>928.747996</td>\n",
       "      <td>59.571319</td>\n",
       "      <td>445.554250</td>\n",
       "      <td>32.423705</td>\n",
       "      <td>32.755770</td>\n",
       "      <td>89.186457</td>\n",
       "      <td>113.835236</td>\n",
       "      <td>299.552460</td>\n",
       "      <td>5.474937</td>\n",
       "      <td>0.469031</td>\n",
       "      <td>Turbine_18</td>\n",
       "      <td>46.070328</td>\n",
       "    </tr>\n",
       "    <tr>\n",
       "      <th>2</th>\n",
       "      <td>2021-01-25 06:26:00</td>\n",
       "      <td>1303.530558</td>\n",
       "      <td>1337.566142</td>\n",
       "      <td>16.648388</td>\n",
       "      <td>1201.219775</td>\n",
       "      <td>61.270498</td>\n",
       "      <td>1364.716003</td>\n",
       "      <td>11.446849</td>\n",
       "      <td>18.332985</td>\n",
       "      <td>230.622309</td>\n",
       "      <td>281.452253</td>\n",
       "      <td>84.960106</td>\n",
       "      <td>8.092457</td>\n",
       "      <td>0.622318</td>\n",
       "      <td>Turbine_105</td>\n",
       "      <td>39.989236</td>\n",
       "    </tr>\n",
       "    <tr>\n",
       "      <th>3</th>\n",
       "      <td>2021-10-30 03:47:00</td>\n",
       "      <td>61.494872</td>\n",
       "      <td>53.481008</td>\n",
       "      <td>28.388141</td>\n",
       "      <td>769.806122</td>\n",
       "      <td>40.674348</td>\n",
       "      <td>14.324897</td>\n",
       "      <td>34.253204</td>\n",
       "      <td>32.662889</td>\n",
       "      <td>66.211015</td>\n",
       "      <td>75.017531</td>\n",
       "      <td>87.261119</td>\n",
       "      <td>4.071032</td>\n",
       "      <td>0.760719</td>\n",
       "      <td>Turbine_15</td>\n",
       "      <td>46.056587</td>\n",
       "    </tr>\n",
       "    <tr>\n",
       "      <th>4</th>\n",
       "      <td>2021-03-15 00:39:00</td>\n",
       "      <td>593.514364</td>\n",
       "      <td>611.659108</td>\n",
       "      <td>31.519527</td>\n",
       "      <td>1046.916768</td>\n",
       "      <td>64.341763</td>\n",
       "      <td>599.020172</td>\n",
       "      <td>32.405586</td>\n",
       "      <td>31.466387</td>\n",
       "      <td>137.163938</td>\n",
       "      <td>160.202421</td>\n",
       "      <td>313.724818</td>\n",
       "      <td>6.357943</td>\n",
       "      <td>0.346068</td>\n",
       "      <td>Turbine_01</td>\n",
       "      <td>54.346095</td>\n",
       "    </tr>\n",
       "  </tbody>\n",
       "</table>\n",
       "</div>"
      ],
      "text/plain": [
       "             timestamp  active_power_calculated_by_converter  \\\n",
       "0  2021-02-19 20:18:00                            816.636759   \n",
       "1  2021-04-27 04:55:00                            419.107829   \n",
       "2  2021-01-25 06:26:00                           1303.530558   \n",
       "3  2021-10-30 03:47:00                             61.494872   \n",
       "4  2021-03-15 00:39:00                            593.514364   \n",
       "\n",
       "   active_power_raw  ambient_temperature  generator_speed  \\\n",
       "0        834.917206            31.694380      1159.616602   \n",
       "1        421.050873            12.894948       928.747996   \n",
       "2       1337.566142            16.648388      1201.219775   \n",
       "3         53.481008            28.388141       769.806122   \n",
       "4        611.659108            31.519527      1046.916768   \n",
       "\n",
       "   generator_winding_temp_max  grid_power10min_average  nc1_inside_temp  \\\n",
       "0                   65.954214               917.897085        31.881972   \n",
       "1                   59.571319               445.554250        32.423705   \n",
       "2                   61.270498              1364.716003        11.446849   \n",
       "3                   40.674348                14.324897        34.253204   \n",
       "4                   64.341763               599.020172        32.405586   \n",
       "\n",
       "   nacelle_temp  reactice_power_calculated_by_converter  reactive_power  \\\n",
       "0     31.504713                              141.457644      165.501518   \n",
       "1     32.755770                               89.186457      113.835236   \n",
       "2     18.332985                              230.622309      281.452253   \n",
       "3     32.662889                               66.211015       75.017531   \n",
       "4     31.466387                              137.163938      160.202421   \n",
       "\n",
       "   wind_direction_raw  wind_speed_raw  wind_speed_turbulence   turbine_id  \\\n",
       "0          280.864782        7.057000               0.544082  Turbine_108   \n",
       "1          299.552460        5.474937               0.469031   Turbine_18   \n",
       "2           84.960106        8.092457               0.622318  Turbine_105   \n",
       "3           87.261119        4.071032               0.760719   Turbine_15   \n",
       "4          313.724818        6.357943               0.346068   Turbine_01   \n",
       "\n",
       "      Target  \n",
       "0  47.582787  \n",
       "1  46.070328  \n",
       "2  39.989236  \n",
       "3  46.056587  \n",
       "4  54.346095  "
      ]
     },
     "execution_count": 2,
     "metadata": {},
     "output_type": "execute_result"
    }
   ],
   "source": [
    "train = pd.read_csv('./ReNew_Participants_Data/train.csv')\n",
    "test = pd.read_csv('./ReNew_Participants_Data/test.csv')\n",
    "\n",
    "print(\"The Wind Turbine training dataset has\", train.shape[0], \"records, each with\",train.shape[1],\"attributes.\")\n",
    "train.head()"
   ]
  },
  {
   "cell_type": "code",
   "execution_count": 3,
   "metadata": {},
   "outputs": [
    {
     "name": "stdout",
     "output_type": "stream",
     "text": [
      "The Wind Turbine test dataset has 303202 records, each with 14 attributes.\n"
     ]
    },
    {
     "data": {
      "text/html": [
       "<div>\n",
       "<style scoped>\n",
       "    .dataframe tbody tr th:only-of-type {\n",
       "        vertical-align: middle;\n",
       "    }\n",
       "\n",
       "    .dataframe tbody tr th {\n",
       "        vertical-align: top;\n",
       "    }\n",
       "\n",
       "    .dataframe thead th {\n",
       "        text-align: right;\n",
       "    }\n",
       "</style>\n",
       "<table border=\"1\" class=\"dataframe\">\n",
       "  <thead>\n",
       "    <tr style=\"text-align: right;\">\n",
       "      <th></th>\n",
       "      <th>active_power_calculated_by_converter</th>\n",
       "      <th>active_power_raw</th>\n",
       "      <th>ambient_temperature</th>\n",
       "      <th>generator_speed</th>\n",
       "      <th>generator_winding_temp_max</th>\n",
       "      <th>grid_power10min_average</th>\n",
       "      <th>nc1_inside_temp</th>\n",
       "      <th>nacelle_temp</th>\n",
       "      <th>reactice_power_calculated_by_converter</th>\n",
       "      <th>reactive_power</th>\n",
       "      <th>wind_direction_raw</th>\n",
       "      <th>wind_speed_raw</th>\n",
       "      <th>wind_speed_turbulence</th>\n",
       "      <th>turbine_id</th>\n",
       "    </tr>\n",
       "  </thead>\n",
       "  <tbody>\n",
       "    <tr>\n",
       "      <th>0</th>\n",
       "      <td>15.507537</td>\n",
       "      <td>19.956882</td>\n",
       "      <td>40.233264</td>\n",
       "      <td>410.538834</td>\n",
       "      <td>57.357366</td>\n",
       "      <td>84.008399</td>\n",
       "      <td>48.826597</td>\n",
       "      <td>45.363477</td>\n",
       "      <td>2.419202</td>\n",
       "      <td>1.468876</td>\n",
       "      <td>156.399396</td>\n",
       "      <td>2.438629</td>\n",
       "      <td>0.790435</td>\n",
       "      <td>Turbine_14</td>\n",
       "    </tr>\n",
       "    <tr>\n",
       "      <th>1</th>\n",
       "      <td>472.577255</td>\n",
       "      <td>478.373881</td>\n",
       "      <td>12.306687</td>\n",
       "      <td>965.077563</td>\n",
       "      <td>51.796728</td>\n",
       "      <td>492.531362</td>\n",
       "      <td>27.457511</td>\n",
       "      <td>24.045565</td>\n",
       "      <td>96.152070</td>\n",
       "      <td>119.378235</td>\n",
       "      <td>56.443802</td>\n",
       "      <td>5.900371</td>\n",
       "      <td>0.544198</td>\n",
       "      <td>Turbine_19</td>\n",
       "    </tr>\n",
       "    <tr>\n",
       "      <th>2</th>\n",
       "      <td>447.829615</td>\n",
       "      <td>451.158264</td>\n",
       "      <td>29.106771</td>\n",
       "      <td>948.035899</td>\n",
       "      <td>60.493098</td>\n",
       "      <td>393.151576</td>\n",
       "      <td>39.410553</td>\n",
       "      <td>35.715697</td>\n",
       "      <td>90.251529</td>\n",
       "      <td>117.192635</td>\n",
       "      <td>224.540263</td>\n",
       "      <td>5.924923</td>\n",
       "      <td>0.513481</td>\n",
       "      <td>Turbine_14</td>\n",
       "    </tr>\n",
       "    <tr>\n",
       "      <th>3</th>\n",
       "      <td>254.014336</td>\n",
       "      <td>249.438965</td>\n",
       "      <td>27.074900</td>\n",
       "      <td>804.963776</td>\n",
       "      <td>55.741899</td>\n",
       "      <td>178.715101</td>\n",
       "      <td>29.476841</td>\n",
       "      <td>31.151895</td>\n",
       "      <td>89.273838</td>\n",
       "      <td>105.086257</td>\n",
       "      <td>182.151426</td>\n",
       "      <td>4.409707</td>\n",
       "      <td>0.448881</td>\n",
       "      <td>Turbine_120</td>\n",
       "    </tr>\n",
       "    <tr>\n",
       "      <th>4</th>\n",
       "      <td>1174.930566</td>\n",
       "      <td>1202.654077</td>\n",
       "      <td>32.148434</td>\n",
       "      <td>1199.754858</td>\n",
       "      <td>67.272313</td>\n",
       "      <td>1115.850317</td>\n",
       "      <td>31.920549</td>\n",
       "      <td>30.864276</td>\n",
       "      <td>189.731988</td>\n",
       "      <td>236.053320</td>\n",
       "      <td>261.672180</td>\n",
       "      <td>7.822326</td>\n",
       "      <td>0.561465</td>\n",
       "      <td>Turbine_158</td>\n",
       "    </tr>\n",
       "  </tbody>\n",
       "</table>\n",
       "</div>"
      ],
      "text/plain": [
       "   active_power_calculated_by_converter  active_power_raw  \\\n",
       "0                             15.507537         19.956882   \n",
       "1                            472.577255        478.373881   \n",
       "2                            447.829615        451.158264   \n",
       "3                            254.014336        249.438965   \n",
       "4                           1174.930566       1202.654077   \n",
       "\n",
       "   ambient_temperature  generator_speed  generator_winding_temp_max  \\\n",
       "0            40.233264       410.538834                   57.357366   \n",
       "1            12.306687       965.077563                   51.796728   \n",
       "2            29.106771       948.035899                   60.493098   \n",
       "3            27.074900       804.963776                   55.741899   \n",
       "4            32.148434      1199.754858                   67.272313   \n",
       "\n",
       "   grid_power10min_average  nc1_inside_temp  nacelle_temp  \\\n",
       "0                84.008399        48.826597     45.363477   \n",
       "1               492.531362        27.457511     24.045565   \n",
       "2               393.151576        39.410553     35.715697   \n",
       "3               178.715101        29.476841     31.151895   \n",
       "4              1115.850317        31.920549     30.864276   \n",
       "\n",
       "   reactice_power_calculated_by_converter  reactive_power  wind_direction_raw  \\\n",
       "0                                2.419202        1.468876          156.399396   \n",
       "1                               96.152070      119.378235           56.443802   \n",
       "2                               90.251529      117.192635          224.540263   \n",
       "3                               89.273838      105.086257          182.151426   \n",
       "4                              189.731988      236.053320          261.672180   \n",
       "\n",
       "   wind_speed_raw  wind_speed_turbulence   turbine_id  \n",
       "0        2.438629               0.790435   Turbine_14  \n",
       "1        5.900371               0.544198   Turbine_19  \n",
       "2        5.924923               0.513481   Turbine_14  \n",
       "3        4.409707               0.448881  Turbine_120  \n",
       "4        7.822326               0.561465  Turbine_158  "
      ]
     },
     "execution_count": 3,
     "metadata": {},
     "output_type": "execute_result"
    }
   ],
   "source": [
    "print(\"The Wind Turbine test dataset has\", test.shape[0], \"records, each with\",test.shape[1],\"attributes.\")\n",
    "test.head()"
   ]
  },
  {
   "cell_type": "code",
   "execution_count": 4,
   "metadata": {},
   "outputs": [
    {
     "name": "stdout",
     "output_type": "stream",
     "text": [
      "<class 'pandas.core.frame.DataFrame'>\n",
      "RangeIndex: 909604 entries, 0 to 909603\n",
      "Data columns (total 16 columns):\n",
      " #   Column                                  Non-Null Count   Dtype         \n",
      "---  ------                                  --------------   -----         \n",
      " 0   timestamp                               909604 non-null  datetime64[ns]\n",
      " 1   active_power_calculated_by_converter    909604 non-null  float64       \n",
      " 2   active_power_raw                        909604 non-null  float64       \n",
      " 3   ambient_temperature                     909604 non-null  float64       \n",
      " 4   generator_speed                         909604 non-null  float64       \n",
      " 5   generator_winding_temp_max              909604 non-null  float64       \n",
      " 6   grid_power10min_average                 909604 non-null  float64       \n",
      " 7   nc1_inside_temp                         909604 non-null  float64       \n",
      " 8   nacelle_temp                            909604 non-null  float64       \n",
      " 9   reactice_power_calculated_by_converter  909604 non-null  float64       \n",
      " 10  reactive_power                          909604 non-null  float64       \n",
      " 11  wind_direction_raw                      909604 non-null  float64       \n",
      " 12  wind_speed_raw                          909604 non-null  float64       \n",
      " 13  wind_speed_turbulence                   909604 non-null  float64       \n",
      " 14  turbine_id                              909604 non-null  object        \n",
      " 15  Target                                  909604 non-null  float64       \n",
      "dtypes: datetime64[ns](1), float64(14), object(1)\n",
      "memory usage: 111.0+ MB\n"
     ]
    }
   ],
   "source": [
    "# We will change the Timestamp columns\n",
    "train['timestamp'] = pd.to_datetime(train['timestamp'])\n",
    "train.info()"
   ]
  },
  {
   "cell_type": "code",
   "execution_count": 59,
   "metadata": {},
   "outputs": [],
   "source": [
    "#train['month'] = train['timestamp'].dt.month\n",
    "#train['day'] = train['timestamp'].dt.day\n",
    "#train['hr'] = train['timestamp'].dt.hour\n",
    "#train['min'] = train['timestamp'].dt.minute\n",
    "#train['weekday'] = train['timestamp'].dt.weekday"
   ]
  },
  {
   "cell_type": "code",
   "execution_count": 5,
   "metadata": {},
   "outputs": [
    {
     "data": {
      "text/html": [
       "<div>\n",
       "<style scoped>\n",
       "    .dataframe tbody tr th:only-of-type {\n",
       "        vertical-align: middle;\n",
       "    }\n",
       "\n",
       "    .dataframe tbody tr th {\n",
       "        vertical-align: top;\n",
       "    }\n",
       "\n",
       "    .dataframe thead th {\n",
       "        text-align: right;\n",
       "    }\n",
       "</style>\n",
       "<table border=\"1\" class=\"dataframe\">\n",
       "  <thead>\n",
       "    <tr style=\"text-align: right;\">\n",
       "      <th></th>\n",
       "      <th>timestamp</th>\n",
       "      <th>active_power_calculated_by_converter</th>\n",
       "      <th>active_power_raw</th>\n",
       "      <th>ambient_temperature</th>\n",
       "      <th>generator_speed</th>\n",
       "      <th>generator_winding_temp_max</th>\n",
       "      <th>grid_power10min_average</th>\n",
       "      <th>nc1_inside_temp</th>\n",
       "      <th>nacelle_temp</th>\n",
       "      <th>reactice_power_calculated_by_converter</th>\n",
       "      <th>reactive_power</th>\n",
       "      <th>wind_direction_raw</th>\n",
       "      <th>wind_speed_raw</th>\n",
       "      <th>wind_speed_turbulence</th>\n",
       "      <th>turbine_id</th>\n",
       "      <th>Target</th>\n",
       "    </tr>\n",
       "  </thead>\n",
       "  <tbody>\n",
       "    <tr>\n",
       "      <th>0</th>\n",
       "      <td>2021-02-19 20:18:00</td>\n",
       "      <td>816.636759</td>\n",
       "      <td>834.917206</td>\n",
       "      <td>31.694380</td>\n",
       "      <td>1159.616602</td>\n",
       "      <td>65.954214</td>\n",
       "      <td>917.897085</td>\n",
       "      <td>31.881972</td>\n",
       "      <td>31.504713</td>\n",
       "      <td>141.457644</td>\n",
       "      <td>165.501518</td>\n",
       "      <td>280.864782</td>\n",
       "      <td>7.057000</td>\n",
       "      <td>0.544082</td>\n",
       "      <td>Turbine_108</td>\n",
       "      <td>47.582787</td>\n",
       "    </tr>\n",
       "    <tr>\n",
       "      <th>1</th>\n",
       "      <td>2021-04-27 04:55:00</td>\n",
       "      <td>419.107829</td>\n",
       "      <td>421.050873</td>\n",
       "      <td>12.894948</td>\n",
       "      <td>928.747996</td>\n",
       "      <td>59.571319</td>\n",
       "      <td>445.554250</td>\n",
       "      <td>32.423705</td>\n",
       "      <td>32.755770</td>\n",
       "      <td>89.186457</td>\n",
       "      <td>113.835236</td>\n",
       "      <td>299.552460</td>\n",
       "      <td>5.474937</td>\n",
       "      <td>0.469031</td>\n",
       "      <td>Turbine_18</td>\n",
       "      <td>46.070328</td>\n",
       "    </tr>\n",
       "    <tr>\n",
       "      <th>2</th>\n",
       "      <td>2021-01-25 06:26:00</td>\n",
       "      <td>1303.530558</td>\n",
       "      <td>1337.566142</td>\n",
       "      <td>16.648388</td>\n",
       "      <td>1201.219775</td>\n",
       "      <td>61.270498</td>\n",
       "      <td>1364.716003</td>\n",
       "      <td>11.446849</td>\n",
       "      <td>18.332985</td>\n",
       "      <td>230.622309</td>\n",
       "      <td>281.452253</td>\n",
       "      <td>84.960106</td>\n",
       "      <td>8.092457</td>\n",
       "      <td>0.622318</td>\n",
       "      <td>Turbine_105</td>\n",
       "      <td>39.989236</td>\n",
       "    </tr>\n",
       "    <tr>\n",
       "      <th>3</th>\n",
       "      <td>2021-10-30 03:47:00</td>\n",
       "      <td>61.494872</td>\n",
       "      <td>53.481008</td>\n",
       "      <td>28.388141</td>\n",
       "      <td>769.806122</td>\n",
       "      <td>40.674348</td>\n",
       "      <td>14.324897</td>\n",
       "      <td>34.253204</td>\n",
       "      <td>32.662889</td>\n",
       "      <td>66.211015</td>\n",
       "      <td>75.017531</td>\n",
       "      <td>87.261119</td>\n",
       "      <td>4.071032</td>\n",
       "      <td>0.760719</td>\n",
       "      <td>Turbine_15</td>\n",
       "      <td>46.056587</td>\n",
       "    </tr>\n",
       "    <tr>\n",
       "      <th>4</th>\n",
       "      <td>2021-03-15 00:39:00</td>\n",
       "      <td>593.514364</td>\n",
       "      <td>611.659108</td>\n",
       "      <td>31.519527</td>\n",
       "      <td>1046.916768</td>\n",
       "      <td>64.341763</td>\n",
       "      <td>599.020172</td>\n",
       "      <td>32.405586</td>\n",
       "      <td>31.466387</td>\n",
       "      <td>137.163938</td>\n",
       "      <td>160.202421</td>\n",
       "      <td>313.724818</td>\n",
       "      <td>6.357943</td>\n",
       "      <td>0.346068</td>\n",
       "      <td>Turbine_01</td>\n",
       "      <td>54.346095</td>\n",
       "    </tr>\n",
       "  </tbody>\n",
       "</table>\n",
       "</div>"
      ],
      "text/plain": [
       "            timestamp  active_power_calculated_by_converter  active_power_raw  \\\n",
       "0 2021-02-19 20:18:00                            816.636759        834.917206   \n",
       "1 2021-04-27 04:55:00                            419.107829        421.050873   \n",
       "2 2021-01-25 06:26:00                           1303.530558       1337.566142   \n",
       "3 2021-10-30 03:47:00                             61.494872         53.481008   \n",
       "4 2021-03-15 00:39:00                            593.514364        611.659108   \n",
       "\n",
       "   ambient_temperature  generator_speed  generator_winding_temp_max  \\\n",
       "0            31.694380      1159.616602                   65.954214   \n",
       "1            12.894948       928.747996                   59.571319   \n",
       "2            16.648388      1201.219775                   61.270498   \n",
       "3            28.388141       769.806122                   40.674348   \n",
       "4            31.519527      1046.916768                   64.341763   \n",
       "\n",
       "   grid_power10min_average  nc1_inside_temp  nacelle_temp  \\\n",
       "0               917.897085        31.881972     31.504713   \n",
       "1               445.554250        32.423705     32.755770   \n",
       "2              1364.716003        11.446849     18.332985   \n",
       "3                14.324897        34.253204     32.662889   \n",
       "4               599.020172        32.405586     31.466387   \n",
       "\n",
       "   reactice_power_calculated_by_converter  reactive_power  wind_direction_raw  \\\n",
       "0                              141.457644      165.501518          280.864782   \n",
       "1                               89.186457      113.835236          299.552460   \n",
       "2                              230.622309      281.452253           84.960106   \n",
       "3                               66.211015       75.017531           87.261119   \n",
       "4                              137.163938      160.202421          313.724818   \n",
       "\n",
       "   wind_speed_raw  wind_speed_turbulence   turbine_id     Target  \n",
       "0        7.057000               0.544082  Turbine_108  47.582787  \n",
       "1        5.474937               0.469031   Turbine_18  46.070328  \n",
       "2        8.092457               0.622318  Turbine_105  39.989236  \n",
       "3        4.071032               0.760719   Turbine_15  46.056587  \n",
       "4        6.357943               0.346068   Turbine_01  54.346095  "
      ]
     },
     "execution_count": 5,
     "metadata": {},
     "output_type": "execute_result"
    }
   ],
   "source": [
    "train.head()"
   ]
  },
  {
   "cell_type": "code",
   "execution_count": 6,
   "metadata": {},
   "outputs": [],
   "source": [
    "train.drop(['timestamp'],axis=1,inplace=True)"
   ]
  },
  {
   "cell_type": "code",
   "execution_count": 7,
   "metadata": {},
   "outputs": [
    {
     "data": {
      "text/html": [
       "<div>\n",
       "<style scoped>\n",
       "    .dataframe tbody tr th:only-of-type {\n",
       "        vertical-align: middle;\n",
       "    }\n",
       "\n",
       "    .dataframe tbody tr th {\n",
       "        vertical-align: top;\n",
       "    }\n",
       "\n",
       "    .dataframe thead th {\n",
       "        text-align: right;\n",
       "    }\n",
       "</style>\n",
       "<table border=\"1\" class=\"dataframe\">\n",
       "  <thead>\n",
       "    <tr style=\"text-align: right;\">\n",
       "      <th></th>\n",
       "      <th>active_power_calculated_by_converter</th>\n",
       "      <th>active_power_raw</th>\n",
       "      <th>ambient_temperature</th>\n",
       "      <th>generator_speed</th>\n",
       "      <th>generator_winding_temp_max</th>\n",
       "      <th>grid_power10min_average</th>\n",
       "      <th>nc1_inside_temp</th>\n",
       "      <th>nacelle_temp</th>\n",
       "      <th>reactice_power_calculated_by_converter</th>\n",
       "      <th>reactive_power</th>\n",
       "      <th>wind_direction_raw</th>\n",
       "      <th>wind_speed_raw</th>\n",
       "      <th>wind_speed_turbulence</th>\n",
       "      <th>turbine_id</th>\n",
       "      <th>Target</th>\n",
       "    </tr>\n",
       "  </thead>\n",
       "  <tbody>\n",
       "    <tr>\n",
       "      <th>0</th>\n",
       "      <td>816.636759</td>\n",
       "      <td>834.917206</td>\n",
       "      <td>31.694380</td>\n",
       "      <td>1159.616602</td>\n",
       "      <td>65.954214</td>\n",
       "      <td>917.897085</td>\n",
       "      <td>31.881972</td>\n",
       "      <td>31.504713</td>\n",
       "      <td>141.457644</td>\n",
       "      <td>165.501518</td>\n",
       "      <td>280.864782</td>\n",
       "      <td>7.057000</td>\n",
       "      <td>0.544082</td>\n",
       "      <td>Turbine_108</td>\n",
       "      <td>47.582787</td>\n",
       "    </tr>\n",
       "    <tr>\n",
       "      <th>1</th>\n",
       "      <td>419.107829</td>\n",
       "      <td>421.050873</td>\n",
       "      <td>12.894948</td>\n",
       "      <td>928.747996</td>\n",
       "      <td>59.571319</td>\n",
       "      <td>445.554250</td>\n",
       "      <td>32.423705</td>\n",
       "      <td>32.755770</td>\n",
       "      <td>89.186457</td>\n",
       "      <td>113.835236</td>\n",
       "      <td>299.552460</td>\n",
       "      <td>5.474937</td>\n",
       "      <td>0.469031</td>\n",
       "      <td>Turbine_18</td>\n",
       "      <td>46.070328</td>\n",
       "    </tr>\n",
       "    <tr>\n",
       "      <th>2</th>\n",
       "      <td>1303.530558</td>\n",
       "      <td>1337.566142</td>\n",
       "      <td>16.648388</td>\n",
       "      <td>1201.219775</td>\n",
       "      <td>61.270498</td>\n",
       "      <td>1364.716003</td>\n",
       "      <td>11.446849</td>\n",
       "      <td>18.332985</td>\n",
       "      <td>230.622309</td>\n",
       "      <td>281.452253</td>\n",
       "      <td>84.960106</td>\n",
       "      <td>8.092457</td>\n",
       "      <td>0.622318</td>\n",
       "      <td>Turbine_105</td>\n",
       "      <td>39.989236</td>\n",
       "    </tr>\n",
       "    <tr>\n",
       "      <th>3</th>\n",
       "      <td>61.494872</td>\n",
       "      <td>53.481008</td>\n",
       "      <td>28.388141</td>\n",
       "      <td>769.806122</td>\n",
       "      <td>40.674348</td>\n",
       "      <td>14.324897</td>\n",
       "      <td>34.253204</td>\n",
       "      <td>32.662889</td>\n",
       "      <td>66.211015</td>\n",
       "      <td>75.017531</td>\n",
       "      <td>87.261119</td>\n",
       "      <td>4.071032</td>\n",
       "      <td>0.760719</td>\n",
       "      <td>Turbine_15</td>\n",
       "      <td>46.056587</td>\n",
       "    </tr>\n",
       "    <tr>\n",
       "      <th>4</th>\n",
       "      <td>593.514364</td>\n",
       "      <td>611.659108</td>\n",
       "      <td>31.519527</td>\n",
       "      <td>1046.916768</td>\n",
       "      <td>64.341763</td>\n",
       "      <td>599.020172</td>\n",
       "      <td>32.405586</td>\n",
       "      <td>31.466387</td>\n",
       "      <td>137.163938</td>\n",
       "      <td>160.202421</td>\n",
       "      <td>313.724818</td>\n",
       "      <td>6.357943</td>\n",
       "      <td>0.346068</td>\n",
       "      <td>Turbine_01</td>\n",
       "      <td>54.346095</td>\n",
       "    </tr>\n",
       "  </tbody>\n",
       "</table>\n",
       "</div>"
      ],
      "text/plain": [
       "   active_power_calculated_by_converter  active_power_raw  \\\n",
       "0                            816.636759        834.917206   \n",
       "1                            419.107829        421.050873   \n",
       "2                           1303.530558       1337.566142   \n",
       "3                             61.494872         53.481008   \n",
       "4                            593.514364        611.659108   \n",
       "\n",
       "   ambient_temperature  generator_speed  generator_winding_temp_max  \\\n",
       "0            31.694380      1159.616602                   65.954214   \n",
       "1            12.894948       928.747996                   59.571319   \n",
       "2            16.648388      1201.219775                   61.270498   \n",
       "3            28.388141       769.806122                   40.674348   \n",
       "4            31.519527      1046.916768                   64.341763   \n",
       "\n",
       "   grid_power10min_average  nc1_inside_temp  nacelle_temp  \\\n",
       "0               917.897085        31.881972     31.504713   \n",
       "1               445.554250        32.423705     32.755770   \n",
       "2              1364.716003        11.446849     18.332985   \n",
       "3                14.324897        34.253204     32.662889   \n",
       "4               599.020172        32.405586     31.466387   \n",
       "\n",
       "   reactice_power_calculated_by_converter  reactive_power  wind_direction_raw  \\\n",
       "0                              141.457644      165.501518          280.864782   \n",
       "1                               89.186457      113.835236          299.552460   \n",
       "2                              230.622309      281.452253           84.960106   \n",
       "3                               66.211015       75.017531           87.261119   \n",
       "4                              137.163938      160.202421          313.724818   \n",
       "\n",
       "   wind_speed_raw  wind_speed_turbulence   turbine_id     Target  \n",
       "0        7.057000               0.544082  Turbine_108  47.582787  \n",
       "1        5.474937               0.469031   Turbine_18  46.070328  \n",
       "2        8.092457               0.622318  Turbine_105  39.989236  \n",
       "3        4.071032               0.760719   Turbine_15  46.056587  \n",
       "4        6.357943               0.346068   Turbine_01  54.346095  "
      ]
     },
     "execution_count": 7,
     "metadata": {},
     "output_type": "execute_result"
    }
   ],
   "source": [
    "train.head()"
   ]
  },
  {
   "cell_type": "markdown",
   "metadata": {},
   "source": [
    "**Understanding and exploring the columns and dataset better**\n"
   ]
  },
  {
   "cell_type": "code",
   "execution_count": 8,
   "metadata": {},
   "outputs": [
    {
     "data": {
      "application/vnd.jupyter.widget-view+json": {
       "model_id": "48f0da76900a4c14bc6044851964a664",
       "version_major": 2,
       "version_minor": 0
      },
      "text/plain": [
       "Summarize dataset:   0%|          | 0/24 [00:00<?, ?it/s]"
      ]
     },
     "metadata": {},
     "output_type": "display_data"
    },
    {
     "data": {
      "application/vnd.jupyter.widget-view+json": {
       "model_id": "84e31f5b11674419b01094b811323220",
       "version_major": 2,
       "version_minor": 0
      },
      "text/plain": [
       "Generate report structure:   0%|          | 0/1 [00:00<?, ?it/s]"
      ]
     },
     "metadata": {},
     "output_type": "display_data"
    },
    {
     "data": {
      "application/vnd.jupyter.widget-view+json": {
       "model_id": "73a4f12d6a5c462d8b1db8606052813d",
       "version_major": 2,
       "version_minor": 0
      },
      "text/plain": [
       "Render HTML:   0%|          | 0/1 [00:00<?, ?it/s]"
      ]
     },
     "metadata": {},
     "output_type": "display_data"
    },
    {
     "data": {
      "application/vnd.jupyter.widget-view+json": {
       "model_id": "f468f0b1742f4d188b0e1f21441bf1be",
       "version_major": 2,
       "version_minor": 0
      },
      "text/plain": [
       "Export report to file:   0%|          | 0/1 [00:00<?, ?it/s]"
      ]
     },
     "metadata": {},
     "output_type": "display_data"
    }
   ],
   "source": [
    "DataProfile = ProfileReport(train, title = \"Wind Turbine Data Profile Report\", explorative=True, minimal=True)\n",
    "DataProfile.to_file(output_file=\"./DataProfile.html\")"
   ]
  },
  {
   "cell_type": "code",
   "execution_count": null,
   "metadata": {},
   "outputs": [],
   "source": [
    "train.describe()"
   ]
  },
  {
   "cell_type": "code",
   "execution_count": 63,
   "metadata": {},
   "outputs": [
    {
     "data": {
      "text/plain": [
       "active_power_calculated_by_converter      0\n",
       "active_power_raw                          0\n",
       "ambient_temperature                       0\n",
       "generator_speed                           0\n",
       "generator_winding_temp_max                0\n",
       "grid_power10min_average                   0\n",
       "nc1_inside_temp                           0\n",
       "nacelle_temp                              0\n",
       "reactice_power_calculated_by_converter    0\n",
       "reactive_power                            0\n",
       "wind_direction_raw                        0\n",
       "wind_speed_raw                            0\n",
       "wind_speed_turbulence                     0\n",
       "turbine_id                                0\n",
       "Target                                    0\n",
       "dtype: int64"
      ]
     },
     "execution_count": 63,
     "metadata": {},
     "output_type": "execute_result"
    }
   ],
   "source": [
    "# Check for null\n",
    "train.isnull().sum()"
   ]
  },
  {
   "cell_type": "code",
   "execution_count": 59,
   "metadata": {},
   "outputs": [
    {
     "data": {
      "image/png": "[encoded data removed]",
      "text/plain": [
       "<Figure size 720x144 with 2 Axes>"
      ]
     },
     "metadata": {},
     "output_type": "display_data"
    }
   ],
   "source": [
    "import warnings\n",
    "import scipy.stats as stats\n",
    "warnings.filterwarnings('ignore')\n",
    "\n",
    "plt.figure(figsize=(10,2))\n",
    "plt.subplot(121)\n",
    "sns.distplot(train['nc1_inside_temp'])\n",
    "plt.title('nc1_inside_temp PDF')\n",
    "plt.subplot(122)\n",
    "stats.probplot(train['nc1_inside_temp'], dist=\"norm\", plot=plt)\n",
    "plt.title('nc1_inside_temp QQ Plot')\n",
    "plt.show()"
   ]
  },
  {
   "cell_type": "markdown",
   "metadata": {},
   "source": [
    "There are no NULL values to deal with."
   ]
  },
  {
   "cell_type": "code",
   "execution_count": 64,
   "metadata": {},
   "outputs": [
    {
     "data": {
      "text/html": [
       "<div>\n",
       "<style scoped>\n",
       "    .dataframe tbody tr th:only-of-type {\n",
       "        vertical-align: middle;\n",
       "    }\n",
       "\n",
       "    .dataframe tbody tr th {\n",
       "        vertical-align: top;\n",
       "    }\n",
       "\n",
       "    .dataframe thead th {\n",
       "        text-align: right;\n",
       "    }\n",
       "</style>\n",
       "<table border=\"1\" class=\"dataframe\">\n",
       "  <thead>\n",
       "    <tr style=\"text-align: right;\">\n",
       "      <th></th>\n",
       "      <th>active_power_calculated_by_converter</th>\n",
       "      <th>active_power_raw</th>\n",
       "      <th>ambient_temperature</th>\n",
       "      <th>generator_speed</th>\n",
       "      <th>generator_winding_temp_max</th>\n",
       "      <th>grid_power10min_average</th>\n",
       "      <th>nc1_inside_temp</th>\n",
       "      <th>nacelle_temp</th>\n",
       "      <th>reactice_power_calculated_by_converter</th>\n",
       "      <th>reactive_power</th>\n",
       "      <th>wind_direction_raw</th>\n",
       "      <th>wind_speed_raw</th>\n",
       "      <th>wind_speed_turbulence</th>\n",
       "      <th>Target</th>\n",
       "    </tr>\n",
       "  </thead>\n",
       "  <tbody>\n",
       "    <tr>\n",
       "      <th>0</th>\n",
       "      <td>816.636759</td>\n",
       "      <td>834.917206</td>\n",
       "      <td>31.694380</td>\n",
       "      <td>1159.616602</td>\n",
       "      <td>65.954214</td>\n",
       "      <td>917.897085</td>\n",
       "      <td>31.881972</td>\n",
       "      <td>31.504713</td>\n",
       "      <td>141.457644</td>\n",
       "      <td>165.501518</td>\n",
       "      <td>280.864782</td>\n",
       "      <td>7.057000</td>\n",
       "      <td>0.544082</td>\n",
       "      <td>47.582787</td>\n",
       "    </tr>\n",
       "    <tr>\n",
       "      <th>1</th>\n",
       "      <td>419.107829</td>\n",
       "      <td>421.050873</td>\n",
       "      <td>12.894948</td>\n",
       "      <td>928.747996</td>\n",
       "      <td>59.571319</td>\n",
       "      <td>445.554250</td>\n",
       "      <td>32.423705</td>\n",
       "      <td>32.755770</td>\n",
       "      <td>89.186457</td>\n",
       "      <td>113.835236</td>\n",
       "      <td>299.552460</td>\n",
       "      <td>5.474937</td>\n",
       "      <td>0.469031</td>\n",
       "      <td>46.070328</td>\n",
       "    </tr>\n",
       "    <tr>\n",
       "      <th>2</th>\n",
       "      <td>1303.530558</td>\n",
       "      <td>1337.566142</td>\n",
       "      <td>16.648388</td>\n",
       "      <td>1201.219775</td>\n",
       "      <td>61.270498</td>\n",
       "      <td>1364.716003</td>\n",
       "      <td>11.446849</td>\n",
       "      <td>18.332985</td>\n",
       "      <td>230.622309</td>\n",
       "      <td>281.452253</td>\n",
       "      <td>84.960106</td>\n",
       "      <td>8.092457</td>\n",
       "      <td>0.622318</td>\n",
       "      <td>39.989236</td>\n",
       "    </tr>\n",
       "    <tr>\n",
       "      <th>3</th>\n",
       "      <td>61.494872</td>\n",
       "      <td>53.481008</td>\n",
       "      <td>28.388141</td>\n",
       "      <td>769.806122</td>\n",
       "      <td>40.674348</td>\n",
       "      <td>14.324897</td>\n",
       "      <td>34.253204</td>\n",
       "      <td>32.662889</td>\n",
       "      <td>66.211015</td>\n",
       "      <td>75.017531</td>\n",
       "      <td>87.261119</td>\n",
       "      <td>4.071032</td>\n",
       "      <td>0.760719</td>\n",
       "      <td>46.056587</td>\n",
       "    </tr>\n",
       "    <tr>\n",
       "      <th>4</th>\n",
       "      <td>593.514364</td>\n",
       "      <td>611.659108</td>\n",
       "      <td>31.519527</td>\n",
       "      <td>1046.916768</td>\n",
       "      <td>64.341763</td>\n",
       "      <td>599.020172</td>\n",
       "      <td>32.405586</td>\n",
       "      <td>31.466387</td>\n",
       "      <td>137.163938</td>\n",
       "      <td>160.202421</td>\n",
       "      <td>313.724818</td>\n",
       "      <td>6.357943</td>\n",
       "      <td>0.346068</td>\n",
       "      <td>54.346095</td>\n",
       "    </tr>\n",
       "  </tbody>\n",
       "</table>\n",
       "</div>"
      ],
      "text/plain": [
       "   active_power_calculated_by_converter  active_power_raw  \\\n",
       "0                            816.636759        834.917206   \n",
       "1                            419.107829        421.050873   \n",
       "2                           1303.530558       1337.566142   \n",
       "3                             61.494872         53.481008   \n",
       "4                            593.514364        611.659108   \n",
       "\n",
       "   ambient_temperature  generator_speed  generator_winding_temp_max  \\\n",
       "0            31.694380      1159.616602                   65.954214   \n",
       "1            12.894948       928.747996                   59.571319   \n",
       "2            16.648388      1201.219775                   61.270498   \n",
       "3            28.388141       769.806122                   40.674348   \n",
       "4            31.519527      1046.916768                   64.341763   \n",
       "\n",
       "   grid_power10min_average  nc1_inside_temp  nacelle_temp  \\\n",
       "0               917.897085        31.881972     31.504713   \n",
       "1               445.554250        32.423705     32.755770   \n",
       "2              1364.716003        11.446849     18.332985   \n",
       "3                14.324897        34.253204     32.662889   \n",
       "4               599.020172        32.405586     31.466387   \n",
       "\n",
       "   reactice_power_calculated_by_converter  reactive_power  wind_direction_raw  \\\n",
       "0                              141.457644      165.501518          280.864782   \n",
       "1                               89.186457      113.835236          299.552460   \n",
       "2                              230.622309      281.452253           84.960106   \n",
       "3                               66.211015       75.017531           87.261119   \n",
       "4                              137.163938      160.202421          313.724818   \n",
       "\n",
       "   wind_speed_raw  wind_speed_turbulence     Target  \n",
       "0        7.057000               0.544082  47.582787  \n",
       "1        5.474937               0.469031  46.070328  \n",
       "2        8.092457               0.622318  39.989236  \n",
       "3        4.071032               0.760719  46.056587  \n",
       "4        6.357943               0.346068  54.346095  "
      ]
     },
     "execution_count": 64,
     "metadata": {},
     "output_type": "execute_result"
    }
   ],
   "source": [
    "# Creating a Numerical dataframe and omitting Timestamp column\n",
    "train_num = train.select_dtypes([\"float64\", \"int64\"])\n",
    "train_num.head()"
   ]
  },
  {
   "cell_type": "markdown",
   "metadata": {},
   "source": [
    "**DATA VISUALIZATION**"
   ]
  },
  {
   "cell_type": "code",
   "execution_count": 65,
   "metadata": {},
   "outputs": [
    {
     "data": {
      "image/png": "[encoded data removed]",
      "text/plain": [
       "<Figure size 1440x1152 with 14 Axes>"
      ]
     },
     "metadata": {},
     "output_type": "display_data"
    }
   ],
   "source": [
    "# Plotting the distributions of the numerical features\n",
    "plt.figure(figsize=(20,16))\n",
    "\n",
    "for i, col in enumerate(list(train_num)):\n",
    "    plt.subplot(4,4,i+1)\n",
    "    sns.distplot(train_num[col], color='b', kde=True, label='data')\n",
    "    plt.grid()\n",
    "    plt.tight_layout()"
   ]
  },
  {
   "cell_type": "markdown",
   "metadata": {},
   "source": [
    "Most of them are all normally distributed; especially the target variable ('Target'). We will look at auto-correlation of features to see if there are some that can be eliminated to ensure we work with most relevant features that impact the Target variable."
   ]
  },
  {
   "cell_type": "code",
   "execution_count": 66,
   "metadata": {},
   "outputs": [],
   "source": [
    "num_features = ['active_power_calculated_by_converter', 'active_power_raw',\n",
    "       'ambient_temperature', 'generator_speed', 'generator_winding_temp_max',\n",
    "       'grid_power10min_average', 'nc1_inside_temp', 'nacelle_temp',\n",
    "       'reactice_power_calculated_by_converter', 'reactive_power',\n",
    "       'wind_direction_raw', 'wind_speed_raw', 'wind_speed_turbulence']"
   ]
  },
  {
   "cell_type": "code",
   "execution_count": 67,
   "metadata": {},
   "outputs": [],
   "source": [
    "for x in num_features:\n",
    "    \n",
    "    train[x] = train[x].apply(lambda t : 0.000001 if t <= 0 else t)\n",
    "    \n",
    "    train[x] = np.log(train[x])"
   ]
  },
  {
   "cell_type": "code",
   "execution_count": 68,
   "metadata": {},
   "outputs": [
    {
     "data": {
      "text/html": [
       "<div>\n",
       "<style scoped>\n",
       "    .dataframe tbody tr th:only-of-type {\n",
       "        vertical-align: middle;\n",
       "    }\n",
       "\n",
       "    .dataframe tbody tr th {\n",
       "        vertical-align: top;\n",
       "    }\n",
       "\n",
       "    .dataframe thead th {\n",
       "        text-align: right;\n",
       "    }\n",
       "</style>\n",
       "<table border=\"1\" class=\"dataframe\">\n",
       "  <thead>\n",
       "    <tr style=\"text-align: right;\">\n",
       "      <th></th>\n",
       "      <th>active_power_calculated_by_converter</th>\n",
       "      <th>active_power_raw</th>\n",
       "      <th>ambient_temperature</th>\n",
       "      <th>generator_speed</th>\n",
       "      <th>generator_winding_temp_max</th>\n",
       "      <th>grid_power10min_average</th>\n",
       "      <th>nc1_inside_temp</th>\n",
       "      <th>nacelle_temp</th>\n",
       "      <th>reactice_power_calculated_by_converter</th>\n",
       "      <th>reactive_power</th>\n",
       "      <th>wind_direction_raw</th>\n",
       "      <th>wind_speed_raw</th>\n",
       "      <th>wind_speed_turbulence</th>\n",
       "      <th>turbine_id</th>\n",
       "      <th>Target</th>\n",
       "    </tr>\n",
       "  </thead>\n",
       "  <tbody>\n",
       "    <tr>\n",
       "      <th>0</th>\n",
       "      <td>6.705194</td>\n",
       "      <td>6.727333</td>\n",
       "      <td>3.456139</td>\n",
       "      <td>7.055845</td>\n",
       "      <td>4.188961</td>\n",
       "      <td>6.822085</td>\n",
       "      <td>3.462041</td>\n",
       "      <td>3.450137</td>\n",
       "      <td>4.952000</td>\n",
       "      <td>5.108980</td>\n",
       "      <td>5.637873</td>\n",
       "      <td>1.954020</td>\n",
       "      <td>-0.608656</td>\n",
       "      <td>Turbine_108</td>\n",
       "      <td>47.582787</td>\n",
       "    </tr>\n",
       "    <tr>\n",
       "      <th>1</th>\n",
       "      <td>6.038128</td>\n",
       "      <td>6.042754</td>\n",
       "      <td>2.556836</td>\n",
       "      <td>6.833837</td>\n",
       "      <td>4.087174</td>\n",
       "      <td>6.099319</td>\n",
       "      <td>3.478890</td>\n",
       "      <td>3.489079</td>\n",
       "      <td>4.490729</td>\n",
       "      <td>4.734752</td>\n",
       "      <td>5.702290</td>\n",
       "      <td>1.700181</td>\n",
       "      <td>-0.757086</td>\n",
       "      <td>Turbine_18</td>\n",
       "      <td>46.070328</td>\n",
       "    </tr>\n",
       "    <tr>\n",
       "      <th>2</th>\n",
       "      <td>7.172832</td>\n",
       "      <td>7.198607</td>\n",
       "      <td>2.812313</td>\n",
       "      <td>7.091093</td>\n",
       "      <td>4.115298</td>\n",
       "      <td>7.218702</td>\n",
       "      <td>2.437714</td>\n",
       "      <td>2.908702</td>\n",
       "      <td>5.440781</td>\n",
       "      <td>5.639963</td>\n",
       "      <td>4.442182</td>\n",
       "      <td>2.090932</td>\n",
       "      <td>-0.474304</td>\n",
       "      <td>Turbine_105</td>\n",
       "      <td>39.989236</td>\n",
       "    </tr>\n",
       "    <tr>\n",
       "      <th>3</th>\n",
       "      <td>4.118954</td>\n",
       "      <td>3.979327</td>\n",
       "      <td>3.345971</td>\n",
       "      <td>6.646139</td>\n",
       "      <td>3.705598</td>\n",
       "      <td>2.661999</td>\n",
       "      <td>3.533780</td>\n",
       "      <td>3.486240</td>\n",
       "      <td>4.192847</td>\n",
       "      <td>4.317722</td>\n",
       "      <td>4.468905</td>\n",
       "      <td>1.403897</td>\n",
       "      <td>-0.273491</td>\n",
       "      <td>Turbine_15</td>\n",
       "      <td>46.056587</td>\n",
       "    </tr>\n",
       "    <tr>\n",
       "      <th>4</th>\n",
       "      <td>6.386061</td>\n",
       "      <td>6.416175</td>\n",
       "      <td>3.450607</td>\n",
       "      <td>6.953605</td>\n",
       "      <td>4.164209</td>\n",
       "      <td>6.395295</td>\n",
       "      <td>3.478331</td>\n",
       "      <td>3.448920</td>\n",
       "      <td>4.921177</td>\n",
       "      <td>5.076438</td>\n",
       "      <td>5.748516</td>\n",
       "      <td>1.849705</td>\n",
       "      <td>-1.061119</td>\n",
       "      <td>Turbine_01</td>\n",
       "      <td>54.346095</td>\n",
       "    </tr>\n",
       "    <tr>\n",
       "      <th>...</th>\n",
       "      <td>...</td>\n",
       "      <td>...</td>\n",
       "      <td>...</td>\n",
       "      <td>...</td>\n",
       "      <td>...</td>\n",
       "      <td>...</td>\n",
       "      <td>...</td>\n",
       "      <td>...</td>\n",
       "      <td>...</td>\n",
       "      <td>...</td>\n",
       "      <td>...</td>\n",
       "      <td>...</td>\n",
       "      <td>...</td>\n",
       "      <td>...</td>\n",
       "      <td>...</td>\n",
       "    </tr>\n",
       "    <tr>\n",
       "      <th>909599</th>\n",
       "      <td>6.834218</td>\n",
       "      <td>6.854821</td>\n",
       "      <td>3.488478</td>\n",
       "      <td>7.079440</td>\n",
       "      <td>4.421093</td>\n",
       "      <td>7.202900</td>\n",
       "      <td>3.474801</td>\n",
       "      <td>3.559689</td>\n",
       "      <td>5.025303</td>\n",
       "      <td>5.252738</td>\n",
       "      <td>5.246507</td>\n",
       "      <td>1.967859</td>\n",
       "      <td>0.028548</td>\n",
       "      <td>Turbine_13</td>\n",
       "      <td>50.768675</td>\n",
       "    </tr>\n",
       "    <tr>\n",
       "      <th>909600</th>\n",
       "      <td>4.612449</td>\n",
       "      <td>4.485199</td>\n",
       "      <td>3.419054</td>\n",
       "      <td>6.646709</td>\n",
       "      <td>4.029548</td>\n",
       "      <td>5.179650</td>\n",
       "      <td>3.415570</td>\n",
       "      <td>3.398933</td>\n",
       "      <td>4.446797</td>\n",
       "      <td>4.570803</td>\n",
       "      <td>4.537080</td>\n",
       "      <td>1.416243</td>\n",
       "      <td>-0.517726</td>\n",
       "      <td>Turbine_158</td>\n",
       "      <td>44.234821</td>\n",
       "    </tr>\n",
       "    <tr>\n",
       "      <th>909601</th>\n",
       "      <td>7.021901</td>\n",
       "      <td>7.060491</td>\n",
       "      <td>3.430793</td>\n",
       "      <td>7.065149</td>\n",
       "      <td>4.142229</td>\n",
       "      <td>6.772410</td>\n",
       "      <td>3.417458</td>\n",
       "      <td>3.499085</td>\n",
       "      <td>3.757010</td>\n",
       "      <td>4.305566</td>\n",
       "      <td>5.442367</td>\n",
       "      <td>2.146127</td>\n",
       "      <td>-0.049988</td>\n",
       "      <td>Turbine_15</td>\n",
       "      <td>46.942486</td>\n",
       "    </tr>\n",
       "    <tr>\n",
       "      <th>909602</th>\n",
       "      <td>4.815792</td>\n",
       "      <td>4.754167</td>\n",
       "      <td>3.487312</td>\n",
       "      <td>6.646638</td>\n",
       "      <td>4.047344</td>\n",
       "      <td>4.562948</td>\n",
       "      <td>3.476269</td>\n",
       "      <td>3.450793</td>\n",
       "      <td>4.460712</td>\n",
       "      <td>4.579555</td>\n",
       "      <td>4.180657</td>\n",
       "      <td>1.464196</td>\n",
       "      <td>-1.397013</td>\n",
       "      <td>Turbine_97</td>\n",
       "      <td>46.392221</td>\n",
       "    </tr>\n",
       "    <tr>\n",
       "      <th>909603</th>\n",
       "      <td>1.577565</td>\n",
       "      <td>2.377668</td>\n",
       "      <td>2.967977</td>\n",
       "      <td>6.602047</td>\n",
       "      <td>4.104359</td>\n",
       "      <td>4.363860</td>\n",
       "      <td>3.427480</td>\n",
       "      <td>3.644201</td>\n",
       "      <td>1.016400</td>\n",
       "      <td>0.277782</td>\n",
       "      <td>2.409441</td>\n",
       "      <td>0.701832</td>\n",
       "      <td>-0.037671</td>\n",
       "      <td>Turbine_105</td>\n",
       "      <td>48.902180</td>\n",
       "    </tr>\n",
       "  </tbody>\n",
       "</table>\n",
       "<p>909604 rows × 15 columns</p>\n",
       "</div>"
      ],
      "text/plain": [
       "        active_power_calculated_by_converter  active_power_raw  \\\n",
       "0                                   6.705194          6.727333   \n",
       "1                                   6.038128          6.042754   \n",
       "2                                   7.172832          7.198607   \n",
       "3                                   4.118954          3.979327   \n",
       "4                                   6.386061          6.416175   \n",
       "...                                      ...               ...   \n",
       "909599                              6.834218          6.854821   \n",
       "909600                              4.612449          4.485199   \n",
       "909601                              7.021901          7.060491   \n",
       "909602                              4.815792          4.754167   \n",
       "909603                              1.577565          2.377668   \n",
       "\n",
       "        ambient_temperature  generator_speed  generator_winding_temp_max  \\\n",
       "0                  3.456139         7.055845                    4.188961   \n",
       "1                  2.556836         6.833837                    4.087174   \n",
       "2                  2.812313         7.091093                    4.115298   \n",
       "3                  3.345971         6.646139                    3.705598   \n",
       "4                  3.450607         6.953605                    4.164209   \n",
       "...                     ...              ...                         ...   \n",
       "909599             3.488478         7.079440                    4.421093   \n",
       "909600             3.419054         6.646709                    4.029548   \n",
       "909601             3.430793         7.065149                    4.142229   \n",
       "909602             3.487312         6.646638                    4.047344   \n",
       "909603             2.967977         6.602047                    4.104359   \n",
       "\n",
       "        grid_power10min_average  nc1_inside_temp  nacelle_temp  \\\n",
       "0                      6.822085         3.462041      3.450137   \n",
       "1                      6.099319         3.478890      3.489079   \n",
       "2                      7.218702         2.437714      2.908702   \n",
       "3                      2.661999         3.533780      3.486240   \n",
       "4                      6.395295         3.478331      3.448920   \n",
       "...                         ...              ...           ...   \n",
       "909599                 7.202900         3.474801      3.559689   \n",
       "909600                 5.179650         3.415570      3.398933   \n",
       "909601                 6.772410         3.417458      3.499085   \n",
       "909602                 4.562948         3.476269      3.450793   \n",
       "909603                 4.363860         3.427480      3.644201   \n",
       "\n",
       "        reactice_power_calculated_by_converter  reactive_power  \\\n",
       "0                                     4.952000        5.108980   \n",
       "1                                     4.490729        4.734752   \n",
       "2                                     5.440781        5.639963   \n",
       "3                                     4.192847        4.317722   \n",
       "4                                     4.921177        5.076438   \n",
       "...                                        ...             ...   \n",
       "909599                                5.025303        5.252738   \n",
       "909600                                4.446797        4.570803   \n",
       "909601                                3.757010        4.305566   \n",
       "909602                                4.460712        4.579555   \n",
       "909603                                1.016400        0.277782   \n",
       "\n",
       "        wind_direction_raw  wind_speed_raw  wind_speed_turbulence  \\\n",
       "0                 5.637873        1.954020              -0.608656   \n",
       "1                 5.702290        1.700181              -0.757086   \n",
       "2                 4.442182        2.090932              -0.474304   \n",
       "3                 4.468905        1.403897              -0.273491   \n",
       "4                 5.748516        1.849705              -1.061119   \n",
       "...                    ...             ...                    ...   \n",
       "909599            5.246507        1.967859               0.028548   \n",
       "909600            4.537080        1.416243              -0.517726   \n",
       "909601            5.442367        2.146127              -0.049988   \n",
       "909602            4.180657        1.464196              -1.397013   \n",
       "909603            2.409441        0.701832              -0.037671   \n",
       "\n",
       "         turbine_id     Target  \n",
       "0       Turbine_108  47.582787  \n",
       "1        Turbine_18  46.070328  \n",
       "2       Turbine_105  39.989236  \n",
       "3        Turbine_15  46.056587  \n",
       "4        Turbine_01  54.346095  \n",
       "...             ...        ...  \n",
       "909599   Turbine_13  50.768675  \n",
       "909600  Turbine_158  44.234821  \n",
       "909601   Turbine_15  46.942486  \n",
       "909602   Turbine_97  46.392221  \n",
       "909603  Turbine_105  48.902180  \n",
       "\n",
       "[909604 rows x 15 columns]"
      ]
     },
     "execution_count": 68,
     "metadata": {},
     "output_type": "execute_result"
    }
   ],
   "source": [
    "train"
   ]
  },
  {
   "cell_type": "markdown",
   "metadata": {},
   "source": [
    "**FEATURE SELECTION**"
   ]
  },
  {
   "cell_type": "code",
   "execution_count": 69,
   "metadata": {},
   "outputs": [
    {
     "data": {
      "text/plain": [
       "Index(['active_power_calculated_by_converter', 'active_power_raw',\n",
       "       'ambient_temperature', 'generator_speed', 'generator_winding_temp_max',\n",
       "       'grid_power10min_average', 'nc1_inside_temp', 'nacelle_temp',\n",
       "       'reactice_power_calculated_by_converter', 'reactive_power',\n",
       "       'wind_direction_raw', 'wind_speed_raw', 'wind_speed_turbulence',\n",
       "       'turbine_id', 'Target'],\n",
       "      dtype='object')"
      ]
     },
     "execution_count": 69,
     "metadata": {},
     "output_type": "execute_result"
    }
   ],
   "source": [
    "train.columns"
   ]
  },
  {
   "cell_type": "code",
   "execution_count": 70,
   "metadata": {},
   "outputs": [],
   "source": [
    "# We will omit the Timestamp column as this analysis does not seek to do a time-series based prediction\n",
    "\n",
    "num_cols = ['active_power_calculated_by_converter', 'active_power_raw',\n",
    "       'ambient_temperature', 'generator_speed', 'generator_winding_temp_max',\n",
    "       'grid_power10min_average', 'nc1_inside_temp', 'nacelle_temp',\n",
    "       'reactice_power_calculated_by_converter', 'reactive_power',\n",
    "       'wind_direction_raw', 'wind_speed_raw', 'wind_speed_turbulence']\n",
    "\n",
    "cat_cols = ['turbine_id']\n",
    "\n",
    "X = train[num_cols]\n",
    "y = train['Target']"
   ]
  },
  {
   "cell_type": "code",
   "execution_count": 71,
   "metadata": {},
   "outputs": [
    {
     "data": {
      "text/plain": [
       "13"
      ]
     },
     "execution_count": 71,
     "metadata": {},
     "output_type": "execute_result"
    }
   ],
   "source": [
    "X.shape[1]"
   ]
  },
  {
   "cell_type": "markdown",
   "metadata": {},
   "source": [
    "**Filter Method: SelectKBest with Pearson's f_regression**"
   ]
  },
  {
   "cell_type": "code",
   "execution_count": 73,
   "metadata": {},
   "outputs": [
    {
     "name": "stdout",
     "output_type": "stream",
     "text": [
      "                                   Feature  Pearsons Score\n",
      "7                             nacelle_temp   318276.891620\n",
      "2                      ambient_temperature   175134.720687\n",
      "4               generator_winding_temp_max    91161.727741\n",
      "6                          nc1_inside_temp    40050.969787\n",
      "12                   wind_speed_turbulence     5925.334239\n",
      "10                      wind_direction_raw     4985.705951\n",
      "11                          wind_speed_raw     4847.834573\n",
      "5                  grid_power10min_average     2339.974133\n",
      "0     active_power_calculated_by_converter     1785.647883\n",
      "1                         active_power_raw     1513.075870\n",
      "8   reactice_power_calculated_by_converter     1210.630686\n",
      "3                          generator_speed      673.008545\n",
      "9                           reactive_power      557.392202\n"
     ]
    }
   ],
   "source": [
    "from sklearn.feature_selection import SelectKBest\n",
    "from sklearn.feature_selection import f_regression\n",
    "from functools import partial\n",
    "\n",
    "best_features = SelectKBest(score_func=f_regression, k='all')\n",
    "fit = best_features.fit(X,y)\n",
    "\n",
    "feat_scores = pd.DataFrame({'Feature': X.columns, 'Pearsons Score' : fit.scores_})\n",
    "print(feat_scores.sort_values(by=['Pearsons Score'], ascending=False))"
   ]
  },
  {
   "cell_type": "code",
   "execution_count": 74,
   "metadata": {},
   "outputs": [
    {
     "name": "stdout",
     "output_type": "stream",
     "text": [
      "                                 Feature  Pearsons Score\n",
      "7                           nacelle_temp   318276.891620\n",
      "2                    ambient_temperature   175134.720687\n",
      "4             generator_winding_temp_max    91161.727741\n",
      "6                        nc1_inside_temp    40050.969787\n",
      "12                 wind_speed_turbulence     5925.334239\n",
      "10                    wind_direction_raw     4985.705951\n",
      "11                        wind_speed_raw     4847.834573\n",
      "5                grid_power10min_average     2339.974133\n",
      "0   active_power_calculated_by_converter     1785.647883\n",
      "1                       active_power_raw     1513.075870\n"
     ]
    }
   ],
   "source": [
    "selected_1 = feat_scores.nlargest(10, 'Pearsons Score')\n",
    "print(selected_1)"
   ]
  },
  {
   "cell_type": "markdown",
   "metadata": {},
   "source": [
    "**Correlation Method - Spearman's coeff**"
   ]
  },
  {
   "cell_type": "code",
   "execution_count": 75,
   "metadata": {},
   "outputs": [
    {
     "data": {
      "image/png": "[encoded data removed]",
      "text/plain": [
       "<Figure size 1800x864 with 2 Axes>"
      ]
     },
     "metadata": {},
     "output_type": "display_data"
    }
   ],
   "source": [
    "# Plotting a heatmap plot to get an initial sense of the features that impact Target variable (Temperature)\n",
    "from turtle import color\n",
    "plt.figure(figsize=(25,12))\n",
    "p = sns.heatmap(data=train_num.corr(method='spearman'), cmap='RdYlGn', annot=True, center=0)"
   ]
  },
  {
   "cell_type": "markdown",
   "metadata": {},
   "source": [
    "**Target vs Independent Variables correlation**\n",
    "\n",
    "The target variable (Temperature denoted by column name 'Target') seems to be correlated by only a few, based on the coefficient values namely:\n",
    "* ambient temperature (+ve)\n",
    "* generator winding temperature max (+ve)\n",
    "* nacelle temp (+ve)\n",
    "* active_power_calculated_by_converter (-ve)\n",
    "* grid_power_10min_average (-ve)\n",
    "* reactice_power_calculated_by_converter (-ve)\n",
    "\n",
    "Quite a few features appear to be highly correlated to each other. We will work on Feature Selection further to reduce the dimensionality in the dataset and come with a set of features that appear to impact the target variable the most."
   ]
  },
  {
   "cell_type": "markdown",
   "metadata": {},
   "source": [
    "**Wrapper Methods for Feature Selection**\n",
    "\n",
    "* Sequential Feature Selector - Forward Selection \n",
    "* Backward Elimination - Recursive Feature Elimination (RFE)\n",
    "* Stepwise Selection: Bi-directional with a combination of Forward Selection & Backward Elimination"
   ]
  },
  {
   "cell_type": "code",
   "execution_count": 76,
   "metadata": {},
   "outputs": [],
   "source": [
    "from math import sqrt\n",
    "import xgboost as xgb\n",
    "from xgboost import XGBRegressor\n",
    "from sklearn.ensemble import AdaBoostRegressor\n",
    "from sklearn.ensemble import RandomForestRegressor\n",
    "from sklearn.ensemble import BaggingRegressor\n",
    "from sklearn.linear_model import LinearRegression\n",
    "from sklearn.neighbors import KNeighborsRegressor\n",
    "from sklearn.tree import DecisionTreeRegressor"
   ]
  },
  {
   "cell_type": "markdown",
   "metadata": {},
   "source": [
    "**Forward Selection Method - SFS() from Mlxtend**"
   ]
  },
  {
   "cell_type": "code",
   "execution_count": 77,
   "metadata": {},
   "outputs": [
    {
     "data": {
      "image/png": "[encoded data removed]",
      "text/plain": [
       "<Figure size 432x288 with 1 Axes>"
      ]
     },
     "metadata": {},
     "output_type": "display_data"
    }
   ],
   "source": [
    "# importing the necessary libraries\n",
    "from mlxtend.feature_selection import SequentialFeatureSelector as SFS\n",
    "from sklearn.linear_model import LinearRegression\n",
    "from mlxtend.plotting import plot_sequential_feature_selection as plot_sfs\n",
    "\n",
    "# Sequential Feature Selection (SFS)\n",
    "sfs = SFS(LinearRegression(), k_features=13, forward=True, floating=False, scoring='r2', cv=5)\n",
    "sfs.fit(X, y)\n",
    "fig = plot_sfs(sfs.get_metric_dict(), kind='std_err')\n",
    "\n",
    "plt.title('Sequential Forward Selection (w. StdErr)')\n",
    "plt.grid()\n",
    "plt.show()\n",
    "\n",
    "#sfs.k_feature_names_ # to get the final set of features"
   ]
  },
  {
   "cell_type": "markdown",
   "metadata": {},
   "source": [
    "We can see that the performance fairly remains same after k_features reaches around 10 or 11. We will identify those 10 features next."
   ]
  },
  {
   "cell_type": "code",
   "execution_count": 78,
   "metadata": {},
   "outputs": [
    {
     "name": "stdout",
     "output_type": "stream",
     "text": [
      "                                Feature\n",
      "0  active_power_calculated_by_converter\n",
      "1                   ambient_temperature\n",
      "2            generator_winding_temp_max\n",
      "3               grid_power10min_average\n",
      "4                       nc1_inside_temp\n",
      "5                          nacelle_temp\n",
      "6                        reactive_power\n",
      "7                    wind_direction_raw\n",
      "8                        wind_speed_raw\n",
      "9                 wind_speed_turbulence\n"
     ]
    }
   ],
   "source": [
    "sfs = SFS(LinearRegression(), k_features=10, forward=True, floating=False, scoring='r2', cv=5)\n",
    "sfs.fit(X, y)\n",
    "#sfs.subsets_\n",
    "selected_2 = pd.DataFrame({'Feature' : sfs.k_feature_names_})\n",
    "print(selected_2)"
   ]
  },
  {
   "cell_type": "markdown",
   "metadata": {},
   "source": [
    "**Backward Elimination: Recursive Forward Elimination Method RFE() from Sklearn**"
   ]
  },
  {
   "cell_type": "code",
   "execution_count": 79,
   "metadata": {},
   "outputs": [
    {
     "data": {
      "text/html": [
       "<div>\n",
       "<style scoped>\n",
       "    .dataframe tbody tr th:only-of-type {\n",
       "        vertical-align: middle;\n",
       "    }\n",
       "\n",
       "    .dataframe tbody tr th {\n",
       "        vertical-align: top;\n",
       "    }\n",
       "\n",
       "    .dataframe thead th {\n",
       "        text-align: right;\n",
       "    }\n",
       "</style>\n",
       "<table border=\"1\" class=\"dataframe\">\n",
       "  <thead>\n",
       "    <tr style=\"text-align: right;\">\n",
       "      <th></th>\n",
       "      <th>Feature</th>\n",
       "      <th>Selected</th>\n",
       "      <th>RFE_Ranking</th>\n",
       "    </tr>\n",
       "    <tr>\n",
       "      <th>Columns</th>\n",
       "      <th></th>\n",
       "      <th></th>\n",
       "      <th></th>\n",
       "    </tr>\n",
       "  </thead>\n",
       "  <tbody>\n",
       "    <tr>\n",
       "      <th>0</th>\n",
       "      <td>active_power_calculated_by_converter</td>\n",
       "      <td>False</td>\n",
       "      <td>3</td>\n",
       "    </tr>\n",
       "    <tr>\n",
       "      <th>1</th>\n",
       "      <td>active_power_raw</td>\n",
       "      <td>False</td>\n",
       "      <td>7</td>\n",
       "    </tr>\n",
       "    <tr>\n",
       "      <th>2</th>\n",
       "      <td>ambient_temperature</td>\n",
       "      <td>True</td>\n",
       "      <td>1</td>\n",
       "    </tr>\n",
       "    <tr>\n",
       "      <th>3</th>\n",
       "      <td>generator_speed</td>\n",
       "      <td>False</td>\n",
       "      <td>4</td>\n",
       "    </tr>\n",
       "    <tr>\n",
       "      <th>4</th>\n",
       "      <td>generator_winding_temp_max</td>\n",
       "      <td>True</td>\n",
       "      <td>1</td>\n",
       "    </tr>\n",
       "    <tr>\n",
       "      <th>5</th>\n",
       "      <td>grid_power10min_average</td>\n",
       "      <td>False</td>\n",
       "      <td>2</td>\n",
       "    </tr>\n",
       "    <tr>\n",
       "      <th>6</th>\n",
       "      <td>nc1_inside_temp</td>\n",
       "      <td>True</td>\n",
       "      <td>1</td>\n",
       "    </tr>\n",
       "    <tr>\n",
       "      <th>7</th>\n",
       "      <td>nacelle_temp</td>\n",
       "      <td>True</td>\n",
       "      <td>1</td>\n",
       "    </tr>\n",
       "    <tr>\n",
       "      <th>8</th>\n",
       "      <td>reactice_power_calculated_by_converter</td>\n",
       "      <td>False</td>\n",
       "      <td>8</td>\n",
       "    </tr>\n",
       "    <tr>\n",
       "      <th>9</th>\n",
       "      <td>reactive_power</td>\n",
       "      <td>False</td>\n",
       "      <td>6</td>\n",
       "    </tr>\n",
       "    <tr>\n",
       "      <th>10</th>\n",
       "      <td>wind_direction_raw</td>\n",
       "      <td>False</td>\n",
       "      <td>5</td>\n",
       "    </tr>\n",
       "    <tr>\n",
       "      <th>11</th>\n",
       "      <td>wind_speed_raw</td>\n",
       "      <td>True</td>\n",
       "      <td>1</td>\n",
       "    </tr>\n",
       "    <tr>\n",
       "      <th>12</th>\n",
       "      <td>wind_speed_turbulence</td>\n",
       "      <td>True</td>\n",
       "      <td>1</td>\n",
       "    </tr>\n",
       "  </tbody>\n",
       "</table>\n",
       "</div>"
      ],
      "text/plain": [
       "                                        Feature  Selected  RFE_Ranking\n",
       "Columns                                                               \n",
       "0          active_power_calculated_by_converter     False            3\n",
       "1                              active_power_raw     False            7\n",
       "2                           ambient_temperature      True            1\n",
       "3                               generator_speed     False            4\n",
       "4                    generator_winding_temp_max      True            1\n",
       "5                       grid_power10min_average     False            2\n",
       "6                               nc1_inside_temp      True            1\n",
       "7                                  nacelle_temp      True            1\n",
       "8        reactice_power_calculated_by_converter     False            8\n",
       "9                                reactive_power     False            6\n",
       "10                           wind_direction_raw     False            5\n",
       "11                               wind_speed_raw      True            1\n",
       "12                        wind_speed_turbulence      True            1"
      ]
     },
     "execution_count": 79,
     "metadata": {},
     "output_type": "execute_result"
    }
   ],
   "source": [
    "from sklearn.feature_selection import RFE\n",
    "from sklearn.feature_selection import RFECV\n",
    "np.random.seed(123)\n",
    "#names = pd.DataFrame(X.columns)\n",
    "model = LinearRegression()\n",
    "\n",
    "#Define RFE with 8 features to be selected as per the plot above\n",
    "rfe = RFE(model, step=1) \n",
    "my_values = rfe.fit(X,y)\n",
    "\n",
    "#Create a dataframe for the results\n",
    "df_RFE_results = []\n",
    "for i in range(X.shape[1]):\n",
    "    df_RFE_results.append(\n",
    "        {\n",
    "            'Feature' : num_cols[i],\n",
    "            'Selected' : my_values.support_[i],\n",
    "            'RFE_Ranking' : my_values.ranking_[i]\n",
    "        }\n",
    "    )\n",
    "\n",
    "df_RFE_results = pd.DataFrame(df_RFE_results)\n",
    "df_RFE_results.index.name = 'Columns'\n",
    "df_RFE_results"
   ]
  },
  {
   "cell_type": "code",
   "execution_count": 80,
   "metadata": {},
   "outputs": [
    {
     "name": "stdout",
     "output_type": "stream",
     "text": [
      "                            Feature  Selected  RFE_Ranking\n",
      "Columns                                                   \n",
      "2               ambient_temperature      True            1\n",
      "4        generator_winding_temp_max      True            1\n",
      "6                   nc1_inside_temp      True            1\n",
      "7                      nacelle_temp      True            1\n",
      "11                   wind_speed_raw      True            1\n",
      "12            wind_speed_turbulence      True            1\n"
     ]
    }
   ],
   "source": [
    "selected_3 = df_RFE_results[df_RFE_results['RFE_Ranking'] == 1]\n",
    "print(selected_3)"
   ]
  },
  {
   "cell_type": "code",
   "execution_count": 81,
   "metadata": {},
   "outputs": [
    {
     "data": {
      "text/html": [
       "<div>\n",
       "<style scoped>\n",
       "    .dataframe tbody tr th:only-of-type {\n",
       "        vertical-align: middle;\n",
       "    }\n",
       "\n",
       "    .dataframe tbody tr th {\n",
       "        vertical-align: top;\n",
       "    }\n",
       "\n",
       "    .dataframe thead th {\n",
       "        text-align: right;\n",
       "    }\n",
       "</style>\n",
       "<table border=\"1\" class=\"dataframe\">\n",
       "  <thead>\n",
       "    <tr style=\"text-align: right;\">\n",
       "      <th></th>\n",
       "      <th>Feature</th>\n",
       "      <th>Selected</th>\n",
       "      <th>RFE_Ranking</th>\n",
       "    </tr>\n",
       "    <tr>\n",
       "      <th>Columns</th>\n",
       "      <th></th>\n",
       "      <th></th>\n",
       "      <th></th>\n",
       "    </tr>\n",
       "  </thead>\n",
       "  <tbody>\n",
       "    <tr>\n",
       "      <th>0</th>\n",
       "      <td>active_power_calculated_by_converter</td>\n",
       "      <td>False</td>\n",
       "      <td>4</td>\n",
       "    </tr>\n",
       "    <tr>\n",
       "      <th>1</th>\n",
       "      <td>active_power_raw</td>\n",
       "      <td>True</td>\n",
       "      <td>1</td>\n",
       "    </tr>\n",
       "    <tr>\n",
       "      <th>2</th>\n",
       "      <td>ambient_temperature</td>\n",
       "      <td>True</td>\n",
       "      <td>1</td>\n",
       "    </tr>\n",
       "    <tr>\n",
       "      <th>3</th>\n",
       "      <td>generator_speed</td>\n",
       "      <td>True</td>\n",
       "      <td>1</td>\n",
       "    </tr>\n",
       "    <tr>\n",
       "      <th>4</th>\n",
       "      <td>generator_winding_temp_max</td>\n",
       "      <td>True</td>\n",
       "      <td>1</td>\n",
       "    </tr>\n",
       "    <tr>\n",
       "      <th>5</th>\n",
       "      <td>grid_power10min_average</td>\n",
       "      <td>False</td>\n",
       "      <td>3</td>\n",
       "    </tr>\n",
       "    <tr>\n",
       "      <th>6</th>\n",
       "      <td>nc1_inside_temp</td>\n",
       "      <td>False</td>\n",
       "      <td>7</td>\n",
       "    </tr>\n",
       "    <tr>\n",
       "      <th>7</th>\n",
       "      <td>nacelle_temp</td>\n",
       "      <td>True</td>\n",
       "      <td>1</td>\n",
       "    </tr>\n",
       "    <tr>\n",
       "      <th>8</th>\n",
       "      <td>reactice_power_calculated_by_converter</td>\n",
       "      <td>False</td>\n",
       "      <td>5</td>\n",
       "    </tr>\n",
       "    <tr>\n",
       "      <th>9</th>\n",
       "      <td>reactive_power</td>\n",
       "      <td>False</td>\n",
       "      <td>8</td>\n",
       "    </tr>\n",
       "    <tr>\n",
       "      <th>10</th>\n",
       "      <td>wind_direction_raw</td>\n",
       "      <td>False</td>\n",
       "      <td>6</td>\n",
       "    </tr>\n",
       "    <tr>\n",
       "      <th>11</th>\n",
       "      <td>wind_speed_raw</td>\n",
       "      <td>True</td>\n",
       "      <td>1</td>\n",
       "    </tr>\n",
       "    <tr>\n",
       "      <th>12</th>\n",
       "      <td>wind_speed_turbulence</td>\n",
       "      <td>False</td>\n",
       "      <td>2</td>\n",
       "    </tr>\n",
       "  </tbody>\n",
       "</table>\n",
       "</div>"
      ],
      "text/plain": [
       "                                        Feature  Selected  RFE_Ranking\n",
       "Columns                                                               \n",
       "0          active_power_calculated_by_converter     False            4\n",
       "1                              active_power_raw      True            1\n",
       "2                           ambient_temperature      True            1\n",
       "3                               generator_speed      True            1\n",
       "4                    generator_winding_temp_max      True            1\n",
       "5                       grid_power10min_average     False            3\n",
       "6                               nc1_inside_temp     False            7\n",
       "7                                  nacelle_temp      True            1\n",
       "8        reactice_power_calculated_by_converter     False            5\n",
       "9                                reactive_power     False            8\n",
       "10                           wind_direction_raw     False            6\n",
       "11                               wind_speed_raw      True            1\n",
       "12                        wind_speed_turbulence     False            2"
      ]
     },
     "execution_count": 81,
     "metadata": {},
     "output_type": "execute_result"
    }
   ],
   "source": [
    "model1 = XGBRegressor(booster='gblinear')\n",
    "rfe1 = RFE(model1, step=1) \n",
    "my_values_xg = rfe1.fit(X,y)\n",
    "\n",
    "#Create a dataframe for the results\n",
    "df_RFE_xgresults = []\n",
    "for i in range(X.shape[1]):\n",
    "    df_RFE_xgresults.append(\n",
    "        {\n",
    "            'Feature' : num_cols[i],\n",
    "            'Selected' : my_values_xg.support_[i],\n",
    "            'RFE_Ranking' : my_values_xg.ranking_[i]\n",
    "        }\n",
    "    )\n",
    "\n",
    "df_RFE_xgresults = pd.DataFrame(df_RFE_xgresults)\n",
    "df_RFE_xgresults.index.name = 'Columns'\n",
    "df_RFE_xgresults"
   ]
  },
  {
   "cell_type": "code",
   "execution_count": 82,
   "metadata": {},
   "outputs": [
    {
     "name": "stdout",
     "output_type": "stream",
     "text": [
      "                            Feature  Selected  RFE_Ranking\n",
      "Columns                                                   \n",
      "1                  active_power_raw      True            1\n",
      "2               ambient_temperature      True            1\n",
      "3                   generator_speed      True            1\n",
      "4        generator_winding_temp_max      True            1\n",
      "7                      nacelle_temp      True            1\n",
      "11                   wind_speed_raw      True            1\n"
     ]
    }
   ],
   "source": [
    "selected_4 = df_RFE_xgresults[df_RFE_xgresults['RFE_Ranking'] == 1]\n",
    "print(selected_4)"
   ]
  },
  {
   "cell_type": "markdown",
   "metadata": {},
   "source": [
    "**Stepwise Elimination**"
   ]
  },
  {
   "cell_type": "code",
   "execution_count": 83,
   "metadata": {},
   "outputs": [
    {
     "name": "stdout",
     "output_type": "stream",
     "text": [
      "        Feature\n",
      "0  nacelle_temp\n"
     ]
    }
   ],
   "source": [
    "sffs = SFS(LinearRegression(), forward=True, floating=True, scoring='r2', cv=5)\n",
    "sffs.fit(X, y)\n",
    "#sfs.subsets_\n",
    "selected_5 = pd.DataFrame({'Feature' : sffs.k_feature_names_})\n",
    "print(selected_5)"
   ]
  },
  {
   "cell_type": "code",
   "execution_count": 84,
   "metadata": {},
   "outputs": [
    {
     "data": {
      "text/html": [
       "<div>\n",
       "<style scoped>\n",
       "    .dataframe tbody tr th:only-of-type {\n",
       "        vertical-align: middle;\n",
       "    }\n",
       "\n",
       "    .dataframe tbody tr th {\n",
       "        vertical-align: top;\n",
       "    }\n",
       "\n",
       "    .dataframe thead th {\n",
       "        text-align: right;\n",
       "    }\n",
       "</style>\n",
       "<table border=\"1\" class=\"dataframe\">\n",
       "  <thead>\n",
       "    <tr style=\"text-align: right;\">\n",
       "      <th></th>\n",
       "      <th>SelectKBest</th>\n",
       "      <th>SFS FS</th>\n",
       "      <th>RFE Linear</th>\n",
       "      <th>RFE XGB</th>\n",
       "      <th>SFFS Stepwise</th>\n",
       "    </tr>\n",
       "  </thead>\n",
       "  <tbody>\n",
       "    <tr>\n",
       "      <th>0</th>\n",
       "      <td>active_power_calculated_by_converter</td>\n",
       "      <td>active_power_calculated_by_converter</td>\n",
       "      <td>ambient_temperature</td>\n",
       "      <td>active_power_raw</td>\n",
       "      <td>nacelle_temp</td>\n",
       "    </tr>\n",
       "    <tr>\n",
       "      <th>1</th>\n",
       "      <td>active_power_raw</td>\n",
       "      <td>ambient_temperature</td>\n",
       "      <td>generator_winding_temp_max</td>\n",
       "      <td>ambient_temperature</td>\n",
       "      <td>NaN</td>\n",
       "    </tr>\n",
       "    <tr>\n",
       "      <th>2</th>\n",
       "      <td>ambient_temperature</td>\n",
       "      <td>generator_winding_temp_max</td>\n",
       "      <td>nc1_inside_temp</td>\n",
       "      <td>generator_speed</td>\n",
       "      <td>NaN</td>\n",
       "    </tr>\n",
       "    <tr>\n",
       "      <th>3</th>\n",
       "      <td>generator_winding_temp_max</td>\n",
       "      <td>grid_power10min_average</td>\n",
       "      <td>nacelle_temp</td>\n",
       "      <td>generator_winding_temp_max</td>\n",
       "      <td>NaN</td>\n",
       "    </tr>\n",
       "    <tr>\n",
       "      <th>4</th>\n",
       "      <td>grid_power10min_average</td>\n",
       "      <td>nc1_inside_temp</td>\n",
       "      <td>wind_speed_raw</td>\n",
       "      <td>nacelle_temp</td>\n",
       "      <td>NaN</td>\n",
       "    </tr>\n",
       "    <tr>\n",
       "      <th>5</th>\n",
       "      <td>nc1_inside_temp</td>\n",
       "      <td>nacelle_temp</td>\n",
       "      <td>wind_speed_turbulence</td>\n",
       "      <td>wind_speed_raw</td>\n",
       "      <td>NaN</td>\n",
       "    </tr>\n",
       "    <tr>\n",
       "      <th>6</th>\n",
       "      <td>nacelle_temp</td>\n",
       "      <td>reactive_power</td>\n",
       "      <td>NaN</td>\n",
       "      <td>NaN</td>\n",
       "      <td>NaN</td>\n",
       "    </tr>\n",
       "    <tr>\n",
       "      <th>7</th>\n",
       "      <td>wind_direction_raw</td>\n",
       "      <td>wind_direction_raw</td>\n",
       "      <td>NaN</td>\n",
       "      <td>NaN</td>\n",
       "      <td>NaN</td>\n",
       "    </tr>\n",
       "    <tr>\n",
       "      <th>8</th>\n",
       "      <td>wind_speed_raw</td>\n",
       "      <td>wind_speed_raw</td>\n",
       "      <td>NaN</td>\n",
       "      <td>NaN</td>\n",
       "      <td>NaN</td>\n",
       "    </tr>\n",
       "    <tr>\n",
       "      <th>9</th>\n",
       "      <td>wind_speed_turbulence</td>\n",
       "      <td>wind_speed_turbulence</td>\n",
       "      <td>NaN</td>\n",
       "      <td>NaN</td>\n",
       "      <td>NaN</td>\n",
       "    </tr>\n",
       "  </tbody>\n",
       "</table>\n",
       "</div>"
      ],
      "text/plain": [
       "                            SelectKBest                                SFS FS  \\\n",
       "0  active_power_calculated_by_converter  active_power_calculated_by_converter   \n",
       "1                      active_power_raw                   ambient_temperature   \n",
       "2                   ambient_temperature            generator_winding_temp_max   \n",
       "3            generator_winding_temp_max               grid_power10min_average   \n",
       "4               grid_power10min_average                       nc1_inside_temp   \n",
       "5                       nc1_inside_temp                          nacelle_temp   \n",
       "6                          nacelle_temp                        reactive_power   \n",
       "7                    wind_direction_raw                    wind_direction_raw   \n",
       "8                        wind_speed_raw                        wind_speed_raw   \n",
       "9                 wind_speed_turbulence                 wind_speed_turbulence   \n",
       "\n",
       "                   RFE Linear                     RFE XGB SFFS Stepwise  \n",
       "0         ambient_temperature            active_power_raw  nacelle_temp  \n",
       "1  generator_winding_temp_max         ambient_temperature           NaN  \n",
       "2             nc1_inside_temp             generator_speed           NaN  \n",
       "3                nacelle_temp  generator_winding_temp_max           NaN  \n",
       "4              wind_speed_raw                nacelle_temp           NaN  \n",
       "5       wind_speed_turbulence              wind_speed_raw           NaN  \n",
       "6                         NaN                         NaN           NaN  \n",
       "7                         NaN                         NaN           NaN  \n",
       "8                         NaN                         NaN           NaN  \n",
       "9                         NaN                         NaN           NaN  "
      ]
     },
     "execution_count": 84,
     "metadata": {},
     "output_type": "execute_result"
    }
   ],
   "source": [
    "feat_list = {'SelectKBest' : selected_1['Feature'],\n",
    "            'SFS FS' : selected_2['Feature'], \n",
    "            'RFE Linear' : selected_3['Feature'],\n",
    "            'RFE XGB' : selected_4['Feature'],            \n",
    "            'SFFS Stepwise' : selected_5['Feature']\n",
    "            }\n",
    "key_features = pd.DataFrame(feat_list)\n",
    "key_features = key_features.apply(lambda x: pd.Series(x.dropna().values))\n",
    "key_features"
   ]
  },
  {
   "cell_type": "markdown",
   "metadata": {},
   "source": [
    "**MODEL BUILDING - ALL FEATURES**\n",
    "\n",
    "We will now test multiple REGRESSION models (Linear, RandomForest, Bagging, XGBoost & K-Neighbours) with the full dataset and compare the results. \n",
    "\n",
    "Later on, we will do the same with the selected featuresß dataset."
   ]
  },
  {
   "cell_type": "code",
   "execution_count": 85,
   "metadata": {},
   "outputs": [],
   "source": [
    "from sklearn.model_selection import train_test_split\n",
    "from sklearn.metrics import r2_score, mean_absolute_error, mean_squared_error, mean_absolute_percentage_error\n",
    "from sklearn.model_selection import cross_val_score, KFold\n",
    "\n",
    "# creating test set of feature columns for prediction\n",
    "#X_test = test[feat_cols]"
   ]
  },
  {
   "cell_type": "code",
   "execution_count": 53,
   "metadata": {},
   "outputs": [],
   "source": [
    "#X_test.shape"
   ]
  },
  {
   "cell_type": "code",
   "execution_count": 87,
   "metadata": {},
   "outputs": [
    {
     "name": "stdout",
     "output_type": "stream",
     "text": [
      "(818643, 13) (818643,) (90961, 13) (90961,)\n"
     ]
    }
   ],
   "source": [
    "# SPLIT TRAIN DATASET INTO TRAIN & VALIDATION TO TEST MODEL BEFORE PREDICTING ON TEST DATASET\n",
    "\n",
    "X_train, X_val, y_train, y_val = train_test_split(X, y, train_size=0.9, random_state=42)\n",
    "\n",
    "print(X_train.shape, y_train.shape, X_val.shape, y_val.shape)"
   ]
  },
  {
   "cell_type": "markdown",
   "metadata": {},
   "source": [
    "LINEAR REGRESSION"
   ]
  },
  {
   "cell_type": "code",
   "execution_count": 88,
   "metadata": {},
   "outputs": [
    {
     "name": "stdout",
     "output_type": "stream",
     "text": [
      "Training accuracy: 39.3567383025982\n",
      "Validation accuracy: 39.58916437598865\n",
      "Linear Regression RMSE: 2.023331934344201\n",
      "Linear Regression Mean Absolute Error: 1.4123413456579206\n",
      "Linear Regression R^2 Model Score: 39.58916437598865 %\n",
      "Linear Regression Mean Absolute Percent Error: 3.025746368871076 %\n"
     ]
    }
   ],
   "source": [
    "# Fit a simple Linear Regression\n",
    "lr_model = LinearRegression()\n",
    "lr_model.fit(X_train, y_train)\n",
    "lr_pred = lr_model.predict(X_val)\n",
    "\n",
    "lr_train_acc = (lr_model.score(X_train, y_train))*100\n",
    "lr_val_acc = (lr_model.score(X_val, y_val))*100\n",
    "\n",
    "rmse_lr = np.sqrt(mean_squared_error(y_val, lr_pred))\n",
    "mae_lr = mean_absolute_error(y_val, lr_pred)\n",
    "mape_lr = mean_absolute_percentage_error(y_val, lr_pred)*100\n",
    "r2_lr = r2_score(y_val, lr_pred)*100\n",
    "\n",
    "print(f\"Training accuracy: {lr_train_acc}\")\n",
    "print(f\"Validation accuracy: {lr_val_acc}\")\n",
    "print(f\"Linear Regression RMSE: {rmse_lr}\")\n",
    "print(f\"Linear Regression Mean Absolute Error: {mae_lr}\")\n",
    "print(f\"Linear Regression R^2 Model Score: {r2_lr} %\")\n",
    "print(f\"Linear Regression Mean Absolute Percent Error: {mape_lr} %\")\n"
   ]
  },
  {
   "cell_type": "code",
   "execution_count": 30,
   "metadata": {},
   "outputs": [],
   "source": [
    "test['Target'] = lr_model.predict(X_test)\n",
    "test['Target'].to_csv('./ReNew_Participants_Data/lr_submission.csv', index=False, header=True)"
   ]
  },
  {
   "cell_type": "code",
   "execution_count": 31,
   "metadata": {},
   "outputs": [
    {
     "data": {
      "text/plain": [
       "(303202, 1)"
      ]
     },
     "execution_count": 31,
     "metadata": {},
     "output_type": "execute_result"
    }
   ],
   "source": [
    "sub = pd.read_csv('./ReNew_Participants_Data/lr_submission.csv')\n",
    "sub.shape"
   ]
  },
  {
   "cell_type": "markdown",
   "metadata": {},
   "source": [
    "K-NEIGHBOURS"
   ]
  },
  {
   "cell_type": "code",
   "execution_count": 89,
   "metadata": {},
   "outputs": [
    {
     "name": "stdout",
     "output_type": "stream",
     "text": [
      "Training accuracy: 72.55286843693585\n",
      "Validation accuracy: 57.4397318396068\n",
      "KNN Model RMSE: 1.698290156400095\n",
      "KNN Model Mean Absolute Error: 1.12937016964295\n",
      "KNN Model R^2 Model Score: 57.4397318396068 %\n",
      "KNN Model Mean Absolute Percent Error: 2.4205625372530792 %\n"
     ]
    }
   ],
   "source": [
    "# Initiate a K-Neighbours model and fit to the training data\n",
    "knn_model = KNeighborsRegressor()\n",
    "knn_model.fit(X_train, y_train)\n",
    "knn_pred = knn_model.predict(X_val)\n",
    "\n",
    "knn_train_acc = (knn_model.score(X_train, y_train))*100\n",
    "knn_val_acc = (knn_model.score(X_val, y_val))*100\n",
    "\n",
    "rmse_knn = np.sqrt(mean_squared_error(y_val, knn_pred))\n",
    "mae_knn = mean_absolute_error(y_val, knn_pred)\n",
    "mape_knn = mean_absolute_percentage_error(y_val, knn_pred)*100\n",
    "r2_knn = r2_score(y_val, knn_pred)*100\n",
    "\n",
    "print(f\"Training accuracy: {knn_train_acc}\")\n",
    "print(f\"Validation accuracy: {knn_val_acc}\")\n",
    "print(f\"KNN Model RMSE: {rmse_knn}\")\n",
    "print(f\"KNN Model Mean Absolute Error: {mae_knn}\")\n",
    "print(f\"KNN Model R^2 Model Score: {r2_knn} %\")\n",
    "print(f\"KNN Model Mean Absolute Percent Error: {mape_knn} %\")"
   ]
  },
  {
   "cell_type": "markdown",
   "metadata": {},
   "source": [
    "RANDOM FOREST REGRESSION"
   ]
  },
  {
   "cell_type": "code",
   "execution_count": 90,
   "metadata": {},
   "outputs": [
    {
     "name": "stdout",
     "output_type": "stream",
     "text": [
      "Training accuracy: 97.0395232458803\n",
      "Validation accuracy: 78.7854196875135\n",
      "Random Forest RMSE: 1.1990214066185205\n",
      "Random Forest Model Mean Absolute Error: 0.7358654525994452\n",
      "Random Forest Model R^2 Model Score: 78.7854196875135 %\n",
      "Random Forest Model Mean Absolute Percent Error: 1.5717625936056139 %\n"
     ]
    }
   ],
   "source": [
    "rf_model = RandomForestRegressor(random_state=42)\n",
    "rf_model.fit(X_train, y_train)\n",
    "rf_pred = rf_model.predict(X_val)\n",
    "\n",
    "rf_train_acc = (rf_model.score(X_train, y_train))*100\n",
    "rf_val_acc = (rf_model.score(X_val, y_val))*100\n",
    "\n",
    "rmse_rf = np.sqrt(mean_squared_error(y_val, rf_pred))\n",
    "mae_rf = mean_absolute_error(y_val, rf_pred)\n",
    "mape_rf = mean_absolute_percentage_error(y_val, rf_pred)*100\n",
    "r2_rf = r2_score(y_val, rf_pred)*100\n",
    "\n",
    "print(f\"Training accuracy: {rf_train_acc}\")\n",
    "print(f\"Validation accuracy: {rf_val_acc}\")\n",
    "print(f\"Random Forest RMSE: {rmse_rf}\")\n",
    "print(f\"Random Forest Model Mean Absolute Error: {mae_rf}\")\n",
    "print(f\"Random Forest Model R^2 Model Score: {r2_rf} %\")\n",
    "print(f\"Random Forest Model Mean Absolute Percent Error: {mape_rf} %\")"
   ]
  },
  {
   "cell_type": "code",
   "execution_count": 91,
   "metadata": {},
   "outputs": [
    {
     "data": {
      "text/html": [
       "<div>\n",
       "<style scoped>\n",
       "    .dataframe tbody tr th:only-of-type {\n",
       "        vertical-align: middle;\n",
       "    }\n",
       "\n",
       "    .dataframe tbody tr th {\n",
       "        vertical-align: top;\n",
       "    }\n",
       "\n",
       "    .dataframe thead th {\n",
       "        text-align: right;\n",
       "    }\n",
       "</style>\n",
       "<table border=\"1\" class=\"dataframe\">\n",
       "  <thead>\n",
       "    <tr style=\"text-align: right;\">\n",
       "      <th></th>\n",
       "      <th>Score</th>\n",
       "    </tr>\n",
       "  </thead>\n",
       "  <tbody>\n",
       "    <tr>\n",
       "      <th>ambient_temperature</th>\n",
       "      <td>0.253612</td>\n",
       "    </tr>\n",
       "    <tr>\n",
       "      <th>nacelle_temp</th>\n",
       "      <td>0.233846</td>\n",
       "    </tr>\n",
       "    <tr>\n",
       "      <th>generator_winding_temp_max</th>\n",
       "      <td>0.107253</td>\n",
       "    </tr>\n",
       "    <tr>\n",
       "      <th>nc1_inside_temp</th>\n",
       "      <td>0.100934</td>\n",
       "    </tr>\n",
       "    <tr>\n",
       "      <th>wind_direction_raw</th>\n",
       "      <td>0.081503</td>\n",
       "    </tr>\n",
       "    <tr>\n",
       "      <th>grid_power10min_average</th>\n",
       "      <td>0.059715</td>\n",
       "    </tr>\n",
       "    <tr>\n",
       "      <th>wind_speed_turbulence</th>\n",
       "      <td>0.034027</td>\n",
       "    </tr>\n",
       "    <tr>\n",
       "      <th>reactive_power</th>\n",
       "      <td>0.028282</td>\n",
       "    </tr>\n",
       "    <tr>\n",
       "      <th>active_power_calculated_by_converter</th>\n",
       "      <td>0.027158</td>\n",
       "    </tr>\n",
       "    <tr>\n",
       "      <th>reactice_power_calculated_by_converter</th>\n",
       "      <td>0.023558</td>\n",
       "    </tr>\n",
       "    <tr>\n",
       "      <th>wind_speed_raw</th>\n",
       "      <td>0.019290</td>\n",
       "    </tr>\n",
       "    <tr>\n",
       "      <th>active_power_raw</th>\n",
       "      <td>0.015624</td>\n",
       "    </tr>\n",
       "    <tr>\n",
       "      <th>generator_speed</th>\n",
       "      <td>0.015199</td>\n",
       "    </tr>\n",
       "  </tbody>\n",
       "</table>\n",
       "</div>"
      ],
      "text/plain": [
       "                                           Score\n",
       "ambient_temperature                     0.253612\n",
       "nacelle_temp                            0.233846\n",
       "generator_winding_temp_max              0.107253\n",
       "nc1_inside_temp                         0.100934\n",
       "wind_direction_raw                      0.081503\n",
       "grid_power10min_average                 0.059715\n",
       "wind_speed_turbulence                   0.034027\n",
       "reactive_power                          0.028282\n",
       "active_power_calculated_by_converter    0.027158\n",
       "reactice_power_calculated_by_converter  0.023558\n",
       "wind_speed_raw                          0.019290\n",
       "active_power_raw                        0.015624\n",
       "generator_speed                         0.015199"
      ]
     },
     "execution_count": 91,
     "metadata": {},
     "output_type": "execute_result"
    }
   ],
   "source": [
    "pd.DataFrame(rf_model.feature_importances_, index=X.columns, columns=['Score']).sort_values('Score', ascending=False)"
   ]
  },
  {
   "cell_type": "markdown",
   "metadata": {},
   "source": [
    "----*Top 8 from 10 for RF Regressor for full dataset*\n",
    "* ambient temperature\n",
    "* nacelle_temp\n",
    "* generator_winding_temp_max\n",
    "* nc1_inside_temp\n",
    "* wind_direction_raw\n",
    "* grid_power10min_average\n",
    "* wind_speed_turbulence\n",
    "* reactive_power\n",
    "\n",
    "---- *omitted in RF Regressor for full dataset selecting the top 10 but selected in top 8 from FS*\n",
    "* wind_speed_raw\n",
    "\n",
    "---- *Top 8 Selected features from Feature Selection techniques*\n",
    "* ambient temperature\n",
    "* generator_winding_temp_max\n",
    "* nc1_inside_temp\n",
    "* nacelle_temp\n",
    "* reactice_power_calculated_by_converter\n",
    "* reactive_power\n",
    "* wind_speed_raw\n",
    "* wind_speed_turbulence"
   ]
  },
  {
   "cell_type": "markdown",
   "metadata": {},
   "source": [
    "XG BOOST"
   ]
  },
  {
   "cell_type": "code",
   "execution_count": 92,
   "metadata": {},
   "outputs": [
    {
     "name": "stdout",
     "output_type": "stream",
     "text": [
      "Training accuracy: 68.27350381265092\n",
      "Validation accuracy: 66.94063233697443\n",
      "XGBoost Model RMSE: 1.4967766026955447\n",
      "XGBoost Model Mean Absolute Error: 1.0246333524942948\n",
      "XGBoost Model R^2 Model Score: 66.94063233697443 %\n",
      "XGBoost Model Mean Absolute Percent Error: 2.1993857043777405 %\n"
     ]
    }
   ],
   "source": [
    "XGB_model = XGBRegressor(random_state=42)\n",
    "XGB_model.fit(X_train, y_train)\n",
    "XGB_pred = XGB_model.predict(X_val)\n",
    "\n",
    "xg_train_acc = (XGB_model.score(X_train, y_train))*100\n",
    "xg_val_acc = (XGB_model.score(X_val, y_val))*100\n",
    "\n",
    "rmse_xg = np.sqrt(mean_squared_error(y_val, XGB_pred))\n",
    "mae_xg = mean_absolute_error(y_val, XGB_pred)\n",
    "mape_xg = mean_absolute_percentage_error(y_val, XGB_pred)*100\n",
    "r2_xg = r2_score(y_val, XGB_pred)*100\n",
    "\n",
    "print(f\"Training accuracy: {xg_train_acc}\")\n",
    "print(f\"Validation accuracy: {xg_val_acc}\")\n",
    "print(f\"XGBoost Model RMSE: {rmse_xg}\")\n",
    "print(f\"XGBoost Model Mean Absolute Error: {mae_xg}\")\n",
    "print(f\"XGBoost Model R^2 Model Score: {r2_xg} %\")\n",
    "print(f\"XGBoost Model Mean Absolute Percent Error: {mape_xg} %\")\n"
   ]
  },
  {
   "cell_type": "markdown",
   "metadata": {},
   "source": [
    "BAGGING"
   ]
  },
  {
   "cell_type": "code",
   "execution_count": 93,
   "metadata": {},
   "outputs": [
    {
     "name": "stdout",
     "output_type": "stream",
     "text": [
      "Training accuracy: 95.61326893226398\n",
      "Validation accuracy: 75.97713602323478\n",
      "Bagging Model RMSE: 1.275916064963306\n",
      "Bagging Model Mean Absolute Error: 0.7878518989337592\n",
      "Bagging Model R^2 Model Score: 75.97713602323478 %\n",
      "Bagging Model Mean Absolute Percent Error: 1.6833156124161202 %\n"
     ]
    }
   ],
   "source": [
    "Bag_model = BaggingRegressor()\n",
    "Bag_model.fit(X_train, y_train)\n",
    "Bag_pred = Bag_model.predict(X_val)\n",
    "\n",
    "bg_train_acc = (Bag_model.score(X_train, y_train))*100\n",
    "bg_val_acc = (Bag_model.score(X_val, y_val))*100\n",
    "\n",
    "rmse_bg = np.sqrt(mean_squared_error(y_val, Bag_pred))\n",
    "mae_bg = mean_absolute_error(y_val, Bag_pred)\n",
    "mape_bg = mean_absolute_percentage_error(y_val, Bag_pred)*100\n",
    "r2_bg = r2_score(y_val, Bag_pred)*100\n",
    "\n",
    "print(f\"Training accuracy: {bg_train_acc}\")\n",
    "print(f\"Validation accuracy: {bg_val_acc}\")\n",
    "print(f\"Bagging Model RMSE: {rmse_bg}\")\n",
    "print(f\"Bagging Model Mean Absolute Error: {mae_bg}\")\n",
    "print(f\"Bagging Model R^2 Model Score: {r2_bg} %\")\n",
    "print(f\"Bagging Model Mean Absolute Percent Error: {mape_bg} %\")"
   ]
  },
  {
   "cell_type": "markdown",
   "metadata": {},
   "source": [
    "**MODEL EVALUATION TABLE**"
   ]
  },
  {
   "cell_type": "code",
   "execution_count": 94,
   "metadata": {},
   "outputs": [
    {
     "data": {
      "text/html": [
       "<div>\n",
       "<style scoped>\n",
       "    .dataframe tbody tr th:only-of-type {\n",
       "        vertical-align: middle;\n",
       "    }\n",
       "\n",
       "    .dataframe tbody tr th {\n",
       "        vertical-align: top;\n",
       "    }\n",
       "\n",
       "    .dataframe thead th {\n",
       "        text-align: right;\n",
       "    }\n",
       "</style>\n",
       "<table border=\"1\" class=\"dataframe\">\n",
       "  <thead>\n",
       "    <tr style=\"text-align: right;\">\n",
       "      <th></th>\n",
       "      <th>Model</th>\n",
       "      <th>Training Accuracy</th>\n",
       "      <th>Validation Accuracy</th>\n",
       "      <th>RMSE Score</th>\n",
       "      <th>MAPE Score (%)</th>\n",
       "      <th>Model R^2 Score (%)</th>\n",
       "    </tr>\n",
       "  </thead>\n",
       "  <tbody>\n",
       "    <tr>\n",
       "      <th>4</th>\n",
       "      <td>Random Forest Regressor</td>\n",
       "      <td>97.039523</td>\n",
       "      <td>78.785420</td>\n",
       "      <td>1.199021</td>\n",
       "      <td>1.571763</td>\n",
       "      <td>78.785420</td>\n",
       "    </tr>\n",
       "    <tr>\n",
       "      <th>2</th>\n",
       "      <td>Bagging Regressor</td>\n",
       "      <td>95.613269</td>\n",
       "      <td>75.977136</td>\n",
       "      <td>1.275916</td>\n",
       "      <td>1.683316</td>\n",
       "      <td>75.977136</td>\n",
       "    </tr>\n",
       "    <tr>\n",
       "      <th>1</th>\n",
       "      <td>XGBoost Regressor</td>\n",
       "      <td>68.273504</td>\n",
       "      <td>66.940632</td>\n",
       "      <td>1.496777</td>\n",
       "      <td>2.199386</td>\n",
       "      <td>66.940632</td>\n",
       "    </tr>\n",
       "    <tr>\n",
       "      <th>3</th>\n",
       "      <td>K-Nearest Neighbours Regressor</td>\n",
       "      <td>72.552868</td>\n",
       "      <td>57.439732</td>\n",
       "      <td>1.698290</td>\n",
       "      <td>2.420563</td>\n",
       "      <td>57.439732</td>\n",
       "    </tr>\n",
       "    <tr>\n",
       "      <th>0</th>\n",
       "      <td>Linear Regression</td>\n",
       "      <td>39.356738</td>\n",
       "      <td>39.589164</td>\n",
       "      <td>2.023332</td>\n",
       "      <td>3.025746</td>\n",
       "      <td>39.589164</td>\n",
       "    </tr>\n",
       "  </tbody>\n",
       "</table>\n",
       "</div>"
      ],
      "text/plain": [
       "                            Model  Training Accuracy  Validation Accuracy  \\\n",
       "4         Random Forest Regressor          97.039523            78.785420   \n",
       "2               Bagging Regressor          95.613269            75.977136   \n",
       "1               XGBoost Regressor          68.273504            66.940632   \n",
       "3  K-Nearest Neighbours Regressor          72.552868            57.439732   \n",
       "0               Linear Regression          39.356738            39.589164   \n",
       "\n",
       "   RMSE Score  MAPE Score (%)  Model R^2 Score (%)  \n",
       "4    1.199021        1.571763            78.785420  \n",
       "2    1.275916        1.683316            75.977136  \n",
       "1    1.496777        2.199386            66.940632  \n",
       "3    1.698290        2.420563            57.439732  \n",
       "0    2.023332        3.025746            39.589164  "
      ]
     },
     "execution_count": 94,
     "metadata": {},
     "output_type": "execute_result"
    }
   ],
   "source": [
    "models = pd.DataFrame({\n",
    "    'Model': ['Linear Regression','XGBoost Regressor', \n",
    "             'Bagging Regressor', 'K-Nearest Neighbours Regressor', 'Random Forest Regressor'],\n",
    "    'Training Accuracy' : [lr_train_acc, xg_train_acc, bg_train_acc, knn_train_acc, rf_train_acc],\n",
    "    'Validation Accuracy' : [lr_val_acc, xg_val_acc, bg_val_acc, knn_val_acc, rf_val_acc],\n",
    "    'RMSE Score' : [rmse_lr, rmse_xg, rmse_bg, rmse_knn, rmse_rf],\n",
    "    'MAPE Score (%)' : [mape_lr, mape_xg, mape_bg, mape_knn, mape_rf],\n",
    "    'Model R^2 Score (%)': [ r2_lr, r2_xg, r2_bg, r2_knn, r2_rf]\n",
    "})\n",
    "\n",
    "models.sort_values(by = ['MAPE Score (%)'],ascending = True)"
   ]
  },
  {
   "cell_type": "code",
   "execution_count": 95,
   "metadata": {},
   "outputs": [
    {
     "data": {
      "image/png": "[encoded data removed]",
      "text/plain": [
       "<Figure size 720x504 with 1 Axes>"
      ]
     },
     "metadata": {},
     "output_type": "display_data"
    }
   ],
   "source": [
    "order = list(models.sort_values('MAPE Score (%)', ascending=True).Model)\n",
    "\n",
    "plt.figure(figsize=(10,7))\n",
    "# make barplot and sort bars\n",
    "x = sns.barplot(x='Model', y='MAPE Score (%)', data=models, order=order, palette=\"mako\")\n",
    "plt.xlabel(\"Model\", fontsize=15)\n",
    "plt.ylabel(\"MAPE Score (%)\", fontsize=15)\n",
    "plt.title(\"MAPE by Model\", fontsize=18)\n",
    "\n",
    "plt.grid(linestyle='-', linewidth='0.5', color='grey')\n",
    "plt.xticks(rotation=70, fontsize=12)\n",
    "\n",
    "plt.tight_layout()"
   ]
  },
  {
   "cell_type": "markdown",
   "metadata": {},
   "source": [
    "It looks like the Random Forest Regressor has performed well with the lowest MAPE value amongst all and with the highest model score overall.\n",
    "\n",
    "We will now run the same models with the features derived from Feature Selection methods and check if there is a difference in the above comparison."
   ]
  },
  {
   "cell_type": "markdown",
   "metadata": {},
   "source": [
    "**MODEL BUILDING - WITH SELECTED COLUMNS FROM FEATURE SELECTION**"
   ]
  },
  {
   "cell_type": "markdown",
   "metadata": {},
   "source": [
    "* ambient temperature\n",
    "* generator_winding_temp_max\n",
    "* nc1_inside_temp\n",
    "* nacelle_temp\n",
    "* reactice_power_calculated_by_converter\n",
    "* reactive_power\n",
    "* wind_speed_raw\n",
    "* wind_speed_turbulence"
   ]
  },
  {
   "cell_type": "code",
   "execution_count": 39,
   "metadata": {},
   "outputs": [],
   "source": [
    "# Columns derived from the Feature Selection methods (Top 8)\n",
    "sel_cols = ['ambient_temperature','generator_winding_temp_max', 'nc1_inside_temp', 'nacelle_temp',\n",
    "            'reactice_power_calculated_by_converter', 'reactive_power', 'wind_speed_raw', 'wind_speed_turbulence']\n",
    "\n",
    "X = train[sel_cols]\n",
    "y = train['Target']\n",
    "\n",
    "X.shape\n",
    "\n",
    "# creating test set of the selected feature columns for prediction\n",
    "X_test = test[sel_cols]"
   ]
  },
  {
   "cell_type": "code",
   "execution_count": 40,
   "metadata": {},
   "outputs": [],
   "source": [
    "# SPLIT TRAIN DATASET INTO TRAIN & VALIDATION TO TEST MODEL BEFORE PREDICTING ON TEST DATASET\n",
    "X_train, X_val, y_train, y_val = train_test_split(X, y, train_size=0.9, random_state=42)"
   ]
  },
  {
   "cell_type": "code",
   "execution_count": 41,
   "metadata": {},
   "outputs": [
    {
     "name": "stdout",
     "output_type": "stream",
     "text": [
      "Training accuracy: 40.649513854402045\n",
      "Validation accuracy: 40.819164930820115\n",
      "Linear Regression RMSE: 2.002627884702588\n",
      "Linear Regression Mean Absolute Error: 1.3955651606703636\n",
      "Linear Regression R^2 Model Score: 40.819164930820115 %\n",
      "Linear Regression Mean Absolute Percent Error: 2.9876286342262035 %\n"
     ]
    }
   ],
   "source": [
    "# Fit a simple Linear Regression\n",
    "lr_model = LinearRegression()\n",
    "lr_model.fit(X_train, y_train)\n",
    "lr_pred = lr_model.predict(X_val)\n",
    "\n",
    "lr_train_acc = (lr_model.score(X_train, y_train))*100\n",
    "lr_val_acc = (lr_model.score(X_val, y_val))*100\n",
    "\n",
    "rmse_lr = np.sqrt(mean_squared_error(y_val, lr_pred))\n",
    "mae_lr = mean_absolute_error(y_val, lr_pred)\n",
    "mape_lr = mean_absolute_percentage_error(y_val, lr_pred)*100\n",
    "r2_lr = r2_score(y_val, lr_pred)*100\n",
    "\n",
    "print(f\"Training accuracy: {lr_train_acc}\")\n",
    "print(f\"Validation accuracy: {lr_val_acc}\")\n",
    "print(f\"Linear Regression RMSE: {rmse_lr}\")\n",
    "print(f\"Linear Regression Mean Absolute Error: {mae_lr}\")\n",
    "print(f\"Linear Regression R^2 Model Score: {r2_lr} %\")\n",
    "print(f\"Linear Regression Mean Absolute Percent Error: {mape_lr} %\")"
   ]
  },
  {
   "cell_type": "code",
   "execution_count": 42,
   "metadata": {},
   "outputs": [
    {
     "name": "stdout",
     "output_type": "stream",
     "text": [
      "Training accuracy: 70.18671289668683\n",
      "Validation accuracy: 53.9111765380653\n",
      "KNN Model RMSE: 1.7672888009733478\n",
      "KNN Model Mean Absolute Error: 1.1709345610319148\n",
      "KNN Model R^2 Model Score: 53.9111765380653 %\n",
      "KNN Model Mean Absolute Percent Error: 2.50760316701964 %\n"
     ]
    }
   ],
   "source": [
    "# Initiate a K-Neighbours model and fit to the training data\n",
    "knn_model = KNeighborsRegressor()\n",
    "knn_model.fit(X_train, y_train)\n",
    "knn_pred = knn_model.predict(X_val)\n",
    "\n",
    "knn_train_acc = (knn_model.score(X_train, y_train))*100\n",
    "knn_val_acc = (knn_model.score(X_val, y_val))*100\n",
    "\n",
    "rmse_knn = np.sqrt(mean_squared_error(y_val, knn_pred))\n",
    "mae_knn = mean_absolute_error(y_val, knn_pred)\n",
    "mape_knn = mean_absolute_percentage_error(y_val, knn_pred)*100\n",
    "r2_knn = r2_score(y_val, knn_pred)*100\n",
    "\n",
    "print(f\"Training accuracy: {knn_train_acc}\")\n",
    "print(f\"Validation accuracy: {knn_val_acc}\")\n",
    "print(f\"KNN Model RMSE: {rmse_knn}\")\n",
    "print(f\"KNN Model Mean Absolute Error: {mae_knn}\")\n",
    "print(f\"KNN Model R^2 Model Score: {r2_knn} %\")\n",
    "print(f\"KNN Model Mean Absolute Percent Error: {mape_knn} %\")"
   ]
  },
  {
   "cell_type": "code",
   "execution_count": 44,
   "metadata": {},
   "outputs": [
    {
     "name": "stdout",
     "output_type": "stream",
     "text": [
      "Training accuracy: 96.0889050845638\n",
      "Validation accuracy: 72.26727262114112\n",
      "Random Forest RMSE: 1.370900723857173\n",
      "Random Forest Model Mean Absolute Error: 0.858728860744051\n",
      "Random Forest Model R^2 Model Score: 72.26727262114112 %\n",
      "Random Forest Model Mean Absolute Percent Error: 1.8338266850210325 %\n"
     ]
    }
   ],
   "source": [
    "# Random Forest Regressor\n",
    "rf_model = RandomForestRegressor(random_state=42)\n",
    "rf_model.fit(X_train, y_train)\n",
    "rf_pred = rf_model.predict(X_val)\n",
    "\n",
    "rf_train_acc = (rf_model.score(X_train, y_train))*100\n",
    "rf_val_acc = (rf_model.score(X_val, y_val))*100\n",
    "\n",
    "rmse_rf = np.sqrt(mean_squared_error(y_val, rf_pred))\n",
    "mae_rf = mean_absolute_error(y_val, rf_pred)\n",
    "mape_rf = mean_absolute_percentage_error(y_val, rf_pred)*100\n",
    "r2_rf = r2_score(y_val, rf_pred)*100\n",
    "\n",
    "print(f\"Training accuracy: {rf_train_acc}\")\n",
    "print(f\"Validation accuracy: {rf_val_acc}\")\n",
    "print(f\"Random Forest RMSE: {rmse_rf}\")\n",
    "print(f\"Random Forest Model Mean Absolute Error: {mae_rf}\")\n",
    "print(f\"Random Forest Model R^2 Model Score: {r2_rf} %\")\n",
    "print(f\"Random Forest Model Mean Absolute Percent Error: {mape_rf} %\")"
   ]
  },
  {
   "cell_type": "code",
   "execution_count": null,
   "metadata": {},
   "outputs": [
    {
     "name": "stdout",
     "output_type": "stream",
     "text": [
      "Training accuracy: 63.325348383339474\n",
      "Validation accuracy: 62.22774621382845\n",
      "XGBoost Model RMSE: 1.599912251313865\n",
      "XGBoost Model Mean Absolute Error: 1.0819330557609736\n",
      "XGBoost Model R^2 Model Score: 62.22774621382845 %\n",
      "XGBoost Model Mean Absolute Percent Error: 2.3182648144265547 %\n"
     ]
    }
   ],
   "source": [
    "# XG Boost Regressor\n",
    "XGB_model = XGBRegressor(random_state=42)\n",
    "XGB_model.fit(X_train, y_train)\n",
    "XGB_pred = XGB_model.predict(X_val)\n",
    "\n",
    "xg_train_acc = (XGB_model.score(X_train, y_train))*100\n",
    "xg_val_acc = (XGB_model.score(X_val, y_val))*100\n",
    "\n",
    "rmse_xg = np.sqrt(mean_squared_error(y_val, XGB_pred))\n",
    "mae_xg = mean_absolute_error(y_val, XGB_pred)\n",
    "mape_xg = mean_absolute_percentage_error(y_val, XGB_pred)*100\n",
    "r2_xg = r2_score(y_val, XGB_pred)*100\n",
    "\n",
    "print(f\"Training accuracy: {xg_train_acc}\")\n",
    "print(f\"Validation accuracy: {xg_val_acc}\")\n",
    "print(f\"XGBoost Model RMSE: {rmse_xg}\")\n",
    "print(f\"XGBoost Model Mean Absolute Error: {mae_xg}\")\n",
    "print(f\"XGBoost Model R^2 Model Score: {r2_xg} %\")\n",
    "print(f\"XGBoost Model Mean Absolute Percent Error: {mape_xg} %\")"
   ]
  },
  {
   "cell_type": "code",
   "execution_count": null,
   "metadata": {},
   "outputs": [
    {
     "name": "stdout",
     "output_type": "stream",
     "text": [
      "Training accuracy: 94.35708827200897\n",
      "Validation accuracy: 68.89716372429919\n",
      "Bagging Model RMSE: 1.4518097599151625\n",
      "Bagging Model Mean Absolute Error: 0.9146817828588005\n",
      "Bagging Model R^2 Model Score: 68.89716372429919 %\n",
      "Bagging Model Mean Absolute Percent Error: 1.9542695558770407 %\n"
     ]
    }
   ],
   "source": [
    "# Bagging Regressor\n",
    "Bag_model = BaggingRegressor()\n",
    "Bag_model.fit(X_train, y_train)\n",
    "Bag_pred = Bag_model.predict(X_val)\n",
    "\n",
    "bg_train_acc = (Bag_model.score(X_train, y_train))*100\n",
    "bg_val_acc = (Bag_model.score(X_val, y_val))*100\n",
    "\n",
    "rmse_bg = np.sqrt(mean_squared_error(y_val, Bag_pred))\n",
    "mae_bg = mean_absolute_error(y_val, Bag_pred)\n",
    "mape_bg = mean_absolute_percentage_error(y_val, Bag_pred)*100\n",
    "r2_bg = r2_score(y_val, Bag_pred)*100\n",
    "\n",
    "print(f\"Training accuracy: {bg_train_acc}\")\n",
    "print(f\"Validation accuracy: {bg_val_acc}\")\n",
    "print(f\"Bagging Model RMSE: {rmse_bg}\")\n",
    "print(f\"Bagging Model Mean Absolute Error: {mae_bg}\")\n",
    "print(f\"Bagging Model R^2 Model Score: {r2_bg} %\")\n",
    "print(f\"Bagging Model Mean Absolute Percent Error: {mape_bg} %\")"
   ]
  },
  {
   "cell_type": "code",
   "execution_count": null,
   "metadata": {},
   "outputs": [
    {
     "data": {
      "text/html": [
       "<div>\n",
       "<style scoped>\n",
       "    .dataframe tbody tr th:only-of-type {\n",
       "        vertical-align: middle;\n",
       "    }\n",
       "\n",
       "    .dataframe tbody tr th {\n",
       "        vertical-align: top;\n",
       "    }\n",
       "\n",
       "    .dataframe thead th {\n",
       "        text-align: right;\n",
       "    }\n",
       "</style>\n",
       "<table border=\"1\" class=\"dataframe\">\n",
       "  <thead>\n",
       "    <tr style=\"text-align: right;\">\n",
       "      <th></th>\n",
       "      <th>Model</th>\n",
       "      <th>Training Accuracy</th>\n",
       "      <th>Validation Accuracy</th>\n",
       "      <th>RMSE Score</th>\n",
       "      <th>MAPE Score (%)</th>\n",
       "      <th>Model R^2 Score (%)</th>\n",
       "    </tr>\n",
       "  </thead>\n",
       "  <tbody>\n",
       "    <tr>\n",
       "      <th>4</th>\n",
       "      <td>Random Forest Regressor</td>\n",
       "      <td>96.088905</td>\n",
       "      <td>72.267273</td>\n",
       "      <td>1.370901</td>\n",
       "      <td>1.833827</td>\n",
       "      <td>72.267273</td>\n",
       "    </tr>\n",
       "    <tr>\n",
       "      <th>2</th>\n",
       "      <td>Bagging Regressor</td>\n",
       "      <td>94.357088</td>\n",
       "      <td>68.897164</td>\n",
       "      <td>1.451810</td>\n",
       "      <td>1.954270</td>\n",
       "      <td>68.897164</td>\n",
       "    </tr>\n",
       "    <tr>\n",
       "      <th>1</th>\n",
       "      <td>XGBoost Regressor</td>\n",
       "      <td>63.325348</td>\n",
       "      <td>62.227746</td>\n",
       "      <td>1.599912</td>\n",
       "      <td>2.318265</td>\n",
       "      <td>62.227746</td>\n",
       "    </tr>\n",
       "    <tr>\n",
       "      <th>3</th>\n",
       "      <td>K-Nearest Neighbours Regressor</td>\n",
       "      <td>70.186713</td>\n",
       "      <td>53.911177</td>\n",
       "      <td>1.767289</td>\n",
       "      <td>2.507603</td>\n",
       "      <td>53.911177</td>\n",
       "    </tr>\n",
       "    <tr>\n",
       "      <th>0</th>\n",
       "      <td>Linear Regression</td>\n",
       "      <td>40.649514</td>\n",
       "      <td>40.819165</td>\n",
       "      <td>2.002628</td>\n",
       "      <td>2.987629</td>\n",
       "      <td>40.819165</td>\n",
       "    </tr>\n",
       "  </tbody>\n",
       "</table>\n",
       "</div>"
      ],
      "text/plain": [
       "                            Model  Training Accuracy  Validation Accuracy  \\\n",
       "4         Random Forest Regressor          96.088905            72.267273   \n",
       "2               Bagging Regressor          94.357088            68.897164   \n",
       "1               XGBoost Regressor          63.325348            62.227746   \n",
       "3  K-Nearest Neighbours Regressor          70.186713            53.911177   \n",
       "0               Linear Regression          40.649514            40.819165   \n",
       "\n",
       "   RMSE Score  MAPE Score (%)  Model R^2 Score (%)  \n",
       "4    1.370901        1.833827            72.267273  \n",
       "2    1.451810        1.954270            68.897164  \n",
       "1    1.599912        2.318265            62.227746  \n",
       "3    1.767289        2.507603            53.911177  \n",
       "0    2.002628        2.987629            40.819165  "
      ]
     },
     "execution_count": 48,
     "metadata": {},
     "output_type": "execute_result"
    }
   ],
   "source": [
    "models_sel = pd.DataFrame({\n",
    "    'Model': ['Linear Regression','XGBoost Regressor', \n",
    "             'Bagging Regressor', 'K-Nearest Neighbours Regressor', 'Random Forest Regressor'],\n",
    "    'Training Accuracy' : [lr_train_acc, xg_train_acc, bg_train_acc, knn_train_acc, rf_train_acc],\n",
    "    'Validation Accuracy' : [lr_val_acc, xg_val_acc, bg_val_acc, knn_val_acc, rf_val_acc],\n",
    "    'RMSE Score' : [rmse_lr, rmse_xg, rmse_bg, rmse_knn, rmse_rf],\n",
    "    'MAPE Score (%)' : [mape_lr, mape_xg, mape_bg, mape_knn, mape_rf],\n",
    "    'Model R^2 Score (%)': [ r2_lr, r2_xg, r2_bg, r2_knn, r2_rf]\n",
    "})\n",
    "\n",
    "models_sel.sort_values(by = ['MAPE Score (%)'],ascending = True)"
   ]
  },
  {
   "cell_type": "code",
   "execution_count": null,
   "metadata": {},
   "outputs": [
    {
     "data": {
      "image/png": "[encoded data removed]",
      "text/plain": [
       "<Figure size 720x504 with 1 Axes>"
      ]
     },
     "metadata": {},
     "output_type": "display_data"
    }
   ],
   "source": [
    "order = list(models_sel.sort_values('MAPE Score (%)', ascending=True).Model)\n",
    "\n",
    "plt.figure(figsize=(10,7))\n",
    "# make barplot and sort bars\n",
    "x = sns.barplot(x='Model', y='MAPE Score (%)', data=models_sel, order=order, palette=\"mako\")\n",
    "plt.xlabel(\"Model\", fontsize=15)\n",
    "plt.ylabel(\"MAPE Score (%)\", fontsize=15)\n",
    "plt.title(\"MAPE by Model\", fontsize=18)\n",
    "\n",
    "plt.grid(linestyle='-', linewidth='0.5', color='grey')\n",
    "plt.xticks(rotation=70, fontsize=12)\n",
    "\n",
    "plt.tight_layout()"
   ]
  },
  {
   "cell_type": "markdown",
   "metadata": {},
   "source": [
    "For both the approaches (Full Dataset & Dataset with Selected Features), Random Forest seems to be the best model. I will try and optimize the Random Forest model a little more to use the RandomSearch CV and GridSearch CV methods to check if we can improve the accuracy scores for both approaches."
   ]
  },
  {
   "cell_type": "markdown",
   "metadata": {},
   "source": [
    "**RF MODEL BUILDING - WITH SELECTED COLUMNS FROM RANDOM FOREST REGRESSOR**"
   ]
  },
  {
   "cell_type": "code",
   "execution_count": null,
   "metadata": {},
   "outputs": [
    {
     "data": {
      "text/plain": [
       "(909604, 10)"
      ]
     },
     "execution_count": 50,
     "metadata": {},
     "output_type": "execute_result"
    }
   ],
   "source": [
    "# Columns derived from the Feature Selection methods (all 10)\n",
    "rf_cols = ['ambient_temperature','generator_winding_temp_max', 'nc1_inside_temp', 'nacelle_temp', \n",
    "            'grid_power10min_average', 'reactice_power_calculated_by_converter', 'reactive_power',\n",
    "            'wind_direction_raw', 'wind_speed_turbulence', 'active_power_calculated_by_converter']\n",
    "\n",
    "X_rf = train[rf_cols]\n",
    "y_rf = train['Target']\n",
    "\n",
    "# creating test set of the selected feature columns for prediction\n",
    "X_test = test[sel_cols]\n",
    "\n",
    "X_rf.shape"
   ]
  },
  {
   "cell_type": "code",
   "execution_count": null,
   "metadata": {},
   "outputs": [
    {
     "name": "stdout",
     "output_type": "stream",
     "text": [
      "(818643, 10) (818643,) (90961, 10) (90961,)\n"
     ]
    }
   ],
   "source": [
    "X_rf_train, X_rf_val, y_rf_train, y_rf_val = train_test_split(X_rf, y_rf, train_size=0.9, random_state=42)\n",
    "\n",
    "print(X_rf_train.shape, y_rf_train.shape, X_rf_val.shape, y_rf_val.shape)"
   ]
  },
  {
   "cell_type": "code",
   "execution_count": null,
   "metadata": {},
   "outputs": [
    {
     "name": "stdout",
     "output_type": "stream",
     "text": [
      "Training accuracy: 97.06468991923187\n",
      "Validation accuracy: 78.95497658737605\n",
      "Random Forest RMSE: 1.1942202226430687\n",
      "Random Forest Model Mean Absolute Error: 0.730179753278911\n",
      "Random Forest Model R^2 Model Score: 78.95497658737605 %\n",
      "Random Forest Model Mean Absolute Percent Error: 1.559409535868495 %\n"
     ]
    }
   ],
   "source": [
    "# Random Forest Regressor\n",
    "rf_model = RandomForestRegressor(random_state=42)\n",
    "rf_model.fit(X_rf_train, y_rf_train)\n",
    "rf_pred = rf_model.predict(X_rf_val)\n",
    "\n",
    "rf_train_acc = (rf_model.score(X_rf_train, y_rf_train))*100\n",
    "rf_val_acc = (rf_model.score(X_rf_val, y_rf_val))*100\n",
    "\n",
    "rmse_rf = np.sqrt(mean_squared_error(y_rf_val, rf_pred))\n",
    "mae_rf = mean_absolute_error(y_rf_val, rf_pred)\n",
    "mape_rf = mean_absolute_percentage_error(y_rf_val, rf_pred)*100\n",
    "r2_rf = r2_score(y_rf_val, rf_pred)*100\n",
    "\n",
    "print(f\"Training accuracy: {rf_train_acc}\")\n",
    "print(f\"Validation accuracy: {rf_val_acc}\")\n",
    "print(f\"Random Forest RMSE: {rmse_rf}\")\n",
    "print(f\"Random Forest Model Mean Absolute Error: {mae_rf}\")\n",
    "print(f\"Random Forest Model R^2 Model Score: {r2_rf} %\")\n",
    "print(f\"Random Forest Model Mean Absolute Percent Error: {mape_rf} %\")"
   ]
  },
  {
   "cell_type": "markdown",
   "metadata": {},
   "source": [
    "**PREDICTION**\n",
    "\n",
    "As we can see from the above the RF Regressor on the 10 features as derived from the initial RF regressor model provided a slightly better model in terms of MAPE value. We will consider the above RF Model to predict on the test set and generate the submission file."
   ]
  },
  {
   "cell_type": "code",
   "execution_count": 47,
   "metadata": {},
   "outputs": [],
   "source": [
    "test['Target'] = rf_model.predict(X_test)\n",
    "test['Target'].to_csv('./ReNew_Participants_Data/my_submission.csv', index=False)"
   ]
  },
  {
   "cell_type": "code",
   "execution_count": null,
   "metadata": {},
   "outputs": [],
   "source": []
  }
 ],
 "metadata": {
  "kernelspec": {
   "display_name": "Python 3 (ipykernel)",
   "language": "python",
   "name": "python3"
  },
  "language_info": {
   "codemirror_mode": {
    "name": "ipython",
    "version": 3
   },
   "file_extension": ".py",
   "mimetype": "text/x-python",
   "name": "python",
   "nbconvert_exporter": "python",
   "pygments_lexer": "ipython3",
   "version": "3.9.12"
  },
  "vscode": {
   "interpreter": {
    "hash": "40d3a090f54c6569ab1632332b64b2c03c39dcf918b08424e98f38b5ae0af88f"
   }
  }
 },
 "nbformat": 4,
 "nbformat_minor": 2
}
