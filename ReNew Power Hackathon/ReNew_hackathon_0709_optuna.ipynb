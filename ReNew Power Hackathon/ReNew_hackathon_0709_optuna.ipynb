{
 "cells": [
  {
   "cell_type": "markdown",
   "metadata": {},
   "source": [
    "**READING THE DATASET**"
   ]
  },
  {
   "cell_type": "code",
   "execution_count": 96,
   "metadata": {},
   "outputs": [],
   "source": [
    "# LOAD THE LIBRARIES\n",
    "import pandas as pd\n",
    "import numpy as np\n",
    "#import pandas_profiling as pp\n",
    "#from pandas_profiling import ProfileReport\n",
    "import matplotlib.pyplot as plt\n",
    "%matplotlib inline\n",
    "import seaborn as sns\n",
    "sns.set_style('darkgrid') # darkgrid, white grid, dark, white and ticks\n",
    "\n",
    "# import warnings filter\n",
    "from warnings import simplefilter\n",
    "# ignore all future warnings\n",
    "simplefilter(action='ignore', category=FutureWarning)"
   ]
  },
  {
   "cell_type": "code",
   "execution_count": 97,
   "metadata": {},
   "outputs": [
    {
     "name": "stdout",
     "output_type": "stream",
     "text": [
      "The Wind Turbine training dataset has 909604 records, each with 16 attributes.\n"
     ]
    },
    {
     "data": {
      "text/html": [
       "<div>\n",
       "<style scoped>\n",
       "    .dataframe tbody tr th:only-of-type {\n",
       "        vertical-align: middle;\n",
       "    }\n",
       "\n",
       "    .dataframe tbody tr th {\n",
       "        vertical-align: top;\n",
       "    }\n",
       "\n",
       "    .dataframe thead th {\n",
       "        text-align: right;\n",
       "    }\n",
       "</style>\n",
       "<table border=\"1\" class=\"dataframe\">\n",
       "  <thead>\n",
       "    <tr style=\"text-align: right;\">\n",
       "      <th></th>\n",
       "      <th>timestamp</th>\n",
       "      <th>active_power_calculated_by_converter</th>\n",
       "      <th>active_power_raw</th>\n",
       "      <th>ambient_temperature</th>\n",
       "      <th>generator_speed</th>\n",
       "      <th>generator_winding_temp_max</th>\n",
       "      <th>grid_power10min_average</th>\n",
       "      <th>nc1_inside_temp</th>\n",
       "      <th>nacelle_temp</th>\n",
       "      <th>reactice_power_calculated_by_converter</th>\n",
       "      <th>reactive_power</th>\n",
       "      <th>wind_direction_raw</th>\n",
       "      <th>wind_speed_raw</th>\n",
       "      <th>wind_speed_turbulence</th>\n",
       "      <th>turbine_id</th>\n",
       "      <th>Target</th>\n",
       "    </tr>\n",
       "  </thead>\n",
       "  <tbody>\n",
       "    <tr>\n",
       "      <th>0</th>\n",
       "      <td>2021-02-19 20:18:00</td>\n",
       "      <td>816.636759</td>\n",
       "      <td>834.917206</td>\n",
       "      <td>31.694380</td>\n",
       "      <td>1159.616602</td>\n",
       "      <td>65.954214</td>\n",
       "      <td>917.897085</td>\n",
       "      <td>31.881972</td>\n",
       "      <td>31.504713</td>\n",
       "      <td>141.457644</td>\n",
       "      <td>165.501518</td>\n",
       "      <td>280.864782</td>\n",
       "      <td>7.057000</td>\n",
       "      <td>0.544082</td>\n",
       "      <td>Turbine_108</td>\n",
       "      <td>47.582787</td>\n",
       "    </tr>\n",
       "    <tr>\n",
       "      <th>1</th>\n",
       "      <td>2021-04-27 04:55:00</td>\n",
       "      <td>419.107829</td>\n",
       "      <td>421.050873</td>\n",
       "      <td>12.894948</td>\n",
       "      <td>928.747996</td>\n",
       "      <td>59.571319</td>\n",
       "      <td>445.554250</td>\n",
       "      <td>32.423705</td>\n",
       "      <td>32.755770</td>\n",
       "      <td>89.186457</td>\n",
       "      <td>113.835236</td>\n",
       "      <td>299.552460</td>\n",
       "      <td>5.474937</td>\n",
       "      <td>0.469031</td>\n",
       "      <td>Turbine_18</td>\n",
       "      <td>46.070328</td>\n",
       "    </tr>\n",
       "    <tr>\n",
       "      <th>2</th>\n",
       "      <td>2021-01-25 06:26:00</td>\n",
       "      <td>1303.530558</td>\n",
       "      <td>1337.566142</td>\n",
       "      <td>16.648388</td>\n",
       "      <td>1201.219775</td>\n",
       "      <td>61.270498</td>\n",
       "      <td>1364.716003</td>\n",
       "      <td>11.446849</td>\n",
       "      <td>18.332985</td>\n",
       "      <td>230.622309</td>\n",
       "      <td>281.452253</td>\n",
       "      <td>84.960106</td>\n",
       "      <td>8.092457</td>\n",
       "      <td>0.622318</td>\n",
       "      <td>Turbine_105</td>\n",
       "      <td>39.989236</td>\n",
       "    </tr>\n",
       "    <tr>\n",
       "      <th>3</th>\n",
       "      <td>2021-10-30 03:47:00</td>\n",
       "      <td>61.494872</td>\n",
       "      <td>53.481008</td>\n",
       "      <td>28.388141</td>\n",
       "      <td>769.806122</td>\n",
       "      <td>40.674348</td>\n",
       "      <td>14.324897</td>\n",
       "      <td>34.253204</td>\n",
       "      <td>32.662889</td>\n",
       "      <td>66.211015</td>\n",
       "      <td>75.017531</td>\n",
       "      <td>87.261119</td>\n",
       "      <td>4.071032</td>\n",
       "      <td>0.760719</td>\n",
       "      <td>Turbine_15</td>\n",
       "      <td>46.056587</td>\n",
       "    </tr>\n",
       "    <tr>\n",
       "      <th>4</th>\n",
       "      <td>2021-03-15 00:39:00</td>\n",
       "      <td>593.514364</td>\n",
       "      <td>611.659108</td>\n",
       "      <td>31.519527</td>\n",
       "      <td>1046.916768</td>\n",
       "      <td>64.341763</td>\n",
       "      <td>599.020172</td>\n",
       "      <td>32.405586</td>\n",
       "      <td>31.466387</td>\n",
       "      <td>137.163938</td>\n",
       "      <td>160.202421</td>\n",
       "      <td>313.724818</td>\n",
       "      <td>6.357943</td>\n",
       "      <td>0.346068</td>\n",
       "      <td>Turbine_01</td>\n",
       "      <td>54.346095</td>\n",
       "    </tr>\n",
       "  </tbody>\n",
       "</table>\n",
       "</div>"
      ],
      "text/plain": [
       "             timestamp  active_power_calculated_by_converter  \\\n",
       "0  2021-02-19 20:18:00                            816.636759   \n",
       "1  2021-04-27 04:55:00                            419.107829   \n",
       "2  2021-01-25 06:26:00                           1303.530558   \n",
       "3  2021-10-30 03:47:00                             61.494872   \n",
       "4  2021-03-15 00:39:00                            593.514364   \n",
       "\n",
       "   active_power_raw  ambient_temperature  generator_speed  \\\n",
       "0        834.917206            31.694380      1159.616602   \n",
       "1        421.050873            12.894948       928.747996   \n",
       "2       1337.566142            16.648388      1201.219775   \n",
       "3         53.481008            28.388141       769.806122   \n",
       "4        611.659108            31.519527      1046.916768   \n",
       "\n",
       "   generator_winding_temp_max  grid_power10min_average  nc1_inside_temp  \\\n",
       "0                   65.954214               917.897085        31.881972   \n",
       "1                   59.571319               445.554250        32.423705   \n",
       "2                   61.270498              1364.716003        11.446849   \n",
       "3                   40.674348                14.324897        34.253204   \n",
       "4                   64.341763               599.020172        32.405586   \n",
       "\n",
       "   nacelle_temp  reactice_power_calculated_by_converter  reactive_power  \\\n",
       "0     31.504713                              141.457644      165.501518   \n",
       "1     32.755770                               89.186457      113.835236   \n",
       "2     18.332985                              230.622309      281.452253   \n",
       "3     32.662889                               66.211015       75.017531   \n",
       "4     31.466387                              137.163938      160.202421   \n",
       "\n",
       "   wind_direction_raw  wind_speed_raw  wind_speed_turbulence   turbine_id  \\\n",
       "0          280.864782        7.057000               0.544082  Turbine_108   \n",
       "1          299.552460        5.474937               0.469031   Turbine_18   \n",
       "2           84.960106        8.092457               0.622318  Turbine_105   \n",
       "3           87.261119        4.071032               0.760719   Turbine_15   \n",
       "4          313.724818        6.357943               0.346068   Turbine_01   \n",
       "\n",
       "      Target  \n",
       "0  47.582787  \n",
       "1  46.070328  \n",
       "2  39.989236  \n",
       "3  46.056587  \n",
       "4  54.346095  "
      ]
     },
     "execution_count": 97,
     "metadata": {},
     "output_type": "execute_result"
    }
   ],
   "source": [
    "train = pd.read_csv('./ReNew_Participants_Data/train.csv')\n",
    "test = pd.read_csv('./ReNew_Participants_Data/test.csv')\n",
    "\n",
    "print(\"The Wind Turbine training dataset has\", train.shape[0], \"records, each with\",train.shape[1],\"attributes.\")\n",
    "train.head()"
   ]
  },
  {
   "cell_type": "code",
   "execution_count": 98,
   "metadata": {},
   "outputs": [
    {
     "name": "stdout",
     "output_type": "stream",
     "text": [
      "The Wind Turbine test dataset has 303202 records, each with 14 attributes.\n"
     ]
    },
    {
     "data": {
      "text/html": [
       "<div>\n",
       "<style scoped>\n",
       "    .dataframe tbody tr th:only-of-type {\n",
       "        vertical-align: middle;\n",
       "    }\n",
       "\n",
       "    .dataframe tbody tr th {\n",
       "        vertical-align: top;\n",
       "    }\n",
       "\n",
       "    .dataframe thead th {\n",
       "        text-align: right;\n",
       "    }\n",
       "</style>\n",
       "<table border=\"1\" class=\"dataframe\">\n",
       "  <thead>\n",
       "    <tr style=\"text-align: right;\">\n",
       "      <th></th>\n",
       "      <th>active_power_calculated_by_converter</th>\n",
       "      <th>active_power_raw</th>\n",
       "      <th>ambient_temperature</th>\n",
       "      <th>generator_speed</th>\n",
       "      <th>generator_winding_temp_max</th>\n",
       "      <th>grid_power10min_average</th>\n",
       "      <th>nc1_inside_temp</th>\n",
       "      <th>nacelle_temp</th>\n",
       "      <th>reactice_power_calculated_by_converter</th>\n",
       "      <th>reactive_power</th>\n",
       "      <th>wind_direction_raw</th>\n",
       "      <th>wind_speed_raw</th>\n",
       "      <th>wind_speed_turbulence</th>\n",
       "      <th>turbine_id</th>\n",
       "    </tr>\n",
       "  </thead>\n",
       "  <tbody>\n",
       "    <tr>\n",
       "      <th>0</th>\n",
       "      <td>15.507537</td>\n",
       "      <td>19.956882</td>\n",
       "      <td>40.233264</td>\n",
       "      <td>410.538834</td>\n",
       "      <td>57.357366</td>\n",
       "      <td>84.008399</td>\n",
       "      <td>48.826597</td>\n",
       "      <td>45.363477</td>\n",
       "      <td>2.419202</td>\n",
       "      <td>1.468876</td>\n",
       "      <td>156.399396</td>\n",
       "      <td>2.438629</td>\n",
       "      <td>0.790435</td>\n",
       "      <td>Turbine_14</td>\n",
       "    </tr>\n",
       "    <tr>\n",
       "      <th>1</th>\n",
       "      <td>472.577255</td>\n",
       "      <td>478.373881</td>\n",
       "      <td>12.306687</td>\n",
       "      <td>965.077563</td>\n",
       "      <td>51.796728</td>\n",
       "      <td>492.531362</td>\n",
       "      <td>27.457511</td>\n",
       "      <td>24.045565</td>\n",
       "      <td>96.152070</td>\n",
       "      <td>119.378235</td>\n",
       "      <td>56.443802</td>\n",
       "      <td>5.900371</td>\n",
       "      <td>0.544198</td>\n",
       "      <td>Turbine_19</td>\n",
       "    </tr>\n",
       "    <tr>\n",
       "      <th>2</th>\n",
       "      <td>447.829615</td>\n",
       "      <td>451.158264</td>\n",
       "      <td>29.106771</td>\n",
       "      <td>948.035899</td>\n",
       "      <td>60.493098</td>\n",
       "      <td>393.151576</td>\n",
       "      <td>39.410553</td>\n",
       "      <td>35.715697</td>\n",
       "      <td>90.251529</td>\n",
       "      <td>117.192635</td>\n",
       "      <td>224.540263</td>\n",
       "      <td>5.924923</td>\n",
       "      <td>0.513481</td>\n",
       "      <td>Turbine_14</td>\n",
       "    </tr>\n",
       "    <tr>\n",
       "      <th>3</th>\n",
       "      <td>254.014336</td>\n",
       "      <td>249.438965</td>\n",
       "      <td>27.074900</td>\n",
       "      <td>804.963776</td>\n",
       "      <td>55.741899</td>\n",
       "      <td>178.715101</td>\n",
       "      <td>29.476841</td>\n",
       "      <td>31.151895</td>\n",
       "      <td>89.273838</td>\n",
       "      <td>105.086257</td>\n",
       "      <td>182.151426</td>\n",
       "      <td>4.409707</td>\n",
       "      <td>0.448881</td>\n",
       "      <td>Turbine_120</td>\n",
       "    </tr>\n",
       "    <tr>\n",
       "      <th>4</th>\n",
       "      <td>1174.930566</td>\n",
       "      <td>1202.654077</td>\n",
       "      <td>32.148434</td>\n",
       "      <td>1199.754858</td>\n",
       "      <td>67.272313</td>\n",
       "      <td>1115.850317</td>\n",
       "      <td>31.920549</td>\n",
       "      <td>30.864276</td>\n",
       "      <td>189.731988</td>\n",
       "      <td>236.053320</td>\n",
       "      <td>261.672180</td>\n",
       "      <td>7.822326</td>\n",
       "      <td>0.561465</td>\n",
       "      <td>Turbine_158</td>\n",
       "    </tr>\n",
       "  </tbody>\n",
       "</table>\n",
       "</div>"
      ],
      "text/plain": [
       "   active_power_calculated_by_converter  active_power_raw  \\\n",
       "0                             15.507537         19.956882   \n",
       "1                            472.577255        478.373881   \n",
       "2                            447.829615        451.158264   \n",
       "3                            254.014336        249.438965   \n",
       "4                           1174.930566       1202.654077   \n",
       "\n",
       "   ambient_temperature  generator_speed  generator_winding_temp_max  \\\n",
       "0            40.233264       410.538834                   57.357366   \n",
       "1            12.306687       965.077563                   51.796728   \n",
       "2            29.106771       948.035899                   60.493098   \n",
       "3            27.074900       804.963776                   55.741899   \n",
       "4            32.148434      1199.754858                   67.272313   \n",
       "\n",
       "   grid_power10min_average  nc1_inside_temp  nacelle_temp  \\\n",
       "0                84.008399        48.826597     45.363477   \n",
       "1               492.531362        27.457511     24.045565   \n",
       "2               393.151576        39.410553     35.715697   \n",
       "3               178.715101        29.476841     31.151895   \n",
       "4              1115.850317        31.920549     30.864276   \n",
       "\n",
       "   reactice_power_calculated_by_converter  reactive_power  wind_direction_raw  \\\n",
       "0                                2.419202        1.468876          156.399396   \n",
       "1                               96.152070      119.378235           56.443802   \n",
       "2                               90.251529      117.192635          224.540263   \n",
       "3                               89.273838      105.086257          182.151426   \n",
       "4                              189.731988      236.053320          261.672180   \n",
       "\n",
       "   wind_speed_raw  wind_speed_turbulence   turbine_id  \n",
       "0        2.438629               0.790435   Turbine_14  \n",
       "1        5.900371               0.544198   Turbine_19  \n",
       "2        5.924923               0.513481   Turbine_14  \n",
       "3        4.409707               0.448881  Turbine_120  \n",
       "4        7.822326               0.561465  Turbine_158  "
      ]
     },
     "execution_count": 98,
     "metadata": {},
     "output_type": "execute_result"
    }
   ],
   "source": [
    "print(\"The Wind Turbine test dataset has\", test.shape[0], \"records, each with\",test.shape[1],\"attributes.\")\n",
    "test.head()"
   ]
  },
  {
   "cell_type": "code",
   "execution_count": 99,
   "metadata": {},
   "outputs": [
    {
     "name": "stdout",
     "output_type": "stream",
     "text": [
      "<class 'pandas.core.frame.DataFrame'>\n",
      "RangeIndex: 909604 entries, 0 to 909603\n",
      "Data columns (total 16 columns):\n",
      " #   Column                                  Non-Null Count   Dtype         \n",
      "---  ------                                  --------------   -----         \n",
      " 0   timestamp                               909604 non-null  datetime64[ns]\n",
      " 1   active_power_calculated_by_converter    909604 non-null  float64       \n",
      " 2   active_power_raw                        909604 non-null  float64       \n",
      " 3   ambient_temperature                     909604 non-null  float64       \n",
      " 4   generator_speed                         909604 non-null  float64       \n",
      " 5   generator_winding_temp_max              909604 non-null  float64       \n",
      " 6   grid_power10min_average                 909604 non-null  float64       \n",
      " 7   nc1_inside_temp                         909604 non-null  float64       \n",
      " 8   nacelle_temp                            909604 non-null  float64       \n",
      " 9   reactice_power_calculated_by_converter  909604 non-null  float64       \n",
      " 10  reactive_power                          909604 non-null  float64       \n",
      " 11  wind_direction_raw                      909604 non-null  float64       \n",
      " 12  wind_speed_raw                          909604 non-null  float64       \n",
      " 13  wind_speed_turbulence                   909604 non-null  float64       \n",
      " 14  turbine_id                              909604 non-null  object        \n",
      " 15  Target                                  909604 non-null  float64       \n",
      "dtypes: datetime64[ns](1), float64(14), object(1)\n",
      "memory usage: 111.0+ MB\n"
     ]
    }
   ],
   "source": [
    "# We will change the Timestamp columns\n",
    "train['timestamp'] = pd.to_datetime(train['timestamp'])\n",
    "train.info()"
   ]
  },
  {
   "cell_type": "code",
   "execution_count": 100,
   "metadata": {},
   "outputs": [
    {
     "data": {
      "text/html": [
       "<div>\n",
       "<style scoped>\n",
       "    .dataframe tbody tr th:only-of-type {\n",
       "        vertical-align: middle;\n",
       "    }\n",
       "\n",
       "    .dataframe tbody tr th {\n",
       "        vertical-align: top;\n",
       "    }\n",
       "\n",
       "    .dataframe thead th {\n",
       "        text-align: right;\n",
       "    }\n",
       "</style>\n",
       "<table border=\"1\" class=\"dataframe\">\n",
       "  <thead>\n",
       "    <tr style=\"text-align: right;\">\n",
       "      <th></th>\n",
       "      <th>timestamp</th>\n",
       "      <th>active_power_calculated_by_converter</th>\n",
       "      <th>active_power_raw</th>\n",
       "      <th>ambient_temperature</th>\n",
       "      <th>generator_speed</th>\n",
       "      <th>generator_winding_temp_max</th>\n",
       "      <th>grid_power10min_average</th>\n",
       "      <th>nc1_inside_temp</th>\n",
       "      <th>nacelle_temp</th>\n",
       "      <th>reactice_power_calculated_by_converter</th>\n",
       "      <th>reactive_power</th>\n",
       "      <th>wind_direction_raw</th>\n",
       "      <th>wind_speed_raw</th>\n",
       "      <th>wind_speed_turbulence</th>\n",
       "      <th>turbine_id</th>\n",
       "      <th>Target</th>\n",
       "    </tr>\n",
       "  </thead>\n",
       "  <tbody>\n",
       "    <tr>\n",
       "      <th>0</th>\n",
       "      <td>2021-02-19 20:18:00</td>\n",
       "      <td>816.636759</td>\n",
       "      <td>834.917206</td>\n",
       "      <td>31.694380</td>\n",
       "      <td>1159.616602</td>\n",
       "      <td>65.954214</td>\n",
       "      <td>917.897085</td>\n",
       "      <td>31.881972</td>\n",
       "      <td>31.504713</td>\n",
       "      <td>141.457644</td>\n",
       "      <td>165.501518</td>\n",
       "      <td>280.864782</td>\n",
       "      <td>7.057000</td>\n",
       "      <td>0.544082</td>\n",
       "      <td>Turbine_108</td>\n",
       "      <td>47.582787</td>\n",
       "    </tr>\n",
       "    <tr>\n",
       "      <th>1</th>\n",
       "      <td>2021-04-27 04:55:00</td>\n",
       "      <td>419.107829</td>\n",
       "      <td>421.050873</td>\n",
       "      <td>12.894948</td>\n",
       "      <td>928.747996</td>\n",
       "      <td>59.571319</td>\n",
       "      <td>445.554250</td>\n",
       "      <td>32.423705</td>\n",
       "      <td>32.755770</td>\n",
       "      <td>89.186457</td>\n",
       "      <td>113.835236</td>\n",
       "      <td>299.552460</td>\n",
       "      <td>5.474937</td>\n",
       "      <td>0.469031</td>\n",
       "      <td>Turbine_18</td>\n",
       "      <td>46.070328</td>\n",
       "    </tr>\n",
       "    <tr>\n",
       "      <th>2</th>\n",
       "      <td>2021-01-25 06:26:00</td>\n",
       "      <td>1303.530558</td>\n",
       "      <td>1337.566142</td>\n",
       "      <td>16.648388</td>\n",
       "      <td>1201.219775</td>\n",
       "      <td>61.270498</td>\n",
       "      <td>1364.716003</td>\n",
       "      <td>11.446849</td>\n",
       "      <td>18.332985</td>\n",
       "      <td>230.622309</td>\n",
       "      <td>281.452253</td>\n",
       "      <td>84.960106</td>\n",
       "      <td>8.092457</td>\n",
       "      <td>0.622318</td>\n",
       "      <td>Turbine_105</td>\n",
       "      <td>39.989236</td>\n",
       "    </tr>\n",
       "    <tr>\n",
       "      <th>3</th>\n",
       "      <td>2021-10-30 03:47:00</td>\n",
       "      <td>61.494872</td>\n",
       "      <td>53.481008</td>\n",
       "      <td>28.388141</td>\n",
       "      <td>769.806122</td>\n",
       "      <td>40.674348</td>\n",
       "      <td>14.324897</td>\n",
       "      <td>34.253204</td>\n",
       "      <td>32.662889</td>\n",
       "      <td>66.211015</td>\n",
       "      <td>75.017531</td>\n",
       "      <td>87.261119</td>\n",
       "      <td>4.071032</td>\n",
       "      <td>0.760719</td>\n",
       "      <td>Turbine_15</td>\n",
       "      <td>46.056587</td>\n",
       "    </tr>\n",
       "    <tr>\n",
       "      <th>4</th>\n",
       "      <td>2021-03-15 00:39:00</td>\n",
       "      <td>593.514364</td>\n",
       "      <td>611.659108</td>\n",
       "      <td>31.519527</td>\n",
       "      <td>1046.916768</td>\n",
       "      <td>64.341763</td>\n",
       "      <td>599.020172</td>\n",
       "      <td>32.405586</td>\n",
       "      <td>31.466387</td>\n",
       "      <td>137.163938</td>\n",
       "      <td>160.202421</td>\n",
       "      <td>313.724818</td>\n",
       "      <td>6.357943</td>\n",
       "      <td>0.346068</td>\n",
       "      <td>Turbine_01</td>\n",
       "      <td>54.346095</td>\n",
       "    </tr>\n",
       "  </tbody>\n",
       "</table>\n",
       "</div>"
      ],
      "text/plain": [
       "            timestamp  active_power_calculated_by_converter  active_power_raw  \\\n",
       "0 2021-02-19 20:18:00                            816.636759        834.917206   \n",
       "1 2021-04-27 04:55:00                            419.107829        421.050873   \n",
       "2 2021-01-25 06:26:00                           1303.530558       1337.566142   \n",
       "3 2021-10-30 03:47:00                             61.494872         53.481008   \n",
       "4 2021-03-15 00:39:00                            593.514364        611.659108   \n",
       "\n",
       "   ambient_temperature  generator_speed  generator_winding_temp_max  \\\n",
       "0            31.694380      1159.616602                   65.954214   \n",
       "1            12.894948       928.747996                   59.571319   \n",
       "2            16.648388      1201.219775                   61.270498   \n",
       "3            28.388141       769.806122                   40.674348   \n",
       "4            31.519527      1046.916768                   64.341763   \n",
       "\n",
       "   grid_power10min_average  nc1_inside_temp  nacelle_temp  \\\n",
       "0               917.897085        31.881972     31.504713   \n",
       "1               445.554250        32.423705     32.755770   \n",
       "2              1364.716003        11.446849     18.332985   \n",
       "3                14.324897        34.253204     32.662889   \n",
       "4               599.020172        32.405586     31.466387   \n",
       "\n",
       "   reactice_power_calculated_by_converter  reactive_power  wind_direction_raw  \\\n",
       "0                              141.457644      165.501518          280.864782   \n",
       "1                               89.186457      113.835236          299.552460   \n",
       "2                              230.622309      281.452253           84.960106   \n",
       "3                               66.211015       75.017531           87.261119   \n",
       "4                              137.163938      160.202421          313.724818   \n",
       "\n",
       "   wind_speed_raw  wind_speed_turbulence   turbine_id     Target  \n",
       "0        7.057000               0.544082  Turbine_108  47.582787  \n",
       "1        5.474937               0.469031   Turbine_18  46.070328  \n",
       "2        8.092457               0.622318  Turbine_105  39.989236  \n",
       "3        4.071032               0.760719   Turbine_15  46.056587  \n",
       "4        6.357943               0.346068   Turbine_01  54.346095  "
      ]
     },
     "execution_count": 100,
     "metadata": {},
     "output_type": "execute_result"
    }
   ],
   "source": [
    "train.head()"
   ]
  },
  {
   "cell_type": "code",
   "execution_count": 101,
   "metadata": {},
   "outputs": [],
   "source": [
    "train.drop(['timestamp', 'turbine_id'],axis=1,inplace=True)\n",
    "test.drop(['turbine_id'], axis=1, inplace=True)"
   ]
  },
  {
   "cell_type": "code",
   "execution_count": 102,
   "metadata": {},
   "outputs": [
    {
     "data": {
      "text/plain": [
       "(909604, 14)"
      ]
     },
     "execution_count": 102,
     "metadata": {},
     "output_type": "execute_result"
    }
   ],
   "source": [
    "train.shape"
   ]
  },
  {
   "cell_type": "code",
   "execution_count": 103,
   "metadata": {},
   "outputs": [
    {
     "data": {
      "text/plain": [
       "(303202, 13)"
      ]
     },
     "execution_count": 103,
     "metadata": {},
     "output_type": "execute_result"
    }
   ],
   "source": [
    "test.shape"
   ]
  },
  {
   "cell_type": "markdown",
   "metadata": {},
   "source": [
    "**Understanding and exploring the columns and dataset better**\n"
   ]
  },
  {
   "cell_type": "code",
   "execution_count": 21,
   "metadata": {},
   "outputs": [
    {
     "data": {
      "application/vnd.jupyter.widget-view+json": {
       "model_id": "41ce4cfd2a4349e189b9d6ebc467e1a7",
       "version_major": 2,
       "version_minor": 0
      },
      "text/plain": [
       "Summarize dataset:   0%|          | 0/24 [00:00<?, ?it/s]"
      ]
     },
     "metadata": {},
     "output_type": "display_data"
    },
    {
     "data": {
      "application/vnd.jupyter.widget-view+json": {
       "model_id": "13f2adeb8b054255868f699002ccba3b",
       "version_major": 2,
       "version_minor": 0
      },
      "text/plain": [
       "Generate report structure:   0%|          | 0/1 [00:00<?, ?it/s]"
      ]
     },
     "metadata": {},
     "output_type": "display_data"
    },
    {
     "data": {
      "application/vnd.jupyter.widget-view+json": {
       "model_id": "2d474267ab834a37965f56bc305b80a2",
       "version_major": 2,
       "version_minor": 0
      },
      "text/plain": [
       "Render HTML:   0%|          | 0/1 [00:00<?, ?it/s]"
      ]
     },
     "metadata": {},
     "output_type": "display_data"
    },
    {
     "data": {
      "application/vnd.jupyter.widget-view+json": {
       "model_id": "d84de397649748ca96ef3df1eb6665e0",
       "version_major": 2,
       "version_minor": 0
      },
      "text/plain": [
       "Export report to file:   0%|          | 0/1 [00:00<?, ?it/s]"
      ]
     },
     "metadata": {},
     "output_type": "display_data"
    }
   ],
   "source": [
    "DataProfile = ProfileReport(train, title = \"Wind Turbine Data Profile Report\", explorative=True, minimal=True)\n",
    "DataProfile.to_file(output_file=\"DataProfile.html\")"
   ]
  },
  {
   "cell_type": "code",
   "execution_count": 68,
   "metadata": {},
   "outputs": [
    {
     "data": {
      "text/html": [
       "<div>\n",
       "<style scoped>\n",
       "    .dataframe tbody tr th:only-of-type {\n",
       "        vertical-align: middle;\n",
       "    }\n",
       "\n",
       "    .dataframe tbody tr th {\n",
       "        vertical-align: top;\n",
       "    }\n",
       "\n",
       "    .dataframe thead th {\n",
       "        text-align: right;\n",
       "    }\n",
       "</style>\n",
       "<table border=\"1\" class=\"dataframe\">\n",
       "  <thead>\n",
       "    <tr style=\"text-align: right;\">\n",
       "      <th></th>\n",
       "      <th>active_power_calculated_by_converter</th>\n",
       "      <th>active_power_raw</th>\n",
       "      <th>ambient_temperature</th>\n",
       "      <th>generator_speed</th>\n",
       "      <th>generator_winding_temp_max</th>\n",
       "      <th>grid_power10min_average</th>\n",
       "      <th>nc1_inside_temp</th>\n",
       "      <th>nacelle_temp</th>\n",
       "      <th>reactice_power_calculated_by_converter</th>\n",
       "      <th>reactive_power</th>\n",
       "      <th>wind_direction_raw</th>\n",
       "      <th>wind_speed_raw</th>\n",
       "      <th>wind_speed_turbulence</th>\n",
       "      <th>Target</th>\n",
       "    </tr>\n",
       "  </thead>\n",
       "  <tbody>\n",
       "    <tr>\n",
       "      <th>count</th>\n",
       "      <td>909604.000000</td>\n",
       "      <td>909604.000000</td>\n",
       "      <td>909604.000000</td>\n",
       "      <td>909604.000000</td>\n",
       "      <td>909604.000000</td>\n",
       "      <td>909604.000000</td>\n",
       "      <td>909604.000000</td>\n",
       "      <td>909604.000000</td>\n",
       "      <td>909604.000000</td>\n",
       "      <td>909604.000000</td>\n",
       "      <td>909604.000000</td>\n",
       "      <td>909604.000000</td>\n",
       "      <td>909604.000000</td>\n",
       "      <td>909604.000000</td>\n",
       "    </tr>\n",
       "    <tr>\n",
       "      <th>mean</th>\n",
       "      <td>525.886061</td>\n",
       "      <td>537.639468</td>\n",
       "      <td>25.573921</td>\n",
       "      <td>931.130882</td>\n",
       "      <td>60.730112</td>\n",
       "      <td>527.579537</td>\n",
       "      <td>31.755823</td>\n",
       "      <td>31.686413</td>\n",
       "      <td>111.080610</td>\n",
       "      <td>133.692333</td>\n",
       "      <td>199.487161</td>\n",
       "      <td>5.894950</td>\n",
       "      <td>0.651916</td>\n",
       "      <td>46.328595</td>\n",
       "    </tr>\n",
       "    <tr>\n",
       "      <th>std</th>\n",
       "      <td>474.619576</td>\n",
       "      <td>482.394907</td>\n",
       "      <td>8.025649</td>\n",
       "      <td>193.674384</td>\n",
       "      <td>9.721582</td>\n",
       "      <td>472.656976</td>\n",
       "      <td>3.929794</td>\n",
       "      <td>3.554426</td>\n",
       "      <td>78.219944</td>\n",
       "      <td>91.232152</td>\n",
       "      <td>104.617261</td>\n",
       "      <td>1.977684</td>\n",
       "      <td>0.317513</td>\n",
       "      <td>2.617691</td>\n",
       "    </tr>\n",
       "    <tr>\n",
       "      <th>min</th>\n",
       "      <td>0.000000</td>\n",
       "      <td>0.000008</td>\n",
       "      <td>5.616541</td>\n",
       "      <td>0.000000</td>\n",
       "      <td>25.636366</td>\n",
       "      <td>0.000000</td>\n",
       "      <td>11.141922</td>\n",
       "      <td>16.010218</td>\n",
       "      <td>-318.393721</td>\n",
       "      <td>-5.461607</td>\n",
       "      <td>0.309692</td>\n",
       "      <td>0.904500</td>\n",
       "      <td>0.000000</td>\n",
       "      <td>25.865320</td>\n",
       "    </tr>\n",
       "    <tr>\n",
       "      <th>25%</th>\n",
       "      <td>149.620898</td>\n",
       "      <td>155.813244</td>\n",
       "      <td>17.093680</td>\n",
       "      <td>770.538574</td>\n",
       "      <td>54.916767</td>\n",
       "      <td>147.181552</td>\n",
       "      <td>29.913803</td>\n",
       "      <td>30.267423</td>\n",
       "      <td>81.540850</td>\n",
       "      <td>96.045765</td>\n",
       "      <td>98.916060</td>\n",
       "      <td>4.400753</td>\n",
       "      <td>0.432129</td>\n",
       "      <td>44.816740</td>\n",
       "    </tr>\n",
       "    <tr>\n",
       "      <th>50%</th>\n",
       "      <td>379.989929</td>\n",
       "      <td>383.985926</td>\n",
       "      <td>27.919035</td>\n",
       "      <td>884.068502</td>\n",
       "      <td>60.034490</td>\n",
       "      <td>391.303187</td>\n",
       "      <td>31.762946</td>\n",
       "      <td>31.961610</td>\n",
       "      <td>92.005826</td>\n",
       "      <td>107.633378</td>\n",
       "      <td>232.821159</td>\n",
       "      <td>5.637207</td>\n",
       "      <td>0.583863</td>\n",
       "      <td>46.302899</td>\n",
       "    </tr>\n",
       "    <tr>\n",
       "      <th>75%</th>\n",
       "      <td>781.357475</td>\n",
       "      <td>800.261108</td>\n",
       "      <td>32.171696</td>\n",
       "      <td>1123.335856</td>\n",
       "      <td>65.737187</td>\n",
       "      <td>794.875710</td>\n",
       "      <td>33.469745</td>\n",
       "      <td>33.546260</td>\n",
       "      <td>124.879153</td>\n",
       "      <td>154.153730</td>\n",
       "      <td>287.667503</td>\n",
       "      <td>7.092771</td>\n",
       "      <td>0.798240</td>\n",
       "      <td>47.733105</td>\n",
       "    </tr>\n",
       "    <tr>\n",
       "      <th>max</th>\n",
       "      <td>1999.999858</td>\n",
       "      <td>1999.984456</td>\n",
       "      <td>48.089017</td>\n",
       "      <td>1267.140625</td>\n",
       "      <td>129.846405</td>\n",
       "      <td>1999.991455</td>\n",
       "      <td>52.790030</td>\n",
       "      <td>48.406106</td>\n",
       "      <td>523.892695</td>\n",
       "      <td>592.815938</td>\n",
       "      <td>359.455531</td>\n",
       "      <td>19.795001</td>\n",
       "      <td>9.534769</td>\n",
       "      <td>65.037689</td>\n",
       "    </tr>\n",
       "  </tbody>\n",
       "</table>\n",
       "</div>"
      ],
      "text/plain": [
       "       active_power_calculated_by_converter  active_power_raw  \\\n",
       "count                         909604.000000     909604.000000   \n",
       "mean                             525.886061        537.639468   \n",
       "std                              474.619576        482.394907   \n",
       "min                                0.000000          0.000008   \n",
       "25%                              149.620898        155.813244   \n",
       "50%                              379.989929        383.985926   \n",
       "75%                              781.357475        800.261108   \n",
       "max                             1999.999858       1999.984456   \n",
       "\n",
       "       ambient_temperature  generator_speed  generator_winding_temp_max  \\\n",
       "count        909604.000000    909604.000000               909604.000000   \n",
       "mean             25.573921       931.130882                   60.730112   \n",
       "std               8.025649       193.674384                    9.721582   \n",
       "min               5.616541         0.000000                   25.636366   \n",
       "25%              17.093680       770.538574                   54.916767   \n",
       "50%              27.919035       884.068502                   60.034490   \n",
       "75%              32.171696      1123.335856                   65.737187   \n",
       "max              48.089017      1267.140625                  129.846405   \n",
       "\n",
       "       grid_power10min_average  nc1_inside_temp   nacelle_temp  \\\n",
       "count            909604.000000    909604.000000  909604.000000   \n",
       "mean                527.579537        31.755823      31.686413   \n",
       "std                 472.656976         3.929794       3.554426   \n",
       "min                   0.000000        11.141922      16.010218   \n",
       "25%                 147.181552        29.913803      30.267423   \n",
       "50%                 391.303187        31.762946      31.961610   \n",
       "75%                 794.875710        33.469745      33.546260   \n",
       "max                1999.991455        52.790030      48.406106   \n",
       "\n",
       "       reactice_power_calculated_by_converter  reactive_power  \\\n",
       "count                           909604.000000   909604.000000   \n",
       "mean                               111.080610      133.692333   \n",
       "std                                 78.219944       91.232152   \n",
       "min                               -318.393721       -5.461607   \n",
       "25%                                 81.540850       96.045765   \n",
       "50%                                 92.005826      107.633378   \n",
       "75%                                124.879153      154.153730   \n",
       "max                                523.892695      592.815938   \n",
       "\n",
       "       wind_direction_raw  wind_speed_raw  wind_speed_turbulence  \\\n",
       "count       909604.000000   909604.000000          909604.000000   \n",
       "mean           199.487161        5.894950               0.651916   \n",
       "std            104.617261        1.977684               0.317513   \n",
       "min              0.309692        0.904500               0.000000   \n",
       "25%             98.916060        4.400753               0.432129   \n",
       "50%            232.821159        5.637207               0.583863   \n",
       "75%            287.667503        7.092771               0.798240   \n",
       "max            359.455531       19.795001               9.534769   \n",
       "\n",
       "              Target  \n",
       "count  909604.000000  \n",
       "mean       46.328595  \n",
       "std         2.617691  \n",
       "min        25.865320  \n",
       "25%        44.816740  \n",
       "50%        46.302899  \n",
       "75%        47.733105  \n",
       "max        65.037689  "
      ]
     },
     "execution_count": 68,
     "metadata": {},
     "output_type": "execute_result"
    }
   ],
   "source": [
    "train.describe()"
   ]
  },
  {
   "cell_type": "code",
   "execution_count": 104,
   "metadata": {},
   "outputs": [
    {
     "data": {
      "text/plain": [
       "active_power_calculated_by_converter      0\n",
       "active_power_raw                          0\n",
       "ambient_temperature                       0\n",
       "generator_speed                           0\n",
       "generator_winding_temp_max                0\n",
       "grid_power10min_average                   0\n",
       "nc1_inside_temp                           0\n",
       "nacelle_temp                              0\n",
       "reactice_power_calculated_by_converter    0\n",
       "reactive_power                            0\n",
       "wind_direction_raw                        0\n",
       "wind_speed_raw                            0\n",
       "wind_speed_turbulence                     0\n",
       "Target                                    0\n",
       "dtype: int64"
      ]
     },
     "execution_count": 104,
     "metadata": {},
     "output_type": "execute_result"
    }
   ],
   "source": [
    "# Check for null\n",
    "train.isnull().sum()"
   ]
  },
  {
   "cell_type": "code",
   "execution_count": 105,
   "metadata": {},
   "outputs": [
    {
     "data": {
      "text/plain": [
       "active_power_calculated_by_converter      0\n",
       "active_power_raw                          0\n",
       "ambient_temperature                       0\n",
       "generator_speed                           0\n",
       "generator_winding_temp_max                0\n",
       "grid_power10min_average                   0\n",
       "nc1_inside_temp                           0\n",
       "nacelle_temp                              0\n",
       "reactice_power_calculated_by_converter    0\n",
       "reactive_power                            0\n",
       "wind_direction_raw                        0\n",
       "wind_speed_raw                            0\n",
       "wind_speed_turbulence                     0\n",
       "dtype: int64"
      ]
     },
     "execution_count": 105,
     "metadata": {},
     "output_type": "execute_result"
    }
   ],
   "source": [
    "test.isnull().sum()"
   ]
  },
  {
   "cell_type": "markdown",
   "metadata": {},
   "source": [
    "There are no NULL values to deal with."
   ]
  },
  {
   "cell_type": "code",
   "execution_count": 106,
   "metadata": {},
   "outputs": [
    {
     "data": {
      "text/plain": [
       "active_power_calculated_by_converter      1.094894\n",
       "active_power_raw                          1.079560\n",
       "ambient_temperature                      -0.405606\n",
       "generator_speed                          -0.432870\n",
       "generator_winding_temp_max                0.482791\n",
       "grid_power10min_average                   1.008062\n",
       "nc1_inside_temp                           0.040530\n",
       "nacelle_temp                             -0.427542\n",
       "reactice_power_calculated_by_converter    1.731298\n",
       "reactive_power                            1.638332\n",
       "wind_direction_raw                       -0.363971\n",
       "wind_speed_raw                            0.718327\n",
       "wind_speed_turbulence                     2.205472\n",
       "Target                                    0.705359\n",
       "dtype: float64"
      ]
     },
     "execution_count": 106,
     "metadata": {},
     "output_type": "execute_result"
    }
   ],
   "source": [
    "train.skew(axis=0)"
   ]
  },
  {
   "cell_type": "code",
   "execution_count": 107,
   "metadata": {},
   "outputs": [
    {
     "name": "stdout",
     "output_type": "stream",
     "text": [
      "active_power_calculated_by_converter : 14.09%\n",
      "active_power_raw : 14.16%\n",
      "ambient_temperature : 1.49%\n",
      "generator_speed : 1.66%\n",
      "generator_winding_temp_max : 22.78%\n",
      "grid_power10min_average : 13.61%\n",
      "nc1_inside_temp : 20.90%\n",
      "nacelle_temp : 25.87%\n",
      "reactice_power_calculated_by_converter : 35.88%\n",
      "reactive_power : 31.05%\n",
      "wind_direction_raw : 0.19%\n",
      "wind_speed_raw : 14.73%\n",
      "wind_speed_turbulence : 15.17%\n",
      "Target : 19.60%\n"
     ]
    }
   ],
   "source": [
    "for c in train:\n",
    "    q1 = train[c].quantile(0.25)\n",
    "    q3 = train[c].quantile(0.75)\n",
    "    iqr = q3 - q1\n",
    "    fence_low = q3 - 1.5*iqr\n",
    "    fence_high = q1 + 1.5*iqr\n",
    "    lower_out = len(train.loc[(train[c] < fence_low), c])\n",
    "    upper_out = len(train.loc[(train[c] > fence_high), c])\n",
    "    outlier_count = lower_out + upper_out\n",
    "    prop_outlier = outlier_count/len(train)\n",
    "    print(c, \": \"+\"{:.2%}\".format(prop_outlier))"
   ]
  },
  {
   "cell_type": "markdown",
   "metadata": {},
   "source": [
    "**DATA VISUALIZATION**"
   ]
  },
  {
   "cell_type": "code",
   "execution_count": 73,
   "metadata": {},
   "outputs": [
    {
     "data": {
      "image/png": "[encoded data removed]",
      "text/plain": [
       "<Figure size 1440x1152 with 14 Axes>"
      ]
     },
     "metadata": {},
     "output_type": "display_data"
    }
   ],
   "source": [
    "# Plotting the distributions of the numerical features\n",
    "plt.figure(figsize=(20,16))\n",
    "\n",
    "for i, col in enumerate(list(train)):\n",
    "    plt.subplot(4,5,i+1)\n",
    "    sns.distplot(train[col], color='b', kde=True, label='data')\n",
    "    plt.grid()\n",
    "    plt.tight_layout()"
   ]
  },
  {
   "cell_type": "markdown",
   "metadata": {},
   "source": [
    "Some are normally distributed; and some left skewed. The target variable ('Target') is normally distributed. Let's apply a power transformer on the data and see how that affects the distributions."
   ]
  },
  {
   "cell_type": "code",
   "execution_count": 112,
   "metadata": {},
   "outputs": [
    {
     "data": {
      "text/html": [
       "<div>\n",
       "<style scoped>\n",
       "    .dataframe tbody tr th:only-of-type {\n",
       "        vertical-align: middle;\n",
       "    }\n",
       "\n",
       "    .dataframe tbody tr th {\n",
       "        vertical-align: top;\n",
       "    }\n",
       "\n",
       "    .dataframe thead th {\n",
       "        text-align: right;\n",
       "    }\n",
       "</style>\n",
       "<table border=\"1\" class=\"dataframe\">\n",
       "  <thead>\n",
       "    <tr style=\"text-align: right;\">\n",
       "      <th></th>\n",
       "      <th>active_power_calculated_by_converter</th>\n",
       "      <th>active_power_raw</th>\n",
       "      <th>ambient_temperature</th>\n",
       "      <th>generator_speed</th>\n",
       "      <th>generator_winding_temp_max</th>\n",
       "      <th>grid_power10min_average</th>\n",
       "      <th>nc1_inside_temp</th>\n",
       "      <th>nacelle_temp</th>\n",
       "      <th>reactice_power_calculated_by_converter</th>\n",
       "      <th>reactive_power</th>\n",
       "      <th>wind_direction_raw</th>\n",
       "      <th>wind_speed_raw</th>\n",
       "      <th>wind_speed_turbulence</th>\n",
       "      <th>Target</th>\n",
       "    </tr>\n",
       "  </thead>\n",
       "  <tbody>\n",
       "    <tr>\n",
       "      <th>0</th>\n",
       "      <td>0.804489</td>\n",
       "      <td>0.812812</td>\n",
       "      <td>0.754969</td>\n",
       "      <td>1.217683</td>\n",
       "      <td>0.577310</td>\n",
       "      <td>0.924106</td>\n",
       "      <td>0.023750</td>\n",
       "      <td>-0.099916</td>\n",
       "      <td>0.491302</td>\n",
       "      <td>0.492280</td>\n",
       "      <td>0.777760</td>\n",
       "      <td>0.682465</td>\n",
       "      <td>-0.181267</td>\n",
       "      <td>47.582787</td>\n",
       "    </tr>\n",
       "    <tr>\n",
       "      <th>1</th>\n",
       "      <td>0.105511</td>\n",
       "      <td>0.091834</td>\n",
       "      <td>-1.508825</td>\n",
       "      <td>-0.049678</td>\n",
       "      <td>-0.067461</td>\n",
       "      <td>0.154954</td>\n",
       "      <td>0.162061</td>\n",
       "      <td>0.262363</td>\n",
       "      <td>-0.182065</td>\n",
       "      <td>-0.061024</td>\n",
       "      <td>0.949197</td>\n",
       "      <td>-0.090553</td>\n",
       "      <td>-0.532215</td>\n",
       "      <td>46.070328</td>\n",
       "    </tr>\n",
       "    <tr>\n",
       "      <th>2</th>\n",
       "      <td>1.393659</td>\n",
       "      <td>1.403914</td>\n",
       "      <td>-1.131586</td>\n",
       "      <td>1.455545</td>\n",
       "      <td>0.108487</td>\n",
       "      <td>1.440377</td>\n",
       "      <td>-4.905537</td>\n",
       "      <td>-3.179904</td>\n",
       "      <td>1.480174</td>\n",
       "      <td>1.499626</td>\n",
       "      <td>-1.083126</td>\n",
       "      <td>1.115842</td>\n",
       "      <td>0.137915</td>\n",
       "      <td>39.989236</td>\n",
       "    </tr>\n",
       "    <tr>\n",
       "      <th>3</th>\n",
       "      <td>-1.228872</td>\n",
       "      <td>-1.356495</td>\n",
       "      <td>0.294849</td>\n",
       "      <td>-0.865130</td>\n",
       "      <td>-2.296073</td>\n",
       "      <td>-1.659102</td>\n",
       "      <td>0.631422</td>\n",
       "      <td>0.235060</td>\n",
       "      <td>-0.516278</td>\n",
       "      <td>-0.557574</td>\n",
       "      <td>-1.060222</td>\n",
       "      <td>-0.938929</td>\n",
       "      <td>0.609483</td>\n",
       "      <td>46.056587</td>\n",
       "    </tr>\n",
       "    <tr>\n",
       "      <th>4</th>\n",
       "      <td>0.451064</td>\n",
       "      <td>0.466452</td>\n",
       "      <td>0.730050</td>\n",
       "      <td>0.587518</td>\n",
       "      <td>0.418478</td>\n",
       "      <td>0.445702</td>\n",
       "      <td>0.157430</td>\n",
       "      <td>-0.110827</td>\n",
       "      <td>0.439360</td>\n",
       "      <td>0.439541</td>\n",
       "      <td>1.078729</td>\n",
       "      <td>0.359877</td>\n",
       "      <td>-1.226905</td>\n",
       "      <td>54.346095</td>\n",
       "    </tr>\n",
       "  </tbody>\n",
       "</table>\n",
       "</div>"
      ],
      "text/plain": [
       "   active_power_calculated_by_converter  active_power_raw  \\\n",
       "0                              0.804489          0.812812   \n",
       "1                              0.105511          0.091834   \n",
       "2                              1.393659          1.403914   \n",
       "3                             -1.228872         -1.356495   \n",
       "4                              0.451064          0.466452   \n",
       "\n",
       "   ambient_temperature  generator_speed  generator_winding_temp_max  \\\n",
       "0             0.754969         1.217683                    0.577310   \n",
       "1            -1.508825        -0.049678                   -0.067461   \n",
       "2            -1.131586         1.455545                    0.108487   \n",
       "3             0.294849        -0.865130                   -2.296073   \n",
       "4             0.730050         0.587518                    0.418478   \n",
       "\n",
       "   grid_power10min_average  nc1_inside_temp  nacelle_temp  \\\n",
       "0                 0.924106         0.023750     -0.099916   \n",
       "1                 0.154954         0.162061      0.262363   \n",
       "2                 1.440377        -4.905537     -3.179904   \n",
       "3                -1.659102         0.631422      0.235060   \n",
       "4                 0.445702         0.157430     -0.110827   \n",
       "\n",
       "   reactice_power_calculated_by_converter  reactive_power  wind_direction_raw  \\\n",
       "0                                0.491302        0.492280            0.777760   \n",
       "1                               -0.182065       -0.061024            0.949197   \n",
       "2                                1.480174        1.499626           -1.083126   \n",
       "3                               -0.516278       -0.557574           -1.060222   \n",
       "4                                0.439360        0.439541            1.078729   \n",
       "\n",
       "   wind_speed_raw  wind_speed_turbulence     Target  \n",
       "0        0.682465              -0.181267  47.582787  \n",
       "1       -0.090553              -0.532215  46.070328  \n",
       "2        1.115842               0.137915  39.989236  \n",
       "3       -0.938929               0.609483  46.056587  \n",
       "4        0.359877              -1.226905  54.346095  "
      ]
     },
     "execution_count": 112,
     "metadata": {},
     "output_type": "execute_result"
    }
   ],
   "source": [
    "# Applying normalization & transformation to see if it reduces the impact of outliers\n",
    "from sklearn.preprocessing import PowerTransformer\n",
    "\n",
    "# Init\n",
    "pt = PowerTransformer()\n",
    "\n",
    "cols = train.columns[train.columns != 'Target']\n",
    "train[cols] = pt.fit_transform(train[cols])\n",
    "train.head()"
   ]
  },
  {
   "cell_type": "code",
   "execution_count": 113,
   "metadata": {},
   "outputs": [
    {
     "data": {
      "text/plain": [
       "active_power_calculated_by_converter     -0.110339\n",
       "active_power_raw                         -0.097555\n",
       "ambient_temperature                      -0.232208\n",
       "generator_speed                          -0.023327\n",
       "generator_winding_temp_max                0.016822\n",
       "grid_power10min_average                  -0.166983\n",
       "nc1_inside_temp                           0.202477\n",
       "nacelle_temp                              0.119152\n",
       "reactice_power_calculated_by_converter   -1.465851\n",
       "reactive_power                            0.100957\n",
       "wind_direction_raw                       -0.406996\n",
       "wind_speed_raw                           -0.001060\n",
       "wind_speed_turbulence                     0.046962\n",
       "Target                                    0.705359\n",
       "dtype: float64"
      ]
     },
     "execution_count": 113,
     "metadata": {},
     "output_type": "execute_result"
    }
   ],
   "source": [
    "train.skew(axis=0)"
   ]
  },
  {
   "cell_type": "code",
   "execution_count": 114,
   "metadata": {},
   "outputs": [
    {
     "data": {
      "image/png": "[encoded data removed]",
      "text/plain": [
       "<Figure size 1440x1152 with 14 Axes>"
      ]
     },
     "metadata": {},
     "output_type": "display_data"
    }
   ],
   "source": [
    "# Plotting the distributions of the numerical features after applying log transformation\n",
    "plt.figure(figsize=(20,16))\n",
    "\n",
    "for i, col in enumerate(list(train)):\n",
    "    plt.subplot(4,5,i+1)\n",
    "    sns.distplot(train[col], color='b', kde=True, label='data')\n",
    "    plt.grid()\n",
    "    plt.tight_layout()"
   ]
  },
  {
   "cell_type": "markdown",
   "metadata": {},
   "source": [
    "The Power transformer has improved the distribution. There are some outliners for the \" reactice_power_calculated_by_converter\" feature; we will see how to treat that in later stages. But for now this transformation can be applied and taken forward."
   ]
  },
  {
   "cell_type": "code",
   "execution_count": 115,
   "metadata": {},
   "outputs": [
    {
     "data": {
      "text/html": [
       "<div>\n",
       "<style scoped>\n",
       "    .dataframe tbody tr th:only-of-type {\n",
       "        vertical-align: middle;\n",
       "    }\n",
       "\n",
       "    .dataframe tbody tr th {\n",
       "        vertical-align: top;\n",
       "    }\n",
       "\n",
       "    .dataframe thead th {\n",
       "        text-align: right;\n",
       "    }\n",
       "</style>\n",
       "<table border=\"1\" class=\"dataframe\">\n",
       "  <thead>\n",
       "    <tr style=\"text-align: right;\">\n",
       "      <th></th>\n",
       "      <th>active_power_calculated_by_converter</th>\n",
       "      <th>active_power_raw</th>\n",
       "      <th>ambient_temperature</th>\n",
       "      <th>generator_speed</th>\n",
       "      <th>generator_winding_temp_max</th>\n",
       "      <th>grid_power10min_average</th>\n",
       "      <th>nc1_inside_temp</th>\n",
       "      <th>nacelle_temp</th>\n",
       "      <th>reactice_power_calculated_by_converter</th>\n",
       "      <th>reactive_power</th>\n",
       "      <th>wind_direction_raw</th>\n",
       "      <th>wind_speed_raw</th>\n",
       "      <th>wind_speed_turbulence</th>\n",
       "    </tr>\n",
       "  </thead>\n",
       "  <tbody>\n",
       "    <tr>\n",
       "      <th>0</th>\n",
       "      <td>15.507537</td>\n",
       "      <td>19.956882</td>\n",
       "      <td>40.233264</td>\n",
       "      <td>410.538834</td>\n",
       "      <td>57.357366</td>\n",
       "      <td>84.008399</td>\n",
       "      <td>48.826597</td>\n",
       "      <td>45.363477</td>\n",
       "      <td>2.419202</td>\n",
       "      <td>1.468876</td>\n",
       "      <td>156.399396</td>\n",
       "      <td>2.438629</td>\n",
       "      <td>0.790435</td>\n",
       "    </tr>\n",
       "    <tr>\n",
       "      <th>1</th>\n",
       "      <td>472.577255</td>\n",
       "      <td>478.373881</td>\n",
       "      <td>12.306687</td>\n",
       "      <td>965.077563</td>\n",
       "      <td>51.796728</td>\n",
       "      <td>492.531362</td>\n",
       "      <td>27.457511</td>\n",
       "      <td>24.045565</td>\n",
       "      <td>96.152070</td>\n",
       "      <td>119.378235</td>\n",
       "      <td>56.443802</td>\n",
       "      <td>5.900371</td>\n",
       "      <td>0.544198</td>\n",
       "    </tr>\n",
       "    <tr>\n",
       "      <th>2</th>\n",
       "      <td>447.829615</td>\n",
       "      <td>451.158264</td>\n",
       "      <td>29.106771</td>\n",
       "      <td>948.035899</td>\n",
       "      <td>60.493098</td>\n",
       "      <td>393.151576</td>\n",
       "      <td>39.410553</td>\n",
       "      <td>35.715697</td>\n",
       "      <td>90.251529</td>\n",
       "      <td>117.192635</td>\n",
       "      <td>224.540263</td>\n",
       "      <td>5.924923</td>\n",
       "      <td>0.513481</td>\n",
       "    </tr>\n",
       "    <tr>\n",
       "      <th>3</th>\n",
       "      <td>254.014336</td>\n",
       "      <td>249.438965</td>\n",
       "      <td>27.074900</td>\n",
       "      <td>804.963776</td>\n",
       "      <td>55.741899</td>\n",
       "      <td>178.715101</td>\n",
       "      <td>29.476841</td>\n",
       "      <td>31.151895</td>\n",
       "      <td>89.273838</td>\n",
       "      <td>105.086257</td>\n",
       "      <td>182.151426</td>\n",
       "      <td>4.409707</td>\n",
       "      <td>0.448881</td>\n",
       "    </tr>\n",
       "    <tr>\n",
       "      <th>4</th>\n",
       "      <td>1174.930566</td>\n",
       "      <td>1202.654077</td>\n",
       "      <td>32.148434</td>\n",
       "      <td>1199.754858</td>\n",
       "      <td>67.272313</td>\n",
       "      <td>1115.850317</td>\n",
       "      <td>31.920549</td>\n",
       "      <td>30.864276</td>\n",
       "      <td>189.731988</td>\n",
       "      <td>236.053320</td>\n",
       "      <td>261.672180</td>\n",
       "      <td>7.822326</td>\n",
       "      <td>0.561465</td>\n",
       "    </tr>\n",
       "  </tbody>\n",
       "</table>\n",
       "</div>"
      ],
      "text/plain": [
       "   active_power_calculated_by_converter  active_power_raw  \\\n",
       "0                             15.507537         19.956882   \n",
       "1                            472.577255        478.373881   \n",
       "2                            447.829615        451.158264   \n",
       "3                            254.014336        249.438965   \n",
       "4                           1174.930566       1202.654077   \n",
       "\n",
       "   ambient_temperature  generator_speed  generator_winding_temp_max  \\\n",
       "0            40.233264       410.538834                   57.357366   \n",
       "1            12.306687       965.077563                   51.796728   \n",
       "2            29.106771       948.035899                   60.493098   \n",
       "3            27.074900       804.963776                   55.741899   \n",
       "4            32.148434      1199.754858                   67.272313   \n",
       "\n",
       "   grid_power10min_average  nc1_inside_temp  nacelle_temp  \\\n",
       "0                84.008399        48.826597     45.363477   \n",
       "1               492.531362        27.457511     24.045565   \n",
       "2               393.151576        39.410553     35.715697   \n",
       "3               178.715101        29.476841     31.151895   \n",
       "4              1115.850317        31.920549     30.864276   \n",
       "\n",
       "   reactice_power_calculated_by_converter  reactive_power  wind_direction_raw  \\\n",
       "0                                2.419202        1.468876          156.399396   \n",
       "1                               96.152070      119.378235           56.443802   \n",
       "2                               90.251529      117.192635          224.540263   \n",
       "3                               89.273838      105.086257          182.151426   \n",
       "4                              189.731988      236.053320          261.672180   \n",
       "\n",
       "   wind_speed_raw  wind_speed_turbulence  \n",
       "0        2.438629               0.790435  \n",
       "1        5.900371               0.544198  \n",
       "2        5.924923               0.513481  \n",
       "3        4.409707               0.448881  \n",
       "4        7.822326               0.561465  "
      ]
     },
     "execution_count": 115,
     "metadata": {},
     "output_type": "execute_result"
    }
   ],
   "source": [
    "test.head()"
   ]
  },
  {
   "cell_type": "code",
   "execution_count": 116,
   "metadata": {},
   "outputs": [
    {
     "data": {
      "text/html": [
       "<div>\n",
       "<style scoped>\n",
       "    .dataframe tbody tr th:only-of-type {\n",
       "        vertical-align: middle;\n",
       "    }\n",
       "\n",
       "    .dataframe tbody tr th {\n",
       "        vertical-align: top;\n",
       "    }\n",
       "\n",
       "    .dataframe thead th {\n",
       "        text-align: right;\n",
       "    }\n",
       "</style>\n",
       "<table border=\"1\" class=\"dataframe\">\n",
       "  <thead>\n",
       "    <tr style=\"text-align: right;\">\n",
       "      <th></th>\n",
       "      <th>active_power_calculated_by_converter</th>\n",
       "      <th>active_power_raw</th>\n",
       "      <th>ambient_temperature</th>\n",
       "      <th>generator_speed</th>\n",
       "      <th>generator_winding_temp_max</th>\n",
       "      <th>grid_power10min_average</th>\n",
       "      <th>nc1_inside_temp</th>\n",
       "      <th>nacelle_temp</th>\n",
       "      <th>reactice_power_calculated_by_converter</th>\n",
       "      <th>reactive_power</th>\n",
       "      <th>wind_direction_raw</th>\n",
       "      <th>wind_speed_raw</th>\n",
       "      <th>wind_speed_turbulence</th>\n",
       "    </tr>\n",
       "  </thead>\n",
       "  <tbody>\n",
       "    <tr>\n",
       "      <th>0</th>\n",
       "      <td>-1.772346</td>\n",
       "      <td>-1.778495</td>\n",
       "      <td>2.048489</td>\n",
       "      <td>-2.497042</td>\n",
       "      <td>-0.305111</td>\n",
       "      <td>-1.009614</td>\n",
       "      <td>4.486108</td>\n",
       "      <td>4.576369</td>\n",
       "      <td>-1.851679</td>\n",
       "      <td>-2.224844</td>\n",
       "      <td>-0.389183</td>\n",
       "      <td>-2.254006</td>\n",
       "      <td>0.698795</td>\n",
       "    </tr>\n",
       "    <tr>\n",
       "      <th>1</th>\n",
       "      <td>0.220378</td>\n",
       "      <td>0.215853</td>\n",
       "      <td>-1.566007</td>\n",
       "      <td>0.144343</td>\n",
       "      <td>-0.922176</td>\n",
       "      <td>0.248735</td>\n",
       "      <td>-1.094694</td>\n",
       "      <td>-2.018279</td>\n",
       "      <td>-0.079325</td>\n",
       "      <td>0.003569</td>\n",
       "      <td>-1.373470</td>\n",
       "      <td>0.133691</td>\n",
       "      <td>-0.178899</td>\n",
       "    </tr>\n",
       "    <tr>\n",
       "      <th>2</th>\n",
       "      <td>0.168378</td>\n",
       "      <td>0.158694</td>\n",
       "      <td>0.390471</td>\n",
       "      <td>0.053440</td>\n",
       "      <td>0.025699</td>\n",
       "      <td>0.039673</td>\n",
       "      <td>1.971111</td>\n",
       "      <td>1.165867</td>\n",
       "      <td>-0.160583</td>\n",
       "      <td>-0.021594</td>\n",
       "      <td>0.255665</td>\n",
       "      <td>0.146219</td>\n",
       "      <td>-0.316702</td>\n",
       "    </tr>\n",
       "    <tr>\n",
       "      <th>3</th>\n",
       "      <td>-0.327380</td>\n",
       "      <td>-0.365622</td>\n",
       "      <td>0.115958</td>\n",
       "      <td>-0.688208</td>\n",
       "      <td>-0.480182</td>\n",
       "      <td>-0.569982</td>\n",
       "      <td>-0.588290</td>\n",
       "      <td>-0.204204</td>\n",
       "      <td>-0.174214</td>\n",
       "      <td>-0.164993</td>\n",
       "      <td>-0.143695</td>\n",
       "      <td>-0.716170</td>\n",
       "      <td>-0.633185</td>\n",
       "    </tr>\n",
       "    <tr>\n",
       "      <th>4</th>\n",
       "      <td>1.255409</td>\n",
       "      <td>1.263624</td>\n",
       "      <td>0.818413</td>\n",
       "      <td>1.446851</td>\n",
       "      <td>0.704211</td>\n",
       "      <td>1.169394</td>\n",
       "      <td>0.031213</td>\n",
       "      <td>-0.285226</td>\n",
       "      <td>1.048744</td>\n",
       "      <td>1.134835</td>\n",
       "      <td>0.601470</td>\n",
       "      <td>1.009043</td>\n",
       "      <td>-0.104702</td>\n",
       "    </tr>\n",
       "  </tbody>\n",
       "</table>\n",
       "</div>"
      ],
      "text/plain": [
       "   active_power_calculated_by_converter  active_power_raw  \\\n",
       "0                             -1.772346         -1.778495   \n",
       "1                              0.220378          0.215853   \n",
       "2                              0.168378          0.158694   \n",
       "3                             -0.327380         -0.365622   \n",
       "4                              1.255409          1.263624   \n",
       "\n",
       "   ambient_temperature  generator_speed  generator_winding_temp_max  \\\n",
       "0             2.048489        -2.497042                   -0.305111   \n",
       "1            -1.566007         0.144343                   -0.922176   \n",
       "2             0.390471         0.053440                    0.025699   \n",
       "3             0.115958        -0.688208                   -0.480182   \n",
       "4             0.818413         1.446851                    0.704211   \n",
       "\n",
       "   grid_power10min_average  nc1_inside_temp  nacelle_temp  \\\n",
       "0                -1.009614         4.486108      4.576369   \n",
       "1                 0.248735        -1.094694     -2.018279   \n",
       "2                 0.039673         1.971111      1.165867   \n",
       "3                -0.569982        -0.588290     -0.204204   \n",
       "4                 1.169394         0.031213     -0.285226   \n",
       "\n",
       "   reactice_power_calculated_by_converter  reactive_power  wind_direction_raw  \\\n",
       "0                               -1.851679       -2.224844           -0.389183   \n",
       "1                               -0.079325        0.003569           -1.373470   \n",
       "2                               -0.160583       -0.021594            0.255665   \n",
       "3                               -0.174214       -0.164993           -0.143695   \n",
       "4                                1.048744        1.134835            0.601470   \n",
       "\n",
       "   wind_speed_raw  wind_speed_turbulence  \n",
       "0       -2.254006               0.698795  \n",
       "1        0.133691              -0.178899  \n",
       "2        0.146219              -0.316702  \n",
       "3       -0.716170              -0.633185  \n",
       "4        1.009043              -0.104702  "
      ]
     },
     "execution_count": 116,
     "metadata": {},
     "output_type": "execute_result"
    }
   ],
   "source": [
    "test = pd.DataFrame(pt.fit_transform(test), columns=test.columns)\n",
    "test.head()"
   ]
  },
  {
   "cell_type": "markdown",
   "metadata": {},
   "source": [
    "**FEATURE SELECTION**"
   ]
  },
  {
   "cell_type": "code",
   "execution_count": 117,
   "metadata": {},
   "outputs": [
    {
     "data": {
      "text/plain": [
       "Index(['active_power_calculated_by_converter', 'active_power_raw',\n",
       "       'ambient_temperature', 'generator_speed', 'generator_winding_temp_max',\n",
       "       'grid_power10min_average', 'nc1_inside_temp', 'nacelle_temp',\n",
       "       'reactice_power_calculated_by_converter', 'reactive_power',\n",
       "       'wind_direction_raw', 'wind_speed_raw', 'wind_speed_turbulence',\n",
       "       'Target'],\n",
       "      dtype='object')"
      ]
     },
     "execution_count": 117,
     "metadata": {},
     "output_type": "execute_result"
    }
   ],
   "source": [
    "train.columns"
   ]
  },
  {
   "cell_type": "code",
   "execution_count": 118,
   "metadata": {},
   "outputs": [],
   "source": [
    "feat_cols = ['active_power_calculated_by_converter', 'active_power_raw', 'ambient_temperature',\n",
    "              'generator_speed', 'generator_winding_temp_max', 'grid_power10min_average', 'nc1_inside_temp',\n",
    "              'nacelle_temp', 'reactice_power_calculated_by_converter', 'reactive_power', 'wind_direction_raw',\n",
    "              'wind_speed_raw', 'wind_speed_turbulence']\n",
    "\n",
    "X = train[feat_cols]\n",
    "y = train['Target']"
   ]
  },
  {
   "cell_type": "code",
   "execution_count": 119,
   "metadata": {},
   "outputs": [
    {
     "data": {
      "text/plain": [
       "13"
      ]
     },
     "execution_count": 119,
     "metadata": {},
     "output_type": "execute_result"
    }
   ],
   "source": [
    "X.shape[1]"
   ]
  },
  {
   "cell_type": "code",
   "execution_count": 120,
   "metadata": {},
   "outputs": [
    {
     "data": {
      "text/html": [
       "<div>\n",
       "<style scoped>\n",
       "    .dataframe tbody tr th:only-of-type {\n",
       "        vertical-align: middle;\n",
       "    }\n",
       "\n",
       "    .dataframe tbody tr th {\n",
       "        vertical-align: top;\n",
       "    }\n",
       "\n",
       "    .dataframe thead th {\n",
       "        text-align: right;\n",
       "    }\n",
       "</style>\n",
       "<table border=\"1\" class=\"dataframe\">\n",
       "  <thead>\n",
       "    <tr style=\"text-align: right;\">\n",
       "      <th></th>\n",
       "      <th>active_power_calculated_by_converter</th>\n",
       "      <th>active_power_raw</th>\n",
       "      <th>ambient_temperature</th>\n",
       "      <th>generator_speed</th>\n",
       "      <th>generator_winding_temp_max</th>\n",
       "      <th>grid_power10min_average</th>\n",
       "      <th>nc1_inside_temp</th>\n",
       "      <th>nacelle_temp</th>\n",
       "      <th>reactice_power_calculated_by_converter</th>\n",
       "      <th>reactive_power</th>\n",
       "      <th>wind_direction_raw</th>\n",
       "      <th>wind_speed_raw</th>\n",
       "      <th>wind_speed_turbulence</th>\n",
       "    </tr>\n",
       "  </thead>\n",
       "  <tbody>\n",
       "    <tr>\n",
       "      <th>0</th>\n",
       "      <td>0.804489</td>\n",
       "      <td>0.812812</td>\n",
       "      <td>0.754969</td>\n",
       "      <td>1.217683</td>\n",
       "      <td>0.577310</td>\n",
       "      <td>0.924106</td>\n",
       "      <td>0.023750</td>\n",
       "      <td>-0.099916</td>\n",
       "      <td>0.491302</td>\n",
       "      <td>0.492280</td>\n",
       "      <td>0.777760</td>\n",
       "      <td>0.682465</td>\n",
       "      <td>-0.181267</td>\n",
       "    </tr>\n",
       "    <tr>\n",
       "      <th>1</th>\n",
       "      <td>0.105511</td>\n",
       "      <td>0.091834</td>\n",
       "      <td>-1.508825</td>\n",
       "      <td>-0.049678</td>\n",
       "      <td>-0.067461</td>\n",
       "      <td>0.154954</td>\n",
       "      <td>0.162061</td>\n",
       "      <td>0.262363</td>\n",
       "      <td>-0.182065</td>\n",
       "      <td>-0.061024</td>\n",
       "      <td>0.949197</td>\n",
       "      <td>-0.090553</td>\n",
       "      <td>-0.532215</td>\n",
       "    </tr>\n",
       "    <tr>\n",
       "      <th>2</th>\n",
       "      <td>1.393659</td>\n",
       "      <td>1.403914</td>\n",
       "      <td>-1.131586</td>\n",
       "      <td>1.455545</td>\n",
       "      <td>0.108487</td>\n",
       "      <td>1.440377</td>\n",
       "      <td>-4.905537</td>\n",
       "      <td>-3.179904</td>\n",
       "      <td>1.480174</td>\n",
       "      <td>1.499626</td>\n",
       "      <td>-1.083126</td>\n",
       "      <td>1.115842</td>\n",
       "      <td>0.137915</td>\n",
       "    </tr>\n",
       "    <tr>\n",
       "      <th>3</th>\n",
       "      <td>-1.228872</td>\n",
       "      <td>-1.356495</td>\n",
       "      <td>0.294849</td>\n",
       "      <td>-0.865130</td>\n",
       "      <td>-2.296073</td>\n",
       "      <td>-1.659102</td>\n",
       "      <td>0.631422</td>\n",
       "      <td>0.235060</td>\n",
       "      <td>-0.516278</td>\n",
       "      <td>-0.557574</td>\n",
       "      <td>-1.060222</td>\n",
       "      <td>-0.938929</td>\n",
       "      <td>0.609483</td>\n",
       "    </tr>\n",
       "    <tr>\n",
       "      <th>4</th>\n",
       "      <td>0.451064</td>\n",
       "      <td>0.466452</td>\n",
       "      <td>0.730050</td>\n",
       "      <td>0.587518</td>\n",
       "      <td>0.418478</td>\n",
       "      <td>0.445702</td>\n",
       "      <td>0.157430</td>\n",
       "      <td>-0.110827</td>\n",
       "      <td>0.439360</td>\n",
       "      <td>0.439541</td>\n",
       "      <td>1.078729</td>\n",
       "      <td>0.359877</td>\n",
       "      <td>-1.226905</td>\n",
       "    </tr>\n",
       "  </tbody>\n",
       "</table>\n",
       "</div>"
      ],
      "text/plain": [
       "   active_power_calculated_by_converter  active_power_raw  \\\n",
       "0                              0.804489          0.812812   \n",
       "1                              0.105511          0.091834   \n",
       "2                              1.393659          1.403914   \n",
       "3                             -1.228872         -1.356495   \n",
       "4                              0.451064          0.466452   \n",
       "\n",
       "   ambient_temperature  generator_speed  generator_winding_temp_max  \\\n",
       "0             0.754969         1.217683                    0.577310   \n",
       "1            -1.508825        -0.049678                   -0.067461   \n",
       "2            -1.131586         1.455545                    0.108487   \n",
       "3             0.294849        -0.865130                   -2.296073   \n",
       "4             0.730050         0.587518                    0.418478   \n",
       "\n",
       "   grid_power10min_average  nc1_inside_temp  nacelle_temp  \\\n",
       "0                 0.924106         0.023750     -0.099916   \n",
       "1                 0.154954         0.162061      0.262363   \n",
       "2                 1.440377        -4.905537     -3.179904   \n",
       "3                -1.659102         0.631422      0.235060   \n",
       "4                 0.445702         0.157430     -0.110827   \n",
       "\n",
       "   reactice_power_calculated_by_converter  reactive_power  wind_direction_raw  \\\n",
       "0                                0.491302        0.492280            0.777760   \n",
       "1                               -0.182065       -0.061024            0.949197   \n",
       "2                                1.480174        1.499626           -1.083126   \n",
       "3                               -0.516278       -0.557574           -1.060222   \n",
       "4                                0.439360        0.439541            1.078729   \n",
       "\n",
       "   wind_speed_raw  wind_speed_turbulence  \n",
       "0        0.682465              -0.181267  \n",
       "1       -0.090553              -0.532215  \n",
       "2        1.115842               0.137915  \n",
       "3       -0.938929               0.609483  \n",
       "4        0.359877              -1.226905  "
      ]
     },
     "execution_count": 120,
     "metadata": {},
     "output_type": "execute_result"
    }
   ],
   "source": [
    "X.head()"
   ]
  },
  {
   "cell_type": "code",
   "execution_count": 121,
   "metadata": {},
   "outputs": [
    {
     "data": {
      "text/plain": [
       "0    47.582787\n",
       "1    46.070328\n",
       "2    39.989236\n",
       "3    46.056587\n",
       "4    54.346095\n",
       "Name: Target, dtype: float64"
      ]
     },
     "execution_count": 121,
     "metadata": {},
     "output_type": "execute_result"
    }
   ],
   "source": [
    "y.head()"
   ]
  },
  {
   "cell_type": "markdown",
   "metadata": {},
   "source": [
    "**Correlation check for multi-collinearity**"
   ]
  },
  {
   "cell_type": "code",
   "execution_count": 122,
   "metadata": {},
   "outputs": [
    {
     "data": {
      "image/png": "[encoded data removed]",
      "text/plain": [
       "<Figure size 1800x864 with 2 Axes>"
      ]
     },
     "metadata": {},
     "output_type": "display_data"
    }
   ],
   "source": [
    "# Plotting a heatmap plot\n",
    "\n",
    "from turtle import color\n",
    "plt.figure(figsize=(25,12))\n",
    "p = sns.heatmap(data=X.corr(method='pearson'), cmap='RdYlGn', annot=True, center=0)"
   ]
  },
  {
   "cell_type": "markdown",
   "metadata": {},
   "source": [
    "**Correlation of Independent Variables**\n",
    "\n",
    "Based on the coefficient values some of the independent variables are highly correlated to each other (value >=0.8). This means we may need to drop one of these to ensure we do not overfit the model. We will analyze further with some other methods (VIF, Feature Selection and Embedded methods) to come to an optimal set of features.\n",
    "\n",
    "* active_power_calculated_by_converter & active_power_raw \n",
    "* active_power_calculated_by_converter & wind_speed_raw\n",
    "* active_power_calculated_by_converter & grid_power10min_average\n",
    "* active_power_raw & wind_speed_raw\n",
    "* active_power_raw & grid_power10min_average\n",
    "* generator_speed & active_power_calculated_by_converter  \n",
    "* reactice_power_calculated_by_converter & reactive_power"
   ]
  },
  {
   "cell_type": "markdown",
   "metadata": {},
   "source": [
    "**VIF Check**"
   ]
  },
  {
   "cell_type": "code",
   "execution_count": 123,
   "metadata": {},
   "outputs": [
    {
     "data": {
      "text/html": [
       "<div>\n",
       "<style scoped>\n",
       "    .dataframe tbody tr th:only-of-type {\n",
       "        vertical-align: middle;\n",
       "    }\n",
       "\n",
       "    .dataframe tbody tr th {\n",
       "        vertical-align: top;\n",
       "    }\n",
       "\n",
       "    .dataframe thead th {\n",
       "        text-align: right;\n",
       "    }\n",
       "</style>\n",
       "<table border=\"1\" class=\"dataframe\">\n",
       "  <thead>\n",
       "    <tr style=\"text-align: right;\">\n",
       "      <th></th>\n",
       "      <th>Variables</th>\n",
       "      <th>VIF</th>\n",
       "    </tr>\n",
       "  </thead>\n",
       "  <tbody>\n",
       "    <tr>\n",
       "      <th>0</th>\n",
       "      <td>active_power_calculated_by_converter</td>\n",
       "      <td>38.181699</td>\n",
       "    </tr>\n",
       "    <tr>\n",
       "      <th>1</th>\n",
       "      <td>active_power_raw</td>\n",
       "      <td>26.281814</td>\n",
       "    </tr>\n",
       "    <tr>\n",
       "      <th>9</th>\n",
       "      <td>reactive_power</td>\n",
       "      <td>21.902869</td>\n",
       "    </tr>\n",
       "    <tr>\n",
       "      <th>8</th>\n",
       "      <td>reactice_power_calculated_by_converter</td>\n",
       "      <td>17.417872</td>\n",
       "    </tr>\n",
       "    <tr>\n",
       "      <th>5</th>\n",
       "      <td>grid_power10min_average</td>\n",
       "      <td>12.335362</td>\n",
       "    </tr>\n",
       "    <tr>\n",
       "      <th>11</th>\n",
       "      <td>wind_speed_raw</td>\n",
       "      <td>10.142883</td>\n",
       "    </tr>\n",
       "    <tr>\n",
       "      <th>3</th>\n",
       "      <td>generator_speed</td>\n",
       "      <td>5.853446</td>\n",
       "    </tr>\n",
       "    <tr>\n",
       "      <th>7</th>\n",
       "      <td>nacelle_temp</td>\n",
       "      <td>3.367055</td>\n",
       "    </tr>\n",
       "    <tr>\n",
       "      <th>4</th>\n",
       "      <td>generator_winding_temp_max</td>\n",
       "      <td>3.303477</td>\n",
       "    </tr>\n",
       "    <tr>\n",
       "      <th>6</th>\n",
       "      <td>nc1_inside_temp</td>\n",
       "      <td>2.237131</td>\n",
       "    </tr>\n",
       "    <tr>\n",
       "      <th>12</th>\n",
       "      <td>wind_speed_turbulence</td>\n",
       "      <td>1.581714</td>\n",
       "    </tr>\n",
       "    <tr>\n",
       "      <th>2</th>\n",
       "      <td>ambient_temperature</td>\n",
       "      <td>1.178133</td>\n",
       "    </tr>\n",
       "    <tr>\n",
       "      <th>10</th>\n",
       "      <td>wind_direction_raw</td>\n",
       "      <td>1.047731</td>\n",
       "    </tr>\n",
       "  </tbody>\n",
       "</table>\n",
       "</div>"
      ],
      "text/plain": [
       "                                 Variables        VIF\n",
       "0     active_power_calculated_by_converter  38.181699\n",
       "1                         active_power_raw  26.281814\n",
       "9                           reactive_power  21.902869\n",
       "8   reactice_power_calculated_by_converter  17.417872\n",
       "5                  grid_power10min_average  12.335362\n",
       "11                          wind_speed_raw  10.142883\n",
       "3                          generator_speed   5.853446\n",
       "7                             nacelle_temp   3.367055\n",
       "4               generator_winding_temp_max   3.303477\n",
       "6                          nc1_inside_temp   2.237131\n",
       "12                   wind_speed_turbulence   1.581714\n",
       "2                      ambient_temperature   1.178133\n",
       "10                      wind_direction_raw   1.047731"
      ]
     },
     "execution_count": 123,
     "metadata": {},
     "output_type": "execute_result"
    }
   ],
   "source": [
    "# Import VIF library for multi-collinearity check\n",
    "from statsmodels.stats.outliers_influence import variance_inflation_factor \n",
    "\n",
    "def calc_vif(dataframe):\n",
    "\n",
    "    # calculating VIF\n",
    "    vif = pd.DataFrame()\n",
    "    vif[\"Variables\"] = dataframe.columns\n",
    "    vif[\"VIF\"] = [variance_inflation_factor(dataframe.values, i) for i in range(dataframe.shape[1])]\n",
    "    vif = vif.sort_values(ascending=False, by=\"VIF\")\n",
    "    return(vif)\n",
    "\n",
    "calc_vif(X) "
   ]
  },
  {
   "cell_type": "markdown",
   "metadata": {},
   "source": [
    "* VIF starts at 1 and has no upper limit\n",
    "* VIF = 1, no correlation between the independent variable and the other variables\n",
    "* VIF exceeding 5 or 10 indicates high multicollinearity between this independent variable and the others\n",
    "\n",
    "I will remove one column at a time, starting with the highest VIF value, and see how it impacts the other VIF values."
   ]
  },
  {
   "cell_type": "code",
   "execution_count": 124,
   "metadata": {},
   "outputs": [
    {
     "data": {
      "text/html": [
       "<div>\n",
       "<style scoped>\n",
       "    .dataframe tbody tr th:only-of-type {\n",
       "        vertical-align: middle;\n",
       "    }\n",
       "\n",
       "    .dataframe tbody tr th {\n",
       "        vertical-align: top;\n",
       "    }\n",
       "\n",
       "    .dataframe thead th {\n",
       "        text-align: right;\n",
       "    }\n",
       "</style>\n",
       "<table border=\"1\" class=\"dataframe\">\n",
       "  <thead>\n",
       "    <tr style=\"text-align: right;\">\n",
       "      <th></th>\n",
       "      <th>Variables</th>\n",
       "      <th>VIF</th>\n",
       "    </tr>\n",
       "  </thead>\n",
       "  <tbody>\n",
       "    <tr>\n",
       "      <th>3</th>\n",
       "      <td>grid_power10min_average</td>\n",
       "      <td>9.079282</td>\n",
       "    </tr>\n",
       "    <tr>\n",
       "      <th>7</th>\n",
       "      <td>wind_speed_raw</td>\n",
       "      <td>6.630188</td>\n",
       "    </tr>\n",
       "    <tr>\n",
       "      <th>1</th>\n",
       "      <td>generator_speed</td>\n",
       "      <td>4.340181</td>\n",
       "    </tr>\n",
       "    <tr>\n",
       "      <th>5</th>\n",
       "      <td>nacelle_temp</td>\n",
       "      <td>3.317795</td>\n",
       "    </tr>\n",
       "    <tr>\n",
       "      <th>2</th>\n",
       "      <td>generator_winding_temp_max</td>\n",
       "      <td>3.055848</td>\n",
       "    </tr>\n",
       "    <tr>\n",
       "      <th>4</th>\n",
       "      <td>nc1_inside_temp</td>\n",
       "      <td>2.220333</td>\n",
       "    </tr>\n",
       "    <tr>\n",
       "      <th>8</th>\n",
       "      <td>wind_speed_turbulence</td>\n",
       "      <td>1.508332</td>\n",
       "    </tr>\n",
       "    <tr>\n",
       "      <th>0</th>\n",
       "      <td>ambient_temperature</td>\n",
       "      <td>1.168021</td>\n",
       "    </tr>\n",
       "    <tr>\n",
       "      <th>6</th>\n",
       "      <td>wind_direction_raw</td>\n",
       "      <td>1.045255</td>\n",
       "    </tr>\n",
       "  </tbody>\n",
       "</table>\n",
       "</div>"
      ],
      "text/plain": [
       "                    Variables       VIF\n",
       "3     grid_power10min_average  9.079282\n",
       "7              wind_speed_raw  6.630188\n",
       "1             generator_speed  4.340181\n",
       "5                nacelle_temp  3.317795\n",
       "2  generator_winding_temp_max  3.055848\n",
       "4             nc1_inside_temp  2.220333\n",
       "8       wind_speed_turbulence  1.508332\n",
       "0         ambient_temperature  1.168021\n",
       "6          wind_direction_raw  1.045255"
      ]
     },
     "execution_count": 124,
     "metadata": {},
     "output_type": "execute_result"
    }
   ],
   "source": [
    "X = X.drop(['active_power_calculated_by_converter', 'active_power_raw', 'reactive_power','reactice_power_calculated_by_converter'], axis=1)\n",
    "calc_vif(X)"
   ]
  },
  {
   "cell_type": "code",
   "execution_count": 125,
   "metadata": {},
   "outputs": [
    {
     "data": {
      "text/plain": [
       "Index(['ambient_temperature', 'generator_speed', 'generator_winding_temp_max',\n",
       "       'grid_power10min_average', 'nc1_inside_temp', 'nacelle_temp',\n",
       "       'wind_direction_raw', 'wind_speed_raw', 'wind_speed_turbulence'],\n",
       "      dtype='object')"
      ]
     },
     "execution_count": 125,
     "metadata": {},
     "output_type": "execute_result"
    }
   ],
   "source": [
    "X.columns"
   ]
  },
  {
   "cell_type": "code",
   "execution_count": 126,
   "metadata": {},
   "outputs": [
    {
     "data": {
      "text/plain": [
       "Index(['active_power_calculated_by_converter', 'active_power_raw',\n",
       "       'ambient_temperature', 'generator_speed', 'generator_winding_temp_max',\n",
       "       'grid_power10min_average', 'nc1_inside_temp', 'nacelle_temp',\n",
       "       'reactice_power_calculated_by_converter', 'reactive_power',\n",
       "       'wind_direction_raw', 'wind_speed_raw', 'wind_speed_turbulence'],\n",
       "      dtype='object')"
      ]
     },
     "execution_count": 126,
     "metadata": {},
     "output_type": "execute_result"
    }
   ],
   "source": [
    "test.columns"
   ]
  },
  {
   "cell_type": "code",
   "execution_count": 127,
   "metadata": {},
   "outputs": [
    {
     "data": {
      "text/plain": [
       "Index(['ambient_temperature', 'generator_speed', 'generator_winding_temp_max',\n",
       "       'grid_power10min_average', 'nc1_inside_temp', 'nacelle_temp',\n",
       "       'wind_direction_raw', 'wind_speed_raw', 'wind_speed_turbulence'],\n",
       "      dtype='object')"
      ]
     },
     "execution_count": 127,
     "metadata": {},
     "output_type": "execute_result"
    }
   ],
   "source": [
    "test_df = test.copy()\n",
    "test_df = test_df.drop(['active_power_calculated_by_converter', 'active_power_raw', 'reactive_power','reactice_power_calculated_by_converter'], axis=1)\n",
    "test_df.columns"
   ]
  },
  {
   "cell_type": "code",
   "execution_count": 140,
   "metadata": {},
   "outputs": [],
   "source": [
    "# Importing all necessary libraries\n",
    "\n",
    "from math import sqrt\n",
    "import xgboost as xgb\n",
    "import lightgbm as lgb\n",
    "import optuna\n",
    "\n",
    "#from sklearn.feature_selection import SelectKBest\n",
    "#from sklearn.feature_selection import f_regression\n",
    "#from functools import partial\n",
    "#from mlxtend.feature_selection import SequentialFeatureSelector as SFS\n",
    "#from mlxtend.plotting import plot_sequential_feature_selection as plot_sfs\n",
    "\n",
    "from sklearn.linear_model import LinearRegression\n",
    "from xgboost import XGBRegressor\n",
    "from catboost import CatBoostRegressor\n",
    "from lightgbm import LGBMRegressor\n",
    "from sklearn.ensemble import GradientBoostingRegressor\n",
    "from sklearn.ensemble import RandomForestRegressor\n",
    "\n",
    "from sklearn.model_selection import train_test_split\n",
    "from sklearn.metrics import r2_score, mean_absolute_error, mean_squared_error, mean_absolute_percentage_error\n",
    "from sklearn.model_selection import cross_val_score, KFold, cross_validate"
   ]
  },
  {
   "cell_type": "markdown",
   "metadata": {},
   "source": [
    "**MODEL BUILDING**"
   ]
  },
  {
   "cell_type": "code",
   "execution_count": 129,
   "metadata": {},
   "outputs": [
    {
     "name": "stdout",
     "output_type": "stream",
     "text": [
      "(818643, 9) (818643,) (90961, 9) (90961,)\n"
     ]
    }
   ],
   "source": [
    "# SPLIT TRAIN DATASET INTO TRAIN & VALIDATION TO TEST MODEL BEFORE PREDICTING ON TEST DATASET\n",
    "\n",
    "X_train, X_val, y_train, y_val = train_test_split(X, y, train_size=0.9, random_state=42)\n",
    "\n",
    "print(X_train.shape, y_train.shape, X_val.shape, y_val.shape)"
   ]
  },
  {
   "cell_type": "markdown",
   "metadata": {},
   "source": [
    "LINEAR REGRESSION"
   ]
  },
  {
   "cell_type": "code",
   "execution_count": 130,
   "metadata": {},
   "outputs": [
    {
     "name": "stdout",
     "output_type": "stream",
     "text": [
      "Training accuracy: 40.80144665569907 %\n",
      "Validation accuracy: 41.05336703850274 %\n",
      "Linear Regression Mean Absolute Percent Error: 0.030024294187167032\n"
     ]
    }
   ],
   "source": [
    "# Fit a simple Linear Regression\n",
    "lr_model = LinearRegression()\n",
    "lr_model.fit(X_train, y_train)\n",
    "lr_pred = lr_model.predict(X_val)\n",
    "\n",
    "lr_train_acc = (lr_model.score(X_train, y_train))*100\n",
    "lr_val_acc = (lr_model.score(X_val, y_val))*100\n",
    "mape_lr = mean_absolute_percentage_error(y_val, lr_pred)\n",
    "\n",
    "print(f\"Training accuracy: {lr_train_acc} %\")\n",
    "print(f\"Validation accuracy: {lr_val_acc} %\")\n",
    "print(f\"Linear Regression Mean Absolute Percent Error: {mape_lr}\")"
   ]
  },
  {
   "cell_type": "markdown",
   "metadata": {},
   "source": [
    "RANDOM FOREST REGRESSION"
   ]
  },
  {
   "cell_type": "code",
   "execution_count": 131,
   "metadata": {},
   "outputs": [
    {
     "name": "stdout",
     "output_type": "stream",
     "text": [
      "Training accuracy: 96.85616616417003 %\n",
      "Validation accuracy: 77.55776596678258 %\n",
      "Random Forest Model Mean Absolute Percent Error: 0.016119734346333212\n"
     ]
    }
   ],
   "source": [
    "rf_model = RandomForestRegressor(random_state=42)\n",
    "rf_model.fit(X_train, y_train)\n",
    "rf_pred = rf_model.predict(X_val)\n",
    "\n",
    "rf_train_acc = (rf_model.score(X_train, y_train))*100\n",
    "rf_val_acc = (rf_model.score(X_val, y_val))*100\n",
    "mape_rf = mean_absolute_percentage_error(y_val, rf_pred)\n",
    "\n",
    "print(f\"Training accuracy: {rf_train_acc} %\")\n",
    "print(f\"Validation accuracy: {rf_val_acc} %\")\n",
    "print(f\"Random Forest Model Mean Absolute Percent Error: {mape_rf}\")"
   ]
  },
  {
   "cell_type": "code",
   "execution_count": 132,
   "metadata": {},
   "outputs": [
    {
     "data": {
      "text/html": [
       "<div>\n",
       "<style scoped>\n",
       "    .dataframe tbody tr th:only-of-type {\n",
       "        vertical-align: middle;\n",
       "    }\n",
       "\n",
       "    .dataframe tbody tr th {\n",
       "        vertical-align: top;\n",
       "    }\n",
       "\n",
       "    .dataframe thead th {\n",
       "        text-align: right;\n",
       "    }\n",
       "</style>\n",
       "<table border=\"1\" class=\"dataframe\">\n",
       "  <thead>\n",
       "    <tr style=\"text-align: right;\">\n",
       "      <th></th>\n",
       "      <th>Score</th>\n",
       "    </tr>\n",
       "  </thead>\n",
       "  <tbody>\n",
       "    <tr>\n",
       "      <th>ambient_temperature</th>\n",
       "      <td>0.269516</td>\n",
       "    </tr>\n",
       "    <tr>\n",
       "      <th>nacelle_temp</th>\n",
       "      <td>0.242900</td>\n",
       "    </tr>\n",
       "    <tr>\n",
       "      <th>generator_winding_temp_max</th>\n",
       "      <td>0.117041</td>\n",
       "    </tr>\n",
       "    <tr>\n",
       "      <th>nc1_inside_temp</th>\n",
       "      <td>0.114511</td>\n",
       "    </tr>\n",
       "    <tr>\n",
       "      <th>wind_direction_raw</th>\n",
       "      <td>0.090072</td>\n",
       "    </tr>\n",
       "    <tr>\n",
       "      <th>grid_power10min_average</th>\n",
       "      <td>0.070645</td>\n",
       "    </tr>\n",
       "    <tr>\n",
       "      <th>wind_speed_turbulence</th>\n",
       "      <td>0.041035</td>\n",
       "    </tr>\n",
       "    <tr>\n",
       "      <th>wind_speed_raw</th>\n",
       "      <td>0.028618</td>\n",
       "    </tr>\n",
       "    <tr>\n",
       "      <th>generator_speed</th>\n",
       "      <td>0.025662</td>\n",
       "    </tr>\n",
       "  </tbody>\n",
       "</table>\n",
       "</div>"
      ],
      "text/plain": [
       "                               Score\n",
       "ambient_temperature         0.269516\n",
       "nacelle_temp                0.242900\n",
       "generator_winding_temp_max  0.117041\n",
       "nc1_inside_temp             0.114511\n",
       "wind_direction_raw          0.090072\n",
       "grid_power10min_average     0.070645\n",
       "wind_speed_turbulence       0.041035\n",
       "wind_speed_raw              0.028618\n",
       "generator_speed             0.025662"
      ]
     },
     "execution_count": 132,
     "metadata": {},
     "output_type": "execute_result"
    }
   ],
   "source": [
    "pd.DataFrame(rf_model.feature_importances_, index=X.columns, columns=['Score']).sort_values('Score', ascending=False)"
   ]
  },
  {
   "cell_type": "markdown",
   "metadata": {},
   "source": [
    "CATBOOST REGRESSOR"
   ]
  },
  {
   "cell_type": "code",
   "execution_count": 133,
   "metadata": {},
   "outputs": [
    {
     "name": "stdout",
     "output_type": "stream",
     "text": [
      "0:\tlearn: 0.0406822\ttotal: 323ms\tremaining: 5m 22s\n",
      "1:\tlearn: 0.0403828\ttotal: 507ms\tremaining: 4m 12s\n",
      "2:\tlearn: 0.0400971\ttotal: 704ms\tremaining: 3m 54s\n",
      "3:\tlearn: 0.0398123\ttotal: 899ms\tremaining: 3m 43s\n",
      "4:\tlearn: 0.0395280\ttotal: 1.09s\tremaining: 3m 37s\n",
      "5:\tlearn: 0.0392684\ttotal: 1.27s\tremaining: 3m 30s\n",
      "6:\tlearn: 0.0390098\ttotal: 1.43s\tremaining: 3m 23s\n",
      "7:\tlearn: 0.0387623\ttotal: 1.59s\tremaining: 3m 16s\n",
      "8:\tlearn: 0.0385115\ttotal: 1.77s\tremaining: 3m 14s\n",
      "9:\tlearn: 0.0382644\ttotal: 1.95s\tremaining: 3m 13s\n",
      "10:\tlearn: 0.0380156\ttotal: 2.14s\tremaining: 3m 12s\n",
      "11:\tlearn: 0.0377772\ttotal: 2.31s\tremaining: 3m 10s\n",
      "12:\tlearn: 0.0375567\ttotal: 2.49s\tremaining: 3m 9s\n",
      "13:\tlearn: 0.0373297\ttotal: 2.65s\tremaining: 3m 6s\n",
      "14:\tlearn: 0.0371155\ttotal: 2.79s\tremaining: 3m 2s\n",
      "15:\tlearn: 0.0369008\ttotal: 2.98s\tremaining: 3m 3s\n",
      "16:\tlearn: 0.0366755\ttotal: 3.13s\tremaining: 3m 1s\n",
      "17:\tlearn: 0.0364756\ttotal: 3.31s\tremaining: 3m\n",
      "18:\tlearn: 0.0362777\ttotal: 3.47s\tremaining: 2m 58s\n",
      "19:\tlearn: 0.0360790\ttotal: 3.62s\tremaining: 2m 57s\n",
      "20:\tlearn: 0.0358845\ttotal: 3.76s\tremaining: 2m 55s\n",
      "21:\tlearn: 0.0356924\ttotal: 3.91s\tremaining: 2m 53s\n",
      "22:\tlearn: 0.0355142\ttotal: 4.03s\tremaining: 2m 51s\n",
      "23:\tlearn: 0.0353353\ttotal: 4.1s\tremaining: 2m 46s\n",
      "24:\tlearn: 0.0351639\ttotal: 4.17s\tremaining: 2m 42s\n",
      "25:\tlearn: 0.0349944\ttotal: 4.23s\tremaining: 2m 38s\n",
      "26:\tlearn: 0.0348273\ttotal: 4.28s\tremaining: 2m 34s\n",
      "27:\tlearn: 0.0346512\ttotal: 4.34s\tremaining: 2m 30s\n",
      "28:\tlearn: 0.0344867\ttotal: 4.4s\tremaining: 2m 27s\n",
      "29:\tlearn: 0.0343292\ttotal: 4.46s\tremaining: 2m 24s\n",
      "30:\tlearn: 0.0341635\ttotal: 4.51s\tremaining: 2m 21s\n",
      "31:\tlearn: 0.0340139\ttotal: 4.57s\tremaining: 2m 18s\n",
      "32:\tlearn: 0.0338643\ttotal: 4.63s\tremaining: 2m 15s\n",
      "33:\tlearn: 0.0337142\ttotal: 4.69s\tremaining: 2m 13s\n",
      "34:\tlearn: 0.0335743\ttotal: 4.74s\tremaining: 2m 10s\n",
      "35:\tlearn: 0.0334308\ttotal: 4.8s\tremaining: 2m 8s\n",
      "36:\tlearn: 0.0333004\ttotal: 4.86s\tremaining: 2m 6s\n",
      "37:\tlearn: 0.0331784\ttotal: 4.91s\tremaining: 2m 4s\n",
      "38:\tlearn: 0.0330497\ttotal: 4.97s\tremaining: 2m 2s\n",
      "39:\tlearn: 0.0329214\ttotal: 5.02s\tremaining: 2m\n",
      "40:\tlearn: 0.0327914\ttotal: 5.08s\tremaining: 1m 58s\n",
      "41:\tlearn: 0.0326696\ttotal: 5.14s\tremaining: 1m 57s\n",
      "42:\tlearn: 0.0325506\ttotal: 5.2s\tremaining: 1m 55s\n",
      "43:\tlearn: 0.0324353\ttotal: 5.25s\tremaining: 1m 54s\n",
      "44:\tlearn: 0.0323211\ttotal: 5.31s\tremaining: 1m 52s\n",
      "45:\tlearn: 0.0322108\ttotal: 5.37s\tremaining: 1m 51s\n",
      "46:\tlearn: 0.0321012\ttotal: 5.42s\tremaining: 1m 49s\n",
      "47:\tlearn: 0.0319864\ttotal: 5.48s\tremaining: 1m 48s\n",
      "48:\tlearn: 0.0318848\ttotal: 5.53s\tremaining: 1m 47s\n",
      "49:\tlearn: 0.0317840\ttotal: 5.59s\tremaining: 1m 46s\n",
      "50:\tlearn: 0.0316834\ttotal: 5.65s\tremaining: 1m 45s\n",
      "51:\tlearn: 0.0315846\ttotal: 5.7s\tremaining: 1m 43s\n",
      "52:\tlearn: 0.0314890\ttotal: 5.76s\tremaining: 1m 42s\n",
      "53:\tlearn: 0.0313960\ttotal: 5.82s\tremaining: 1m 41s\n",
      "54:\tlearn: 0.0313018\ttotal: 5.87s\tremaining: 1m 40s\n",
      "55:\tlearn: 0.0312028\ttotal: 5.92s\tremaining: 1m 39s\n",
      "56:\tlearn: 0.0311150\ttotal: 5.98s\tremaining: 1m 38s\n",
      "57:\tlearn: 0.0310254\ttotal: 6.04s\tremaining: 1m 38s\n",
      "58:\tlearn: 0.0309306\ttotal: 6.09s\tremaining: 1m 37s\n",
      "59:\tlearn: 0.0308429\ttotal: 6.15s\tremaining: 1m 36s\n",
      "60:\tlearn: 0.0307566\ttotal: 6.2s\tremaining: 1m 35s\n",
      "61:\tlearn: 0.0306738\ttotal: 6.26s\tremaining: 1m 34s\n",
      "62:\tlearn: 0.0305968\ttotal: 6.32s\tremaining: 1m 33s\n",
      "63:\tlearn: 0.0305125\ttotal: 6.37s\tremaining: 1m 33s\n",
      "64:\tlearn: 0.0304330\ttotal: 6.43s\tremaining: 1m 32s\n",
      "65:\tlearn: 0.0303627\ttotal: 6.49s\tremaining: 1m 31s\n",
      "66:\tlearn: 0.0302863\ttotal: 6.54s\tremaining: 1m 31s\n",
      "67:\tlearn: 0.0302168\ttotal: 6.6s\tremaining: 1m 30s\n",
      "68:\tlearn: 0.0301476\ttotal: 6.65s\tremaining: 1m 29s\n",
      "69:\tlearn: 0.0300835\ttotal: 6.71s\tremaining: 1m 29s\n",
      "70:\tlearn: 0.0300150\ttotal: 6.77s\tremaining: 1m 28s\n",
      "71:\tlearn: 0.0299468\ttotal: 6.82s\tremaining: 1m 27s\n",
      "72:\tlearn: 0.0298817\ttotal: 6.88s\tremaining: 1m 27s\n",
      "73:\tlearn: 0.0298168\ttotal: 6.93s\tremaining: 1m 26s\n",
      "74:\tlearn: 0.0297530\ttotal: 6.99s\tremaining: 1m 26s\n",
      "75:\tlearn: 0.0296932\ttotal: 7.04s\tremaining: 1m 25s\n",
      "76:\tlearn: 0.0296360\ttotal: 7.1s\tremaining: 1m 25s\n",
      "77:\tlearn: 0.0295801\ttotal: 7.16s\tremaining: 1m 24s\n",
      "78:\tlearn: 0.0295217\ttotal: 7.21s\tremaining: 1m 24s\n",
      "79:\tlearn: 0.0294624\ttotal: 7.27s\tremaining: 1m 23s\n",
      "80:\tlearn: 0.0294033\ttotal: 7.33s\tremaining: 1m 23s\n",
      "81:\tlearn: 0.0293425\ttotal: 7.38s\tremaining: 1m 22s\n",
      "82:\tlearn: 0.0292935\ttotal: 7.45s\tremaining: 1m 22s\n",
      "83:\tlearn: 0.0292429\ttotal: 7.5s\tremaining: 1m 21s\n",
      "84:\tlearn: 0.0291916\ttotal: 7.56s\tremaining: 1m 21s\n",
      "85:\tlearn: 0.0291433\ttotal: 7.61s\tremaining: 1m 20s\n",
      "86:\tlearn: 0.0290966\ttotal: 7.67s\tremaining: 1m 20s\n",
      "87:\tlearn: 0.0290437\ttotal: 7.72s\tremaining: 1m 20s\n",
      "88:\tlearn: 0.0289965\ttotal: 7.78s\tremaining: 1m 19s\n",
      "89:\tlearn: 0.0289509\ttotal: 7.84s\tremaining: 1m 19s\n",
      "90:\tlearn: 0.0289074\ttotal: 7.89s\tremaining: 1m 18s\n",
      "91:\tlearn: 0.0288564\ttotal: 7.95s\tremaining: 1m 18s\n",
      "92:\tlearn: 0.0288055\ttotal: 8.01s\tremaining: 1m 18s\n",
      "93:\tlearn: 0.0287588\ttotal: 8.06s\tremaining: 1m 17s\n",
      "94:\tlearn: 0.0287118\ttotal: 8.12s\tremaining: 1m 17s\n",
      "95:\tlearn: 0.0286692\ttotal: 8.17s\tremaining: 1m 16s\n",
      "96:\tlearn: 0.0286271\ttotal: 8.23s\tremaining: 1m 16s\n",
      "97:\tlearn: 0.0285821\ttotal: 8.28s\tremaining: 1m 16s\n",
      "98:\tlearn: 0.0285432\ttotal: 8.34s\tremaining: 1m 15s\n",
      "99:\tlearn: 0.0284990\ttotal: 8.39s\tremaining: 1m 15s\n",
      "100:\tlearn: 0.0284623\ttotal: 8.46s\tremaining: 1m 15s\n",
      "101:\tlearn: 0.0284237\ttotal: 8.51s\tremaining: 1m 14s\n",
      "102:\tlearn: 0.0283835\ttotal: 8.56s\tremaining: 1m 14s\n",
      "103:\tlearn: 0.0283391\ttotal: 8.62s\tremaining: 1m 14s\n",
      "104:\tlearn: 0.0283029\ttotal: 8.68s\tremaining: 1m 13s\n",
      "105:\tlearn: 0.0282708\ttotal: 8.73s\tremaining: 1m 13s\n",
      "106:\tlearn: 0.0282348\ttotal: 8.79s\tremaining: 1m 13s\n",
      "107:\tlearn: 0.0282013\ttotal: 8.86s\tremaining: 1m 13s\n",
      "108:\tlearn: 0.0281619\ttotal: 8.91s\tremaining: 1m 12s\n",
      "109:\tlearn: 0.0281252\ttotal: 8.97s\tremaining: 1m 12s\n",
      "110:\tlearn: 0.0280905\ttotal: 9.02s\tremaining: 1m 12s\n",
      "111:\tlearn: 0.0280565\ttotal: 9.08s\tremaining: 1m 11s\n",
      "112:\tlearn: 0.0280235\ttotal: 9.13s\tremaining: 1m 11s\n",
      "113:\tlearn: 0.0279875\ttotal: 9.19s\tremaining: 1m 11s\n",
      "114:\tlearn: 0.0279587\ttotal: 9.24s\tremaining: 1m 11s\n",
      "115:\tlearn: 0.0279263\ttotal: 9.3s\tremaining: 1m 10s\n",
      "116:\tlearn: 0.0278988\ttotal: 9.38s\tremaining: 1m 10s\n",
      "117:\tlearn: 0.0278707\ttotal: 9.46s\tremaining: 1m 10s\n",
      "118:\tlearn: 0.0278434\ttotal: 9.54s\tremaining: 1m 10s\n",
      "119:\tlearn: 0.0278150\ttotal: 9.6s\tremaining: 1m 10s\n",
      "120:\tlearn: 0.0277849\ttotal: 9.69s\tremaining: 1m 10s\n",
      "121:\tlearn: 0.0277583\ttotal: 9.74s\tremaining: 1m 10s\n",
      "122:\tlearn: 0.0277300\ttotal: 9.8s\tremaining: 1m 9s\n",
      "123:\tlearn: 0.0277010\ttotal: 9.87s\tremaining: 1m 9s\n",
      "124:\tlearn: 0.0276743\ttotal: 9.94s\tremaining: 1m 9s\n",
      "125:\tlearn: 0.0276486\ttotal: 10s\tremaining: 1m 9s\n",
      "126:\tlearn: 0.0276237\ttotal: 10.2s\tremaining: 1m 9s\n",
      "127:\tlearn: 0.0275955\ttotal: 10.2s\tremaining: 1m 9s\n",
      "128:\tlearn: 0.0275677\ttotal: 10.3s\tremaining: 1m 9s\n",
      "129:\tlearn: 0.0275401\ttotal: 10.4s\tremaining: 1m 9s\n",
      "130:\tlearn: 0.0275180\ttotal: 10.5s\tremaining: 1m 9s\n",
      "131:\tlearn: 0.0274926\ttotal: 10.5s\tremaining: 1m 9s\n",
      "132:\tlearn: 0.0274695\ttotal: 10.6s\tremaining: 1m 8s\n",
      "133:\tlearn: 0.0274453\ttotal: 10.6s\tremaining: 1m 8s\n",
      "134:\tlearn: 0.0274225\ttotal: 10.7s\tremaining: 1m 8s\n",
      "135:\tlearn: 0.0274010\ttotal: 10.8s\tremaining: 1m 8s\n",
      "136:\tlearn: 0.0273789\ttotal: 10.8s\tremaining: 1m 8s\n",
      "137:\tlearn: 0.0273573\ttotal: 10.9s\tremaining: 1m 8s\n",
      "138:\tlearn: 0.0273369\ttotal: 11s\tremaining: 1m 8s\n",
      "139:\tlearn: 0.0273157\ttotal: 11.1s\tremaining: 1m 8s\n",
      "140:\tlearn: 0.0272942\ttotal: 11.2s\tremaining: 1m 8s\n",
      "141:\tlearn: 0.0272710\ttotal: 11.2s\tremaining: 1m 7s\n",
      "142:\tlearn: 0.0272510\ttotal: 11.3s\tremaining: 1m 7s\n",
      "143:\tlearn: 0.0272336\ttotal: 11.3s\tremaining: 1m 7s\n",
      "144:\tlearn: 0.0272156\ttotal: 11.4s\tremaining: 1m 7s\n",
      "145:\tlearn: 0.0271949\ttotal: 11.5s\tremaining: 1m 7s\n",
      "146:\tlearn: 0.0271738\ttotal: 11.5s\tremaining: 1m 6s\n",
      "147:\tlearn: 0.0271564\ttotal: 11.6s\tremaining: 1m 6s\n",
      "148:\tlearn: 0.0271367\ttotal: 11.7s\tremaining: 1m 6s\n",
      "149:\tlearn: 0.0271170\ttotal: 11.7s\tremaining: 1m 6s\n",
      "150:\tlearn: 0.0270986\ttotal: 11.8s\tremaining: 1m 6s\n",
      "151:\tlearn: 0.0270785\ttotal: 11.9s\tremaining: 1m 6s\n",
      "152:\tlearn: 0.0270609\ttotal: 11.9s\tremaining: 1m 6s\n",
      "153:\tlearn: 0.0270446\ttotal: 12s\tremaining: 1m 5s\n",
      "154:\tlearn: 0.0270279\ttotal: 12s\tremaining: 1m 5s\n",
      "155:\tlearn: 0.0270117\ttotal: 12.1s\tremaining: 1m 5s\n",
      "156:\tlearn: 0.0269948\ttotal: 12.1s\tremaining: 1m 5s\n",
      "157:\tlearn: 0.0269784\ttotal: 12.2s\tremaining: 1m 5s\n",
      "158:\tlearn: 0.0269609\ttotal: 12.3s\tremaining: 1m 4s\n",
      "159:\tlearn: 0.0269468\ttotal: 12.3s\tremaining: 1m 4s\n",
      "160:\tlearn: 0.0269303\ttotal: 12.4s\tremaining: 1m 4s\n",
      "161:\tlearn: 0.0269132\ttotal: 12.4s\tremaining: 1m 4s\n",
      "162:\tlearn: 0.0268960\ttotal: 12.5s\tremaining: 1m 4s\n",
      "163:\tlearn: 0.0268812\ttotal: 12.5s\tremaining: 1m 3s\n",
      "164:\tlearn: 0.0268650\ttotal: 12.6s\tremaining: 1m 3s\n",
      "165:\tlearn: 0.0268509\ttotal: 12.7s\tremaining: 1m 3s\n",
      "166:\tlearn: 0.0268359\ttotal: 12.7s\tremaining: 1m 3s\n",
      "167:\tlearn: 0.0268214\ttotal: 12.8s\tremaining: 1m 3s\n",
      "168:\tlearn: 0.0268049\ttotal: 12.8s\tremaining: 1m 3s\n",
      "169:\tlearn: 0.0267886\ttotal: 12.9s\tremaining: 1m 2s\n",
      "170:\tlearn: 0.0267741\ttotal: 12.9s\tremaining: 1m 2s\n",
      "171:\tlearn: 0.0267616\ttotal: 13s\tremaining: 1m 2s\n",
      "172:\tlearn: 0.0267463\ttotal: 13s\tremaining: 1m 2s\n",
      "173:\tlearn: 0.0267329\ttotal: 13.1s\tremaining: 1m 2s\n",
      "174:\tlearn: 0.0267204\ttotal: 13.2s\tremaining: 1m 2s\n",
      "175:\tlearn: 0.0267071\ttotal: 13.2s\tremaining: 1m 1s\n",
      "176:\tlearn: 0.0266907\ttotal: 13.3s\tremaining: 1m 1s\n",
      "177:\tlearn: 0.0266794\ttotal: 13.3s\tremaining: 1m 1s\n",
      "178:\tlearn: 0.0266697\ttotal: 13.4s\tremaining: 1m 1s\n",
      "179:\tlearn: 0.0266558\ttotal: 13.5s\tremaining: 1m 1s\n",
      "180:\tlearn: 0.0266414\ttotal: 13.5s\tremaining: 1m 1s\n",
      "181:\tlearn: 0.0266275\ttotal: 13.6s\tremaining: 1m 1s\n",
      "182:\tlearn: 0.0266171\ttotal: 13.6s\tremaining: 1m\n",
      "183:\tlearn: 0.0266034\ttotal: 13.7s\tremaining: 1m\n",
      "184:\tlearn: 0.0265923\ttotal: 13.7s\tremaining: 1m\n",
      "185:\tlearn: 0.0265815\ttotal: 13.8s\tremaining: 1m\n",
      "186:\tlearn: 0.0265715\ttotal: 13.9s\tremaining: 1m\n",
      "187:\tlearn: 0.0265609\ttotal: 13.9s\tremaining: 1m\n",
      "188:\tlearn: 0.0265510\ttotal: 14s\tremaining: 59.9s\n",
      "189:\tlearn: 0.0265401\ttotal: 14s\tremaining: 59.8s\n",
      "190:\tlearn: 0.0265319\ttotal: 14.1s\tremaining: 59.6s\n",
      "191:\tlearn: 0.0265220\ttotal: 14.1s\tremaining: 59.4s\n",
      "192:\tlearn: 0.0265140\ttotal: 14.2s\tremaining: 59.3s\n",
      "193:\tlearn: 0.0265030\ttotal: 14.2s\tremaining: 59.2s\n",
      "194:\tlearn: 0.0264934\ttotal: 14.3s\tremaining: 59s\n",
      "195:\tlearn: 0.0264854\ttotal: 14.4s\tremaining: 58.9s\n",
      "196:\tlearn: 0.0264756\ttotal: 14.4s\tremaining: 58.7s\n",
      "197:\tlearn: 0.0264672\ttotal: 14.5s\tremaining: 58.6s\n",
      "198:\tlearn: 0.0264601\ttotal: 14.5s\tremaining: 58.5s\n",
      "199:\tlearn: 0.0264487\ttotal: 14.6s\tremaining: 58.4s\n",
      "200:\tlearn: 0.0264378\ttotal: 14.7s\tremaining: 58.3s\n",
      "201:\tlearn: 0.0264278\ttotal: 14.7s\tremaining: 58.1s\n",
      "202:\tlearn: 0.0264163\ttotal: 14.8s\tremaining: 58s\n",
      "203:\tlearn: 0.0264063\ttotal: 14.8s\tremaining: 57.8s\n",
      "204:\tlearn: 0.0263956\ttotal: 14.9s\tremaining: 57.7s\n",
      "205:\tlearn: 0.0263873\ttotal: 14.9s\tremaining: 57.5s\n",
      "206:\tlearn: 0.0263801\ttotal: 15s\tremaining: 57.4s\n",
      "207:\tlearn: 0.0263712\ttotal: 15s\tremaining: 57.3s\n",
      "208:\tlearn: 0.0263642\ttotal: 15.1s\tremaining: 57.1s\n",
      "209:\tlearn: 0.0263507\ttotal: 15.2s\tremaining: 57s\n",
      "210:\tlearn: 0.0263434\ttotal: 15.2s\tremaining: 56.9s\n",
      "211:\tlearn: 0.0263346\ttotal: 15.3s\tremaining: 56.8s\n",
      "212:\tlearn: 0.0263238\ttotal: 15.3s\tremaining: 56.6s\n",
      "213:\tlearn: 0.0263128\ttotal: 15.4s\tremaining: 56.5s\n",
      "214:\tlearn: 0.0263027\ttotal: 15.4s\tremaining: 56.4s\n",
      "215:\tlearn: 0.0262939\ttotal: 15.5s\tremaining: 56.2s\n",
      "216:\tlearn: 0.0262870\ttotal: 15.5s\tremaining: 56.1s\n",
      "217:\tlearn: 0.0262772\ttotal: 15.6s\tremaining: 56s\n",
      "218:\tlearn: 0.0262699\ttotal: 15.7s\tremaining: 55.8s\n",
      "219:\tlearn: 0.0262622\ttotal: 15.7s\tremaining: 55.7s\n",
      "220:\tlearn: 0.0262531\ttotal: 15.8s\tremaining: 55.6s\n",
      "221:\tlearn: 0.0262426\ttotal: 15.8s\tremaining: 55.5s\n",
      "222:\tlearn: 0.0262347\ttotal: 15.9s\tremaining: 55.3s\n",
      "223:\tlearn: 0.0262248\ttotal: 15.9s\tremaining: 55.2s\n",
      "224:\tlearn: 0.0262142\ttotal: 16s\tremaining: 55.1s\n",
      "225:\tlearn: 0.0262064\ttotal: 16s\tremaining: 55s\n",
      "226:\tlearn: 0.0261975\ttotal: 16.1s\tremaining: 54.8s\n",
      "227:\tlearn: 0.0261906\ttotal: 16.2s\tremaining: 54.7s\n",
      "228:\tlearn: 0.0261834\ttotal: 16.2s\tremaining: 54.6s\n",
      "229:\tlearn: 0.0261767\ttotal: 16.3s\tremaining: 54.5s\n",
      "230:\tlearn: 0.0261706\ttotal: 16.3s\tremaining: 54.4s\n",
      "231:\tlearn: 0.0261643\ttotal: 16.4s\tremaining: 54.2s\n",
      "232:\tlearn: 0.0261594\ttotal: 16.4s\tremaining: 54.1s\n",
      "233:\tlearn: 0.0261494\ttotal: 16.5s\tremaining: 54s\n",
      "234:\tlearn: 0.0261414\ttotal: 16.5s\tremaining: 53.9s\n",
      "235:\tlearn: 0.0261349\ttotal: 16.6s\tremaining: 53.7s\n",
      "236:\tlearn: 0.0261278\ttotal: 16.7s\tremaining: 53.6s\n",
      "237:\tlearn: 0.0261220\ttotal: 16.7s\tremaining: 53.5s\n",
      "238:\tlearn: 0.0261147\ttotal: 16.8s\tremaining: 53.4s\n",
      "239:\tlearn: 0.0261068\ttotal: 16.8s\tremaining: 53.2s\n",
      "240:\tlearn: 0.0260973\ttotal: 16.9s\tremaining: 53.1s\n",
      "241:\tlearn: 0.0260917\ttotal: 16.9s\tremaining: 53s\n",
      "242:\tlearn: 0.0260856\ttotal: 17s\tremaining: 52.9s\n",
      "243:\tlearn: 0.0260783\ttotal: 17s\tremaining: 52.8s\n",
      "244:\tlearn: 0.0260736\ttotal: 17.1s\tremaining: 52.7s\n",
      "245:\tlearn: 0.0260686\ttotal: 17.1s\tremaining: 52.5s\n",
      "246:\tlearn: 0.0260622\ttotal: 17.2s\tremaining: 52.4s\n",
      "247:\tlearn: 0.0260546\ttotal: 17.3s\tremaining: 52.3s\n",
      "248:\tlearn: 0.0260507\ttotal: 17.3s\tremaining: 52.2s\n",
      "249:\tlearn: 0.0260441\ttotal: 17.4s\tremaining: 52.1s\n",
      "250:\tlearn: 0.0260365\ttotal: 17.4s\tremaining: 52s\n",
      "251:\tlearn: 0.0260281\ttotal: 17.5s\tremaining: 51.9s\n",
      "252:\tlearn: 0.0260217\ttotal: 17.5s\tremaining: 51.7s\n",
      "253:\tlearn: 0.0260123\ttotal: 17.6s\tremaining: 51.6s\n",
      "254:\tlearn: 0.0260058\ttotal: 17.6s\tremaining: 51.5s\n",
      "255:\tlearn: 0.0259977\ttotal: 17.7s\tremaining: 51.4s\n",
      "256:\tlearn: 0.0259927\ttotal: 17.8s\tremaining: 51.3s\n",
      "257:\tlearn: 0.0259853\ttotal: 17.8s\tremaining: 51.2s\n",
      "258:\tlearn: 0.0259764\ttotal: 17.9s\tremaining: 51.1s\n",
      "259:\tlearn: 0.0259709\ttotal: 17.9s\tremaining: 51s\n",
      "260:\tlearn: 0.0259661\ttotal: 18s\tremaining: 50.9s\n",
      "261:\tlearn: 0.0259594\ttotal: 18s\tremaining: 50.8s\n",
      "262:\tlearn: 0.0259493\ttotal: 18.1s\tremaining: 50.7s\n",
      "263:\tlearn: 0.0259440\ttotal: 18.1s\tremaining: 50.6s\n",
      "264:\tlearn: 0.0259356\ttotal: 18.2s\tremaining: 50.5s\n",
      "265:\tlearn: 0.0259274\ttotal: 18.2s\tremaining: 50.4s\n",
      "266:\tlearn: 0.0259232\ttotal: 18.3s\tremaining: 50.2s\n",
      "267:\tlearn: 0.0259193\ttotal: 18.4s\tremaining: 50.1s\n",
      "268:\tlearn: 0.0259139\ttotal: 18.4s\tremaining: 50s\n",
      "269:\tlearn: 0.0259095\ttotal: 18.5s\tremaining: 49.9s\n",
      "270:\tlearn: 0.0259041\ttotal: 18.5s\tremaining: 49.8s\n",
      "271:\tlearn: 0.0258985\ttotal: 18.6s\tremaining: 49.8s\n",
      "272:\tlearn: 0.0258937\ttotal: 18.7s\tremaining: 49.7s\n",
      "273:\tlearn: 0.0258893\ttotal: 18.7s\tremaining: 49.6s\n",
      "274:\tlearn: 0.0258855\ttotal: 18.8s\tremaining: 49.5s\n",
      "275:\tlearn: 0.0258816\ttotal: 18.9s\tremaining: 49.4s\n",
      "276:\tlearn: 0.0258747\ttotal: 18.9s\tremaining: 49.4s\n",
      "277:\tlearn: 0.0258696\ttotal: 19s\tremaining: 49.3s\n",
      "278:\tlearn: 0.0258646\ttotal: 19s\tremaining: 49.2s\n",
      "279:\tlearn: 0.0258569\ttotal: 19.1s\tremaining: 49.1s\n",
      "280:\tlearn: 0.0258528\ttotal: 19.1s\tremaining: 49s\n",
      "281:\tlearn: 0.0258482\ttotal: 19.2s\tremaining: 48.9s\n",
      "282:\tlearn: 0.0258418\ttotal: 19.3s\tremaining: 48.8s\n",
      "283:\tlearn: 0.0258359\ttotal: 19.3s\tremaining: 48.7s\n",
      "284:\tlearn: 0.0258304\ttotal: 19.4s\tremaining: 48.6s\n",
      "285:\tlearn: 0.0258245\ttotal: 19.4s\tremaining: 48.5s\n",
      "286:\tlearn: 0.0258201\ttotal: 19.5s\tremaining: 48.4s\n",
      "287:\tlearn: 0.0258167\ttotal: 19.5s\tremaining: 48.3s\n",
      "288:\tlearn: 0.0258111\ttotal: 19.6s\tremaining: 48.2s\n",
      "289:\tlearn: 0.0258050\ttotal: 19.6s\tremaining: 48.1s\n",
      "290:\tlearn: 0.0258004\ttotal: 19.7s\tremaining: 48s\n",
      "291:\tlearn: 0.0257949\ttotal: 19.8s\tremaining: 47.9s\n",
      "292:\tlearn: 0.0257893\ttotal: 19.8s\tremaining: 47.8s\n",
      "293:\tlearn: 0.0257842\ttotal: 19.9s\tremaining: 47.7s\n",
      "294:\tlearn: 0.0257764\ttotal: 19.9s\tremaining: 47.6s\n",
      "295:\tlearn: 0.0257720\ttotal: 20s\tremaining: 47.5s\n",
      "296:\tlearn: 0.0257652\ttotal: 20s\tremaining: 47.4s\n",
      "297:\tlearn: 0.0257596\ttotal: 20.1s\tremaining: 47.3s\n",
      "298:\tlearn: 0.0257550\ttotal: 20.1s\tremaining: 47.2s\n",
      "299:\tlearn: 0.0257514\ttotal: 20.2s\tremaining: 47.1s\n",
      "300:\tlearn: 0.0257447\ttotal: 20.3s\tremaining: 47s\n",
      "301:\tlearn: 0.0257408\ttotal: 20.3s\tremaining: 46.9s\n",
      "302:\tlearn: 0.0257345\ttotal: 20.4s\tremaining: 46.8s\n",
      "303:\tlearn: 0.0257291\ttotal: 20.4s\tremaining: 46.7s\n",
      "304:\tlearn: 0.0257248\ttotal: 20.5s\tremaining: 46.6s\n",
      "305:\tlearn: 0.0257204\ttotal: 20.5s\tremaining: 46.6s\n",
      "306:\tlearn: 0.0257149\ttotal: 20.6s\tremaining: 46.5s\n",
      "307:\tlearn: 0.0257109\ttotal: 20.6s\tremaining: 46.4s\n",
      "308:\tlearn: 0.0257039\ttotal: 20.7s\tremaining: 46.3s\n",
      "309:\tlearn: 0.0256995\ttotal: 20.7s\tremaining: 46.2s\n",
      "310:\tlearn: 0.0256948\ttotal: 20.8s\tremaining: 46.1s\n",
      "311:\tlearn: 0.0256906\ttotal: 20.9s\tremaining: 46s\n",
      "312:\tlearn: 0.0256852\ttotal: 20.9s\tremaining: 45.9s\n",
      "313:\tlearn: 0.0256777\ttotal: 21s\tremaining: 45.8s\n",
      "314:\tlearn: 0.0256747\ttotal: 21s\tremaining: 45.7s\n",
      "315:\tlearn: 0.0256694\ttotal: 21.1s\tremaining: 45.6s\n",
      "316:\tlearn: 0.0256642\ttotal: 21.1s\tremaining: 45.6s\n",
      "317:\tlearn: 0.0256597\ttotal: 21.2s\tremaining: 45.5s\n",
      "318:\tlearn: 0.0256556\ttotal: 21.3s\tremaining: 45.4s\n",
      "319:\tlearn: 0.0256491\ttotal: 21.3s\tremaining: 45.3s\n",
      "320:\tlearn: 0.0256454\ttotal: 21.4s\tremaining: 45.2s\n",
      "321:\tlearn: 0.0256412\ttotal: 21.4s\tremaining: 45.1s\n",
      "322:\tlearn: 0.0256367\ttotal: 21.5s\tremaining: 45s\n",
      "323:\tlearn: 0.0256320\ttotal: 21.5s\tremaining: 44.9s\n",
      "324:\tlearn: 0.0256251\ttotal: 21.6s\tremaining: 44.9s\n",
      "325:\tlearn: 0.0256202\ttotal: 21.7s\tremaining: 44.8s\n",
      "326:\tlearn: 0.0256157\ttotal: 21.7s\tremaining: 44.7s\n",
      "327:\tlearn: 0.0256102\ttotal: 21.8s\tremaining: 44.6s\n",
      "328:\tlearn: 0.0256056\ttotal: 21.8s\tremaining: 44.5s\n",
      "329:\tlearn: 0.0256016\ttotal: 21.9s\tremaining: 44.4s\n",
      "330:\tlearn: 0.0255982\ttotal: 21.9s\tremaining: 44.3s\n",
      "331:\tlearn: 0.0255939\ttotal: 22s\tremaining: 44.2s\n",
      "332:\tlearn: 0.0255891\ttotal: 22s\tremaining: 44.1s\n",
      "333:\tlearn: 0.0255862\ttotal: 22.1s\tremaining: 44.1s\n",
      "334:\tlearn: 0.0255820\ttotal: 22.1s\tremaining: 44s\n",
      "335:\tlearn: 0.0255777\ttotal: 22.2s\tremaining: 43.9s\n",
      "336:\tlearn: 0.0255737\ttotal: 22.3s\tremaining: 43.8s\n",
      "337:\tlearn: 0.0255699\ttotal: 22.3s\tremaining: 43.7s\n",
      "338:\tlearn: 0.0255657\ttotal: 22.4s\tremaining: 43.6s\n",
      "339:\tlearn: 0.0255609\ttotal: 22.4s\tremaining: 43.5s\n",
      "340:\tlearn: 0.0255566\ttotal: 22.5s\tremaining: 43.5s\n",
      "341:\tlearn: 0.0255503\ttotal: 22.5s\tremaining: 43.4s\n",
      "342:\tlearn: 0.0255438\ttotal: 22.6s\tremaining: 43.3s\n",
      "343:\tlearn: 0.0255383\ttotal: 22.6s\tremaining: 43.2s\n",
      "344:\tlearn: 0.0255340\ttotal: 22.7s\tremaining: 43.1s\n",
      "345:\tlearn: 0.0255303\ttotal: 22.8s\tremaining: 43s\n",
      "346:\tlearn: 0.0255268\ttotal: 22.8s\tremaining: 42.9s\n",
      "347:\tlearn: 0.0255238\ttotal: 22.9s\tremaining: 42.9s\n",
      "348:\tlearn: 0.0255193\ttotal: 22.9s\tremaining: 42.8s\n",
      "349:\tlearn: 0.0255139\ttotal: 23s\tremaining: 42.7s\n",
      "350:\tlearn: 0.0255081\ttotal: 23s\tremaining: 42.6s\n",
      "351:\tlearn: 0.0255037\ttotal: 23.1s\tremaining: 42.5s\n",
      "352:\tlearn: 0.0254995\ttotal: 23.1s\tremaining: 42.4s\n",
      "353:\tlearn: 0.0254956\ttotal: 23.2s\tremaining: 42.3s\n",
      "354:\tlearn: 0.0254911\ttotal: 23.3s\tremaining: 42.3s\n",
      "355:\tlearn: 0.0254846\ttotal: 23.3s\tremaining: 42.2s\n",
      "356:\tlearn: 0.0254812\ttotal: 23.4s\tremaining: 42.1s\n",
      "357:\tlearn: 0.0254769\ttotal: 23.4s\tremaining: 42s\n",
      "358:\tlearn: 0.0254730\ttotal: 23.5s\tremaining: 41.9s\n",
      "359:\tlearn: 0.0254671\ttotal: 23.5s\tremaining: 41.8s\n",
      "360:\tlearn: 0.0254620\ttotal: 23.6s\tremaining: 41.8s\n",
      "361:\tlearn: 0.0254580\ttotal: 23.6s\tremaining: 41.7s\n",
      "362:\tlearn: 0.0254526\ttotal: 23.7s\tremaining: 41.6s\n",
      "363:\tlearn: 0.0254484\ttotal: 23.8s\tremaining: 41.5s\n",
      "364:\tlearn: 0.0254438\ttotal: 23.8s\tremaining: 41.4s\n",
      "365:\tlearn: 0.0254392\ttotal: 23.9s\tremaining: 41.3s\n",
      "366:\tlearn: 0.0254344\ttotal: 23.9s\tremaining: 41.3s\n",
      "367:\tlearn: 0.0254296\ttotal: 24s\tremaining: 41.2s\n",
      "368:\tlearn: 0.0254243\ttotal: 24s\tremaining: 41.1s\n",
      "369:\tlearn: 0.0254215\ttotal: 24.1s\tremaining: 41s\n",
      "370:\tlearn: 0.0254192\ttotal: 24.1s\tremaining: 40.9s\n",
      "371:\tlearn: 0.0254158\ttotal: 24.2s\tremaining: 40.9s\n",
      "372:\tlearn: 0.0254129\ttotal: 24.3s\tremaining: 40.8s\n",
      "373:\tlearn: 0.0254095\ttotal: 24.3s\tremaining: 40.7s\n",
      "374:\tlearn: 0.0254050\ttotal: 24.4s\tremaining: 40.6s\n",
      "375:\tlearn: 0.0254011\ttotal: 24.4s\tremaining: 40.5s\n",
      "376:\tlearn: 0.0253977\ttotal: 24.5s\tremaining: 40.4s\n",
      "377:\tlearn: 0.0253931\ttotal: 24.5s\tremaining: 40.4s\n",
      "378:\tlearn: 0.0253898\ttotal: 24.6s\tremaining: 40.3s\n",
      "379:\tlearn: 0.0253867\ttotal: 24.6s\tremaining: 40.2s\n",
      "380:\tlearn: 0.0253840\ttotal: 24.7s\tremaining: 40.1s\n",
      "381:\tlearn: 0.0253801\ttotal: 24.7s\tremaining: 40s\n",
      "382:\tlearn: 0.0253770\ttotal: 24.8s\tremaining: 39.9s\n",
      "383:\tlearn: 0.0253745\ttotal: 24.9s\tremaining: 39.9s\n",
      "384:\tlearn: 0.0253699\ttotal: 24.9s\tremaining: 39.8s\n",
      "385:\tlearn: 0.0253672\ttotal: 25s\tremaining: 39.7s\n",
      "386:\tlearn: 0.0253623\ttotal: 25s\tremaining: 39.6s\n",
      "387:\tlearn: 0.0253588\ttotal: 25.1s\tremaining: 39.5s\n",
      "388:\tlearn: 0.0253552\ttotal: 25.1s\tremaining: 39.5s\n",
      "389:\tlearn: 0.0253515\ttotal: 25.2s\tremaining: 39.4s\n",
      "390:\tlearn: 0.0253486\ttotal: 25.2s\tremaining: 39.3s\n",
      "391:\tlearn: 0.0253438\ttotal: 25.3s\tremaining: 39.2s\n",
      "392:\tlearn: 0.0253400\ttotal: 25.4s\tremaining: 39.2s\n",
      "393:\tlearn: 0.0253367\ttotal: 25.4s\tremaining: 39.1s\n",
      "394:\tlearn: 0.0253329\ttotal: 25.5s\tremaining: 39s\n",
      "395:\tlearn: 0.0253301\ttotal: 25.5s\tremaining: 38.9s\n",
      "396:\tlearn: 0.0253265\ttotal: 25.6s\tremaining: 38.9s\n",
      "397:\tlearn: 0.0253244\ttotal: 25.6s\tremaining: 38.8s\n",
      "398:\tlearn: 0.0253220\ttotal: 25.7s\tremaining: 38.7s\n",
      "399:\tlearn: 0.0253184\ttotal: 25.8s\tremaining: 38.6s\n",
      "400:\tlearn: 0.0253157\ttotal: 25.8s\tremaining: 38.6s\n",
      "401:\tlearn: 0.0253132\ttotal: 25.9s\tremaining: 38.5s\n",
      "402:\tlearn: 0.0253097\ttotal: 25.9s\tremaining: 38.4s\n",
      "403:\tlearn: 0.0253058\ttotal: 26s\tremaining: 38.3s\n",
      "404:\tlearn: 0.0253014\ttotal: 26s\tremaining: 38.3s\n",
      "405:\tlearn: 0.0252969\ttotal: 26.1s\tremaining: 38.2s\n",
      "406:\tlearn: 0.0252935\ttotal: 26.2s\tremaining: 38.1s\n",
      "407:\tlearn: 0.0252906\ttotal: 26.2s\tremaining: 38s\n",
      "408:\tlearn: 0.0252873\ttotal: 26.3s\tremaining: 37.9s\n",
      "409:\tlearn: 0.0252839\ttotal: 26.3s\tremaining: 37.9s\n",
      "410:\tlearn: 0.0252799\ttotal: 26.4s\tremaining: 37.8s\n",
      "411:\tlearn: 0.0252772\ttotal: 26.4s\tremaining: 37.7s\n",
      "412:\tlearn: 0.0252720\ttotal: 26.5s\tremaining: 37.6s\n",
      "413:\tlearn: 0.0252684\ttotal: 26.5s\tremaining: 37.6s\n",
      "414:\tlearn: 0.0252654\ttotal: 26.6s\tremaining: 37.5s\n",
      "415:\tlearn: 0.0252611\ttotal: 26.7s\tremaining: 37.4s\n",
      "416:\tlearn: 0.0252585\ttotal: 26.7s\tremaining: 37.3s\n",
      "417:\tlearn: 0.0252564\ttotal: 26.8s\tremaining: 37.3s\n",
      "418:\tlearn: 0.0252535\ttotal: 26.8s\tremaining: 37.2s\n",
      "419:\tlearn: 0.0252502\ttotal: 26.9s\tremaining: 37.1s\n",
      "420:\tlearn: 0.0252478\ttotal: 26.9s\tremaining: 37.1s\n",
      "421:\tlearn: 0.0252431\ttotal: 27s\tremaining: 37s\n",
      "422:\tlearn: 0.0252407\ttotal: 27.1s\tremaining: 36.9s\n",
      "423:\tlearn: 0.0252389\ttotal: 27.1s\tremaining: 36.8s\n",
      "424:\tlearn: 0.0252357\ttotal: 27.2s\tremaining: 36.8s\n",
      "425:\tlearn: 0.0252315\ttotal: 27.2s\tremaining: 36.7s\n",
      "426:\tlearn: 0.0252283\ttotal: 27.3s\tremaining: 36.6s\n",
      "427:\tlearn: 0.0252246\ttotal: 27.3s\tremaining: 36.5s\n",
      "428:\tlearn: 0.0252208\ttotal: 27.4s\tremaining: 36.5s\n",
      "429:\tlearn: 0.0252171\ttotal: 27.4s\tremaining: 36.4s\n",
      "430:\tlearn: 0.0252140\ttotal: 27.5s\tremaining: 36.3s\n",
      "431:\tlearn: 0.0252117\ttotal: 27.6s\tremaining: 36.2s\n",
      "432:\tlearn: 0.0252074\ttotal: 27.6s\tremaining: 36.2s\n",
      "433:\tlearn: 0.0252024\ttotal: 27.7s\tremaining: 36.1s\n",
      "434:\tlearn: 0.0251992\ttotal: 27.7s\tremaining: 36s\n",
      "435:\tlearn: 0.0251968\ttotal: 27.8s\tremaining: 36s\n",
      "436:\tlearn: 0.0251927\ttotal: 27.9s\tremaining: 35.9s\n",
      "437:\tlearn: 0.0251891\ttotal: 27.9s\tremaining: 35.8s\n",
      "438:\tlearn: 0.0251844\ttotal: 28s\tremaining: 35.8s\n",
      "439:\tlearn: 0.0251819\ttotal: 28s\tremaining: 35.7s\n",
      "440:\tlearn: 0.0251800\ttotal: 28.1s\tremaining: 35.6s\n",
      "441:\tlearn: 0.0251778\ttotal: 28.2s\tremaining: 35.5s\n",
      "442:\tlearn: 0.0251751\ttotal: 28.2s\tremaining: 35.5s\n",
      "443:\tlearn: 0.0251726\ttotal: 28.3s\tremaining: 35.4s\n",
      "444:\tlearn: 0.0251698\ttotal: 28.3s\tremaining: 35.3s\n",
      "445:\tlearn: 0.0251670\ttotal: 28.4s\tremaining: 35.3s\n",
      "446:\tlearn: 0.0251639\ttotal: 28.4s\tremaining: 35.2s\n",
      "447:\tlearn: 0.0251592\ttotal: 28.5s\tremaining: 35.1s\n",
      "448:\tlearn: 0.0251538\ttotal: 28.6s\tremaining: 35s\n",
      "449:\tlearn: 0.0251506\ttotal: 28.6s\tremaining: 35s\n",
      "450:\tlearn: 0.0251462\ttotal: 28.7s\tremaining: 34.9s\n",
      "451:\tlearn: 0.0251419\ttotal: 28.7s\tremaining: 34.8s\n",
      "452:\tlearn: 0.0251392\ttotal: 28.8s\tremaining: 34.8s\n",
      "453:\tlearn: 0.0251377\ttotal: 28.9s\tremaining: 34.7s\n",
      "454:\tlearn: 0.0251342\ttotal: 28.9s\tremaining: 34.6s\n",
      "455:\tlearn: 0.0251312\ttotal: 29s\tremaining: 34.6s\n",
      "456:\tlearn: 0.0251286\ttotal: 29s\tremaining: 34.5s\n",
      "457:\tlearn: 0.0251246\ttotal: 29.1s\tremaining: 34.4s\n",
      "458:\tlearn: 0.0251223\ttotal: 29.1s\tremaining: 34.3s\n",
      "459:\tlearn: 0.0251188\ttotal: 29.2s\tremaining: 34.3s\n",
      "460:\tlearn: 0.0251161\ttotal: 29.2s\tremaining: 34.2s\n",
      "461:\tlearn: 0.0251135\ttotal: 29.3s\tremaining: 34.1s\n",
      "462:\tlearn: 0.0251116\ttotal: 29.4s\tremaining: 34s\n",
      "463:\tlearn: 0.0251079\ttotal: 29.4s\tremaining: 34s\n",
      "464:\tlearn: 0.0251065\ttotal: 29.5s\tremaining: 33.9s\n",
      "465:\tlearn: 0.0251026\ttotal: 29.5s\tremaining: 33.8s\n",
      "466:\tlearn: 0.0250992\ttotal: 29.6s\tremaining: 33.7s\n",
      "467:\tlearn: 0.0250958\ttotal: 29.6s\tremaining: 33.7s\n",
      "468:\tlearn: 0.0250926\ttotal: 29.7s\tremaining: 33.6s\n",
      "469:\tlearn: 0.0250885\ttotal: 29.7s\tremaining: 33.5s\n",
      "470:\tlearn: 0.0250852\ttotal: 29.8s\tremaining: 33.5s\n",
      "471:\tlearn: 0.0250815\ttotal: 29.8s\tremaining: 33.4s\n",
      "472:\tlearn: 0.0250784\ttotal: 29.9s\tremaining: 33.3s\n",
      "473:\tlearn: 0.0250741\ttotal: 30s\tremaining: 33.2s\n",
      "474:\tlearn: 0.0250700\ttotal: 30s\tremaining: 33.2s\n",
      "475:\tlearn: 0.0250672\ttotal: 30.1s\tremaining: 33.1s\n",
      "476:\tlearn: 0.0250642\ttotal: 30.1s\tremaining: 33s\n",
      "477:\tlearn: 0.0250618\ttotal: 30.2s\tremaining: 33s\n",
      "478:\tlearn: 0.0250595\ttotal: 30.2s\tremaining: 32.9s\n",
      "479:\tlearn: 0.0250578\ttotal: 30.3s\tremaining: 32.8s\n",
      "480:\tlearn: 0.0250556\ttotal: 30.3s\tremaining: 32.7s\n",
      "481:\tlearn: 0.0250531\ttotal: 30.4s\tremaining: 32.7s\n",
      "482:\tlearn: 0.0250505\ttotal: 30.4s\tremaining: 32.6s\n",
      "483:\tlearn: 0.0250474\ttotal: 30.5s\tremaining: 32.5s\n",
      "484:\tlearn: 0.0250449\ttotal: 30.6s\tremaining: 32.4s\n",
      "485:\tlearn: 0.0250424\ttotal: 30.6s\tremaining: 32.4s\n",
      "486:\tlearn: 0.0250392\ttotal: 30.7s\tremaining: 32.3s\n",
      "487:\tlearn: 0.0250348\ttotal: 30.7s\tremaining: 32.2s\n",
      "488:\tlearn: 0.0250307\ttotal: 30.8s\tremaining: 32.2s\n",
      "489:\tlearn: 0.0250280\ttotal: 30.8s\tremaining: 32.1s\n",
      "490:\tlearn: 0.0250262\ttotal: 30.9s\tremaining: 32s\n",
      "491:\tlearn: 0.0250229\ttotal: 30.9s\tremaining: 32s\n",
      "492:\tlearn: 0.0250205\ttotal: 31s\tremaining: 31.9s\n",
      "493:\tlearn: 0.0250179\ttotal: 31.1s\tremaining: 31.8s\n",
      "494:\tlearn: 0.0250137\ttotal: 31.1s\tremaining: 31.7s\n",
      "495:\tlearn: 0.0250104\ttotal: 31.2s\tremaining: 31.7s\n",
      "496:\tlearn: 0.0250065\ttotal: 31.2s\tremaining: 31.6s\n",
      "497:\tlearn: 0.0250046\ttotal: 31.3s\tremaining: 31.5s\n",
      "498:\tlearn: 0.0250025\ttotal: 31.3s\tremaining: 31.5s\n",
      "499:\tlearn: 0.0249984\ttotal: 31.4s\tremaining: 31.4s\n",
      "500:\tlearn: 0.0249949\ttotal: 31.4s\tremaining: 31.3s\n",
      "501:\tlearn: 0.0249929\ttotal: 31.5s\tremaining: 31.3s\n",
      "502:\tlearn: 0.0249893\ttotal: 31.6s\tremaining: 31.2s\n",
      "503:\tlearn: 0.0249856\ttotal: 31.6s\tremaining: 31.1s\n",
      "504:\tlearn: 0.0249839\ttotal: 31.7s\tremaining: 31.1s\n",
      "505:\tlearn: 0.0249804\ttotal: 31.8s\tremaining: 31s\n",
      "506:\tlearn: 0.0249761\ttotal: 31.8s\tremaining: 30.9s\n",
      "507:\tlearn: 0.0249734\ttotal: 31.9s\tremaining: 30.9s\n",
      "508:\tlearn: 0.0249718\ttotal: 31.9s\tremaining: 30.8s\n",
      "509:\tlearn: 0.0249682\ttotal: 32s\tremaining: 30.7s\n",
      "510:\tlearn: 0.0249643\ttotal: 32s\tremaining: 30.7s\n",
      "511:\tlearn: 0.0249625\ttotal: 32.1s\tremaining: 30.6s\n",
      "512:\tlearn: 0.0249594\ttotal: 32.1s\tremaining: 30.5s\n",
      "513:\tlearn: 0.0249565\ttotal: 32.2s\tremaining: 30.4s\n",
      "514:\tlearn: 0.0249547\ttotal: 32.3s\tremaining: 30.4s\n",
      "515:\tlearn: 0.0249509\ttotal: 32.3s\tremaining: 30.3s\n",
      "516:\tlearn: 0.0249485\ttotal: 32.4s\tremaining: 30.2s\n",
      "517:\tlearn: 0.0249452\ttotal: 32.4s\tremaining: 30.2s\n",
      "518:\tlearn: 0.0249413\ttotal: 32.5s\tremaining: 30.1s\n",
      "519:\tlearn: 0.0249396\ttotal: 32.6s\tremaining: 30s\n",
      "520:\tlearn: 0.0249367\ttotal: 32.6s\tremaining: 30s\n",
      "521:\tlearn: 0.0249345\ttotal: 32.7s\tremaining: 29.9s\n",
      "522:\tlearn: 0.0249317\ttotal: 32.7s\tremaining: 29.8s\n",
      "523:\tlearn: 0.0249288\ttotal: 32.8s\tremaining: 29.8s\n",
      "524:\tlearn: 0.0249266\ttotal: 32.8s\tremaining: 29.7s\n",
      "525:\tlearn: 0.0249239\ttotal: 32.9s\tremaining: 29.6s\n",
      "526:\tlearn: 0.0249215\ttotal: 32.9s\tremaining: 29.6s\n",
      "527:\tlearn: 0.0249176\ttotal: 33s\tremaining: 29.5s\n",
      "528:\tlearn: 0.0249145\ttotal: 33s\tremaining: 29.4s\n",
      "529:\tlearn: 0.0249108\ttotal: 33.1s\tremaining: 29.4s\n",
      "530:\tlearn: 0.0249079\ttotal: 33.2s\tremaining: 29.3s\n",
      "531:\tlearn: 0.0249054\ttotal: 33.2s\tremaining: 29.2s\n",
      "532:\tlearn: 0.0249032\ttotal: 33.3s\tremaining: 29.1s\n",
      "533:\tlearn: 0.0249011\ttotal: 33.3s\tremaining: 29.1s\n",
      "534:\tlearn: 0.0248986\ttotal: 33.4s\tremaining: 29s\n",
      "535:\tlearn: 0.0248967\ttotal: 33.4s\tremaining: 28.9s\n",
      "536:\tlearn: 0.0248929\ttotal: 33.5s\tremaining: 28.9s\n",
      "537:\tlearn: 0.0248901\ttotal: 33.5s\tremaining: 28.8s\n",
      "538:\tlearn: 0.0248887\ttotal: 33.6s\tremaining: 28.7s\n",
      "539:\tlearn: 0.0248866\ttotal: 33.6s\tremaining: 28.7s\n",
      "540:\tlearn: 0.0248833\ttotal: 33.7s\tremaining: 28.6s\n",
      "541:\tlearn: 0.0248810\ttotal: 33.8s\tremaining: 28.5s\n",
      "542:\tlearn: 0.0248783\ttotal: 33.8s\tremaining: 28.5s\n",
      "543:\tlearn: 0.0248760\ttotal: 33.9s\tremaining: 28.4s\n",
      "544:\tlearn: 0.0248728\ttotal: 33.9s\tremaining: 28.3s\n",
      "545:\tlearn: 0.0248708\ttotal: 34s\tremaining: 28.3s\n",
      "546:\tlearn: 0.0248670\ttotal: 34s\tremaining: 28.2s\n",
      "547:\tlearn: 0.0248627\ttotal: 34.1s\tremaining: 28.1s\n",
      "548:\tlearn: 0.0248607\ttotal: 34.1s\tremaining: 28s\n",
      "549:\tlearn: 0.0248570\ttotal: 34.2s\tremaining: 28s\n",
      "550:\tlearn: 0.0248554\ttotal: 34.3s\tremaining: 27.9s\n",
      "551:\tlearn: 0.0248533\ttotal: 34.3s\tremaining: 27.8s\n",
      "552:\tlearn: 0.0248503\ttotal: 34.4s\tremaining: 27.8s\n",
      "553:\tlearn: 0.0248455\ttotal: 34.4s\tremaining: 27.7s\n",
      "554:\tlearn: 0.0248430\ttotal: 34.5s\tremaining: 27.6s\n",
      "555:\tlearn: 0.0248397\ttotal: 34.5s\tremaining: 27.6s\n",
      "556:\tlearn: 0.0248355\ttotal: 34.6s\tremaining: 27.5s\n",
      "557:\tlearn: 0.0248341\ttotal: 34.6s\tremaining: 27.4s\n",
      "558:\tlearn: 0.0248282\ttotal: 34.7s\tremaining: 27.4s\n",
      "559:\tlearn: 0.0248268\ttotal: 34.7s\tremaining: 27.3s\n",
      "560:\tlearn: 0.0248236\ttotal: 34.8s\tremaining: 27.2s\n",
      "561:\tlearn: 0.0248195\ttotal: 34.9s\tremaining: 27.2s\n",
      "562:\tlearn: 0.0248161\ttotal: 34.9s\tremaining: 27.1s\n",
      "563:\tlearn: 0.0248126\ttotal: 35s\tremaining: 27s\n",
      "564:\tlearn: 0.0248107\ttotal: 35s\tremaining: 27s\n",
      "565:\tlearn: 0.0248078\ttotal: 35.1s\tremaining: 26.9s\n",
      "566:\tlearn: 0.0248040\ttotal: 35.1s\tremaining: 26.8s\n",
      "567:\tlearn: 0.0248021\ttotal: 35.2s\tremaining: 26.8s\n",
      "568:\tlearn: 0.0247996\ttotal: 35.2s\tremaining: 26.7s\n",
      "569:\tlearn: 0.0247975\ttotal: 35.3s\tremaining: 26.6s\n",
      "570:\tlearn: 0.0247948\ttotal: 35.4s\tremaining: 26.6s\n",
      "571:\tlearn: 0.0247913\ttotal: 35.4s\tremaining: 26.5s\n",
      "572:\tlearn: 0.0247873\ttotal: 35.5s\tremaining: 26.4s\n",
      "573:\tlearn: 0.0247838\ttotal: 35.5s\tremaining: 26.4s\n",
      "574:\tlearn: 0.0247801\ttotal: 35.6s\tremaining: 26.3s\n",
      "575:\tlearn: 0.0247784\ttotal: 35.6s\tremaining: 26.2s\n",
      "576:\tlearn: 0.0247750\ttotal: 35.7s\tremaining: 26.2s\n",
      "577:\tlearn: 0.0247717\ttotal: 35.7s\tremaining: 26.1s\n",
      "578:\tlearn: 0.0247698\ttotal: 35.8s\tremaining: 26s\n",
      "579:\tlearn: 0.0247675\ttotal: 35.8s\tremaining: 26s\n",
      "580:\tlearn: 0.0247630\ttotal: 35.9s\tremaining: 25.9s\n",
      "581:\tlearn: 0.0247583\ttotal: 36s\tremaining: 25.8s\n",
      "582:\tlearn: 0.0247552\ttotal: 36s\tremaining: 25.8s\n",
      "583:\tlearn: 0.0247520\ttotal: 36.1s\tremaining: 25.7s\n",
      "584:\tlearn: 0.0247507\ttotal: 36.1s\tremaining: 25.6s\n",
      "585:\tlearn: 0.0247486\ttotal: 36.2s\tremaining: 25.6s\n",
      "586:\tlearn: 0.0247451\ttotal: 36.2s\tremaining: 25.5s\n",
      "587:\tlearn: 0.0247418\ttotal: 36.3s\tremaining: 25.4s\n",
      "588:\tlearn: 0.0247387\ttotal: 36.3s\tremaining: 25.4s\n",
      "589:\tlearn: 0.0247353\ttotal: 36.4s\tremaining: 25.3s\n",
      "590:\tlearn: 0.0247323\ttotal: 36.5s\tremaining: 25.2s\n",
      "591:\tlearn: 0.0247298\ttotal: 36.5s\tremaining: 25.2s\n",
      "592:\tlearn: 0.0247274\ttotal: 36.6s\tremaining: 25.1s\n",
      "593:\tlearn: 0.0247250\ttotal: 36.6s\tremaining: 25s\n",
      "594:\tlearn: 0.0247225\ttotal: 36.7s\tremaining: 25s\n",
      "595:\tlearn: 0.0247193\ttotal: 36.7s\tremaining: 24.9s\n",
      "596:\tlearn: 0.0247153\ttotal: 36.8s\tremaining: 24.8s\n",
      "597:\tlearn: 0.0247137\ttotal: 36.8s\tremaining: 24.8s\n",
      "598:\tlearn: 0.0247111\ttotal: 36.9s\tremaining: 24.7s\n",
      "599:\tlearn: 0.0247094\ttotal: 36.9s\tremaining: 24.6s\n",
      "600:\tlearn: 0.0247050\ttotal: 37s\tremaining: 24.6s\n",
      "601:\tlearn: 0.0247023\ttotal: 37.1s\tremaining: 24.5s\n",
      "602:\tlearn: 0.0246998\ttotal: 37.1s\tremaining: 24.4s\n",
      "603:\tlearn: 0.0246969\ttotal: 37.2s\tremaining: 24.4s\n",
      "604:\tlearn: 0.0246914\ttotal: 37.2s\tremaining: 24.3s\n",
      "605:\tlearn: 0.0246880\ttotal: 37.3s\tremaining: 24.2s\n",
      "606:\tlearn: 0.0246862\ttotal: 37.3s\tremaining: 24.2s\n",
      "607:\tlearn: 0.0246844\ttotal: 37.4s\tremaining: 24.1s\n",
      "608:\tlearn: 0.0246809\ttotal: 37.4s\tremaining: 24s\n",
      "609:\tlearn: 0.0246786\ttotal: 37.5s\tremaining: 24s\n",
      "610:\tlearn: 0.0246768\ttotal: 37.6s\tremaining: 23.9s\n",
      "611:\tlearn: 0.0246735\ttotal: 37.6s\tremaining: 23.8s\n",
      "612:\tlearn: 0.0246719\ttotal: 37.7s\tremaining: 23.8s\n",
      "613:\tlearn: 0.0246698\ttotal: 37.7s\tremaining: 23.7s\n",
      "614:\tlearn: 0.0246667\ttotal: 37.8s\tremaining: 23.6s\n",
      "615:\tlearn: 0.0246631\ttotal: 37.8s\tremaining: 23.6s\n",
      "616:\tlearn: 0.0246608\ttotal: 37.9s\tremaining: 23.5s\n",
      "617:\tlearn: 0.0246580\ttotal: 37.9s\tremaining: 23.5s\n",
      "618:\tlearn: 0.0246529\ttotal: 38s\tremaining: 23.4s\n",
      "619:\tlearn: 0.0246499\ttotal: 38.1s\tremaining: 23.3s\n",
      "620:\tlearn: 0.0246481\ttotal: 38.1s\tremaining: 23.3s\n",
      "621:\tlearn: 0.0246461\ttotal: 38.2s\tremaining: 23.2s\n",
      "622:\tlearn: 0.0246422\ttotal: 38.2s\tremaining: 23.1s\n",
      "623:\tlearn: 0.0246393\ttotal: 38.3s\tremaining: 23.1s\n",
      "624:\tlearn: 0.0246376\ttotal: 38.3s\tremaining: 23s\n",
      "625:\tlearn: 0.0246359\ttotal: 38.4s\tremaining: 22.9s\n",
      "626:\tlearn: 0.0246330\ttotal: 38.5s\tremaining: 22.9s\n",
      "627:\tlearn: 0.0246302\ttotal: 38.5s\tremaining: 22.8s\n",
      "628:\tlearn: 0.0246284\ttotal: 38.6s\tremaining: 22.7s\n",
      "629:\tlearn: 0.0246263\ttotal: 38.6s\tremaining: 22.7s\n",
      "630:\tlearn: 0.0246247\ttotal: 38.7s\tremaining: 22.6s\n",
      "631:\tlearn: 0.0246230\ttotal: 38.7s\tremaining: 22.6s\n",
      "632:\tlearn: 0.0246206\ttotal: 38.8s\tremaining: 22.5s\n",
      "633:\tlearn: 0.0246188\ttotal: 38.8s\tremaining: 22.4s\n",
      "634:\tlearn: 0.0246152\ttotal: 38.9s\tremaining: 22.4s\n",
      "635:\tlearn: 0.0246128\ttotal: 39s\tremaining: 22.3s\n",
      "636:\tlearn: 0.0246110\ttotal: 39s\tremaining: 22.2s\n",
      "637:\tlearn: 0.0246091\ttotal: 39.1s\tremaining: 22.2s\n",
      "638:\tlearn: 0.0246079\ttotal: 39.1s\tremaining: 22.1s\n",
      "639:\tlearn: 0.0246053\ttotal: 39.2s\tremaining: 22s\n",
      "640:\tlearn: 0.0246042\ttotal: 39.2s\tremaining: 22s\n",
      "641:\tlearn: 0.0246016\ttotal: 39.3s\tremaining: 21.9s\n",
      "642:\tlearn: 0.0245989\ttotal: 39.3s\tremaining: 21.8s\n",
      "643:\tlearn: 0.0245965\ttotal: 39.4s\tremaining: 21.8s\n",
      "644:\tlearn: 0.0245947\ttotal: 39.4s\tremaining: 21.7s\n",
      "645:\tlearn: 0.0245903\ttotal: 39.5s\tremaining: 21.6s\n",
      "646:\tlearn: 0.0245889\ttotal: 39.6s\tremaining: 21.6s\n",
      "647:\tlearn: 0.0245870\ttotal: 39.6s\tremaining: 21.5s\n",
      "648:\tlearn: 0.0245840\ttotal: 39.7s\tremaining: 21.5s\n",
      "649:\tlearn: 0.0245822\ttotal: 39.7s\tremaining: 21.4s\n",
      "650:\tlearn: 0.0245795\ttotal: 39.8s\tremaining: 21.3s\n",
      "651:\tlearn: 0.0245775\ttotal: 39.8s\tremaining: 21.3s\n",
      "652:\tlearn: 0.0245745\ttotal: 39.9s\tremaining: 21.2s\n",
      "653:\tlearn: 0.0245708\ttotal: 39.9s\tremaining: 21.1s\n",
      "654:\tlearn: 0.0245677\ttotal: 40s\tremaining: 21.1s\n",
      "655:\tlearn: 0.0245643\ttotal: 40.1s\tremaining: 21s\n",
      "656:\tlearn: 0.0245625\ttotal: 40.1s\tremaining: 20.9s\n",
      "657:\tlearn: 0.0245609\ttotal: 40.2s\tremaining: 20.9s\n",
      "658:\tlearn: 0.0245566\ttotal: 40.2s\tremaining: 20.8s\n",
      "659:\tlearn: 0.0245537\ttotal: 40.3s\tremaining: 20.7s\n",
      "660:\tlearn: 0.0245520\ttotal: 40.3s\tremaining: 20.7s\n",
      "661:\tlearn: 0.0245503\ttotal: 40.4s\tremaining: 20.6s\n",
      "662:\tlearn: 0.0245493\ttotal: 40.4s\tremaining: 20.6s\n",
      "663:\tlearn: 0.0245475\ttotal: 40.5s\tremaining: 20.5s\n",
      "664:\tlearn: 0.0245442\ttotal: 40.6s\tremaining: 20.4s\n",
      "665:\tlearn: 0.0245402\ttotal: 40.6s\tremaining: 20.4s\n",
      "666:\tlearn: 0.0245388\ttotal: 40.7s\tremaining: 20.3s\n",
      "667:\tlearn: 0.0245362\ttotal: 40.7s\tremaining: 20.2s\n",
      "668:\tlearn: 0.0245335\ttotal: 40.8s\tremaining: 20.2s\n",
      "669:\tlearn: 0.0245320\ttotal: 40.8s\tremaining: 20.1s\n",
      "670:\tlearn: 0.0245305\ttotal: 40.9s\tremaining: 20s\n",
      "671:\tlearn: 0.0245289\ttotal: 40.9s\tremaining: 20s\n",
      "672:\tlearn: 0.0245273\ttotal: 41s\tremaining: 19.9s\n",
      "673:\tlearn: 0.0245246\ttotal: 41s\tremaining: 19.9s\n",
      "674:\tlearn: 0.0245228\ttotal: 41.1s\tremaining: 19.8s\n",
      "675:\tlearn: 0.0245212\ttotal: 41.2s\tremaining: 19.7s\n",
      "676:\tlearn: 0.0245201\ttotal: 41.2s\tremaining: 19.7s\n",
      "677:\tlearn: 0.0245180\ttotal: 41.3s\tremaining: 19.6s\n",
      "678:\tlearn: 0.0245151\ttotal: 41.3s\tremaining: 19.5s\n",
      "679:\tlearn: 0.0245129\ttotal: 41.4s\tremaining: 19.5s\n",
      "680:\tlearn: 0.0245114\ttotal: 41.5s\tremaining: 19.4s\n",
      "681:\tlearn: 0.0245098\ttotal: 41.5s\tremaining: 19.4s\n",
      "682:\tlearn: 0.0245082\ttotal: 41.6s\tremaining: 19.3s\n",
      "683:\tlearn: 0.0245071\ttotal: 41.6s\tremaining: 19.2s\n",
      "684:\tlearn: 0.0245055\ttotal: 41.7s\tremaining: 19.2s\n",
      "685:\tlearn: 0.0245036\ttotal: 41.7s\tremaining: 19.1s\n",
      "686:\tlearn: 0.0245015\ttotal: 41.8s\tremaining: 19s\n",
      "687:\tlearn: 0.0244991\ttotal: 41.9s\tremaining: 19s\n",
      "688:\tlearn: 0.0244978\ttotal: 41.9s\tremaining: 18.9s\n",
      "689:\tlearn: 0.0244938\ttotal: 42s\tremaining: 18.9s\n",
      "690:\tlearn: 0.0244914\ttotal: 42s\tremaining: 18.8s\n",
      "691:\tlearn: 0.0244885\ttotal: 42.1s\tremaining: 18.7s\n",
      "692:\tlearn: 0.0244857\ttotal: 42.1s\tremaining: 18.7s\n",
      "693:\tlearn: 0.0244840\ttotal: 42.2s\tremaining: 18.6s\n",
      "694:\tlearn: 0.0244824\ttotal: 42.2s\tremaining: 18.5s\n",
      "695:\tlearn: 0.0244813\ttotal: 42.3s\tremaining: 18.5s\n",
      "696:\tlearn: 0.0244789\ttotal: 42.3s\tremaining: 18.4s\n",
      "697:\tlearn: 0.0244766\ttotal: 42.4s\tremaining: 18.3s\n",
      "698:\tlearn: 0.0244744\ttotal: 42.5s\tremaining: 18.3s\n",
      "699:\tlearn: 0.0244715\ttotal: 42.5s\tremaining: 18.2s\n",
      "700:\tlearn: 0.0244691\ttotal: 42.6s\tremaining: 18.2s\n",
      "701:\tlearn: 0.0244670\ttotal: 42.6s\tremaining: 18.1s\n",
      "702:\tlearn: 0.0244655\ttotal: 42.7s\tremaining: 18s\n",
      "703:\tlearn: 0.0244639\ttotal: 42.7s\tremaining: 18s\n",
      "704:\tlearn: 0.0244602\ttotal: 42.8s\tremaining: 17.9s\n",
      "705:\tlearn: 0.0244574\ttotal: 42.8s\tremaining: 17.8s\n",
      "706:\tlearn: 0.0244558\ttotal: 42.9s\tremaining: 17.8s\n",
      "707:\tlearn: 0.0244537\ttotal: 43s\tremaining: 17.7s\n",
      "708:\tlearn: 0.0244522\ttotal: 43s\tremaining: 17.7s\n",
      "709:\tlearn: 0.0244502\ttotal: 43.1s\tremaining: 17.6s\n",
      "710:\tlearn: 0.0244486\ttotal: 43.1s\tremaining: 17.5s\n",
      "711:\tlearn: 0.0244464\ttotal: 43.2s\tremaining: 17.5s\n",
      "712:\tlearn: 0.0244448\ttotal: 43.2s\tremaining: 17.4s\n",
      "713:\tlearn: 0.0244415\ttotal: 43.3s\tremaining: 17.3s\n",
      "714:\tlearn: 0.0244390\ttotal: 43.3s\tremaining: 17.3s\n",
      "715:\tlearn: 0.0244365\ttotal: 43.4s\tremaining: 17.2s\n",
      "716:\tlearn: 0.0244347\ttotal: 43.5s\tremaining: 17.2s\n",
      "717:\tlearn: 0.0244328\ttotal: 43.5s\tremaining: 17.1s\n",
      "718:\tlearn: 0.0244311\ttotal: 43.6s\tremaining: 17s\n",
      "719:\tlearn: 0.0244283\ttotal: 43.6s\tremaining: 17s\n",
      "720:\tlearn: 0.0244267\ttotal: 43.7s\tremaining: 16.9s\n",
      "721:\tlearn: 0.0244243\ttotal: 43.7s\tremaining: 16.8s\n",
      "722:\tlearn: 0.0244230\ttotal: 43.8s\tremaining: 16.8s\n",
      "723:\tlearn: 0.0244206\ttotal: 43.8s\tremaining: 16.7s\n",
      "724:\tlearn: 0.0244178\ttotal: 43.9s\tremaining: 16.7s\n",
      "725:\tlearn: 0.0244166\ttotal: 44s\tremaining: 16.6s\n",
      "726:\tlearn: 0.0244139\ttotal: 44s\tremaining: 16.5s\n",
      "727:\tlearn: 0.0244117\ttotal: 44.1s\tremaining: 16.5s\n",
      "728:\tlearn: 0.0244090\ttotal: 44.1s\tremaining: 16.4s\n",
      "729:\tlearn: 0.0244062\ttotal: 44.2s\tremaining: 16.3s\n",
      "730:\tlearn: 0.0244045\ttotal: 44.2s\tremaining: 16.3s\n",
      "731:\tlearn: 0.0244033\ttotal: 44.3s\tremaining: 16.2s\n",
      "732:\tlearn: 0.0244010\ttotal: 44.4s\tremaining: 16.2s\n",
      "733:\tlearn: 0.0243986\ttotal: 44.4s\tremaining: 16.1s\n",
      "734:\tlearn: 0.0243972\ttotal: 44.5s\tremaining: 16s\n",
      "735:\tlearn: 0.0243948\ttotal: 44.5s\tremaining: 16s\n",
      "736:\tlearn: 0.0243934\ttotal: 44.6s\tremaining: 15.9s\n",
      "737:\tlearn: 0.0243912\ttotal: 44.6s\tremaining: 15.8s\n",
      "738:\tlearn: 0.0243895\ttotal: 44.7s\tremaining: 15.8s\n",
      "739:\tlearn: 0.0243857\ttotal: 44.7s\tremaining: 15.7s\n",
      "740:\tlearn: 0.0243842\ttotal: 44.8s\tremaining: 15.7s\n",
      "741:\tlearn: 0.0243822\ttotal: 44.9s\tremaining: 15.6s\n",
      "742:\tlearn: 0.0243808\ttotal: 44.9s\tremaining: 15.5s\n",
      "743:\tlearn: 0.0243800\ttotal: 45s\tremaining: 15.5s\n",
      "744:\tlearn: 0.0243775\ttotal: 45s\tremaining: 15.4s\n",
      "745:\tlearn: 0.0243762\ttotal: 45.1s\tremaining: 15.3s\n",
      "746:\tlearn: 0.0243742\ttotal: 45.1s\tremaining: 15.3s\n",
      "747:\tlearn: 0.0243727\ttotal: 45.2s\tremaining: 15.2s\n",
      "748:\tlearn: 0.0243702\ttotal: 45.3s\tremaining: 15.2s\n",
      "749:\tlearn: 0.0243677\ttotal: 45.3s\tremaining: 15.1s\n",
      "750:\tlearn: 0.0243652\ttotal: 45.4s\tremaining: 15s\n",
      "751:\tlearn: 0.0243637\ttotal: 45.4s\tremaining: 15s\n",
      "752:\tlearn: 0.0243615\ttotal: 45.5s\tremaining: 14.9s\n",
      "753:\tlearn: 0.0243592\ttotal: 45.5s\tremaining: 14.9s\n",
      "754:\tlearn: 0.0243578\ttotal: 45.6s\tremaining: 14.8s\n",
      "755:\tlearn: 0.0243559\ttotal: 45.6s\tremaining: 14.7s\n",
      "756:\tlearn: 0.0243540\ttotal: 45.7s\tremaining: 14.7s\n",
      "757:\tlearn: 0.0243525\ttotal: 45.8s\tremaining: 14.6s\n",
      "758:\tlearn: 0.0243500\ttotal: 45.8s\tremaining: 14.5s\n",
      "759:\tlearn: 0.0243484\ttotal: 45.9s\tremaining: 14.5s\n",
      "760:\tlearn: 0.0243464\ttotal: 45.9s\tremaining: 14.4s\n",
      "761:\tlearn: 0.0243443\ttotal: 46s\tremaining: 14.4s\n",
      "762:\tlearn: 0.0243416\ttotal: 46s\tremaining: 14.3s\n",
      "763:\tlearn: 0.0243397\ttotal: 46.1s\tremaining: 14.2s\n",
      "764:\tlearn: 0.0243371\ttotal: 46.1s\tremaining: 14.2s\n",
      "765:\tlearn: 0.0243351\ttotal: 46.2s\tremaining: 14.1s\n",
      "766:\tlearn: 0.0243340\ttotal: 46.2s\tremaining: 14s\n",
      "767:\tlearn: 0.0243319\ttotal: 46.3s\tremaining: 14s\n",
      "768:\tlearn: 0.0243294\ttotal: 46.4s\tremaining: 13.9s\n",
      "769:\tlearn: 0.0243279\ttotal: 46.4s\tremaining: 13.9s\n",
      "770:\tlearn: 0.0243263\ttotal: 46.5s\tremaining: 13.8s\n",
      "771:\tlearn: 0.0243249\ttotal: 46.5s\tremaining: 13.7s\n",
      "772:\tlearn: 0.0243228\ttotal: 46.6s\tremaining: 13.7s\n",
      "773:\tlearn: 0.0243203\ttotal: 46.6s\tremaining: 13.6s\n",
      "774:\tlearn: 0.0243180\ttotal: 46.7s\tremaining: 13.6s\n",
      "775:\tlearn: 0.0243166\ttotal: 46.7s\tremaining: 13.5s\n",
      "776:\tlearn: 0.0243147\ttotal: 46.8s\tremaining: 13.4s\n",
      "777:\tlearn: 0.0243137\ttotal: 46.9s\tremaining: 13.4s\n",
      "778:\tlearn: 0.0243127\ttotal: 46.9s\tremaining: 13.3s\n",
      "779:\tlearn: 0.0243096\ttotal: 47s\tremaining: 13.2s\n",
      "780:\tlearn: 0.0243071\ttotal: 47s\tremaining: 13.2s\n",
      "781:\tlearn: 0.0243050\ttotal: 47.1s\tremaining: 13.1s\n",
      "782:\tlearn: 0.0243029\ttotal: 47.1s\tremaining: 13.1s\n",
      "783:\tlearn: 0.0243008\ttotal: 47.2s\tremaining: 13s\n",
      "784:\tlearn: 0.0242973\ttotal: 47.2s\tremaining: 12.9s\n",
      "785:\tlearn: 0.0242953\ttotal: 47.3s\tremaining: 12.9s\n",
      "786:\tlearn: 0.0242926\ttotal: 47.4s\tremaining: 12.8s\n",
      "787:\tlearn: 0.0242908\ttotal: 47.4s\tremaining: 12.8s\n",
      "788:\tlearn: 0.0242888\ttotal: 47.5s\tremaining: 12.7s\n",
      "789:\tlearn: 0.0242874\ttotal: 47.5s\tremaining: 12.6s\n",
      "790:\tlearn: 0.0242852\ttotal: 47.6s\tremaining: 12.6s\n",
      "791:\tlearn: 0.0242833\ttotal: 47.6s\tremaining: 12.5s\n",
      "792:\tlearn: 0.0242823\ttotal: 47.7s\tremaining: 12.4s\n",
      "793:\tlearn: 0.0242805\ttotal: 47.7s\tremaining: 12.4s\n",
      "794:\tlearn: 0.0242792\ttotal: 47.8s\tremaining: 12.3s\n",
      "795:\tlearn: 0.0242764\ttotal: 47.9s\tremaining: 12.3s\n",
      "796:\tlearn: 0.0242742\ttotal: 47.9s\tremaining: 12.2s\n",
      "797:\tlearn: 0.0242726\ttotal: 48s\tremaining: 12.1s\n",
      "798:\tlearn: 0.0242706\ttotal: 48s\tremaining: 12.1s\n",
      "799:\tlearn: 0.0242683\ttotal: 48.1s\tremaining: 12s\n",
      "800:\tlearn: 0.0242658\ttotal: 48.1s\tremaining: 12s\n",
      "801:\tlearn: 0.0242636\ttotal: 48.2s\tremaining: 11.9s\n",
      "802:\tlearn: 0.0242618\ttotal: 48.3s\tremaining: 11.8s\n",
      "803:\tlearn: 0.0242603\ttotal: 48.3s\tremaining: 11.8s\n",
      "804:\tlearn: 0.0242586\ttotal: 48.4s\tremaining: 11.7s\n",
      "805:\tlearn: 0.0242574\ttotal: 48.4s\tremaining: 11.7s\n",
      "806:\tlearn: 0.0242556\ttotal: 48.5s\tremaining: 11.6s\n",
      "807:\tlearn: 0.0242544\ttotal: 48.5s\tremaining: 11.5s\n",
      "808:\tlearn: 0.0242529\ttotal: 48.6s\tremaining: 11.5s\n",
      "809:\tlearn: 0.0242507\ttotal: 48.6s\tremaining: 11.4s\n",
      "810:\tlearn: 0.0242489\ttotal: 48.7s\tremaining: 11.3s\n",
      "811:\tlearn: 0.0242477\ttotal: 48.8s\tremaining: 11.3s\n",
      "812:\tlearn: 0.0242460\ttotal: 48.8s\tremaining: 11.2s\n",
      "813:\tlearn: 0.0242430\ttotal: 48.9s\tremaining: 11.2s\n",
      "814:\tlearn: 0.0242416\ttotal: 48.9s\tremaining: 11.1s\n",
      "815:\tlearn: 0.0242403\ttotal: 49s\tremaining: 11s\n",
      "816:\tlearn: 0.0242386\ttotal: 49s\tremaining: 11s\n",
      "817:\tlearn: 0.0242370\ttotal: 49.1s\tremaining: 10.9s\n",
      "818:\tlearn: 0.0242352\ttotal: 49.1s\tremaining: 10.9s\n",
      "819:\tlearn: 0.0242338\ttotal: 49.2s\tremaining: 10.8s\n",
      "820:\tlearn: 0.0242311\ttotal: 49.3s\tremaining: 10.7s\n",
      "821:\tlearn: 0.0242303\ttotal: 49.3s\tremaining: 10.7s\n",
      "822:\tlearn: 0.0242285\ttotal: 49.4s\tremaining: 10.6s\n",
      "823:\tlearn: 0.0242263\ttotal: 49.4s\tremaining: 10.6s\n",
      "824:\tlearn: 0.0242252\ttotal: 49.5s\tremaining: 10.5s\n",
      "825:\tlearn: 0.0242228\ttotal: 49.5s\tremaining: 10.4s\n",
      "826:\tlearn: 0.0242213\ttotal: 49.6s\tremaining: 10.4s\n",
      "827:\tlearn: 0.0242190\ttotal: 49.6s\tremaining: 10.3s\n",
      "828:\tlearn: 0.0242178\ttotal: 49.7s\tremaining: 10.3s\n",
      "829:\tlearn: 0.0242160\ttotal: 49.8s\tremaining: 10.2s\n",
      "830:\tlearn: 0.0242138\ttotal: 49.8s\tremaining: 10.1s\n",
      "831:\tlearn: 0.0242125\ttotal: 49.9s\tremaining: 10.1s\n",
      "832:\tlearn: 0.0242107\ttotal: 49.9s\tremaining: 10s\n",
      "833:\tlearn: 0.0242094\ttotal: 50s\tremaining: 9.95s\n",
      "834:\tlearn: 0.0242080\ttotal: 50.1s\tremaining: 9.89s\n",
      "835:\tlearn: 0.0242060\ttotal: 50.1s\tremaining: 9.83s\n",
      "836:\tlearn: 0.0242043\ttotal: 50.2s\tremaining: 9.77s\n",
      "837:\tlearn: 0.0242024\ttotal: 50.2s\tremaining: 9.71s\n",
      "838:\tlearn: 0.0242005\ttotal: 50.3s\tremaining: 9.65s\n",
      "839:\tlearn: 0.0241985\ttotal: 50.3s\tremaining: 9.59s\n",
      "840:\tlearn: 0.0241965\ttotal: 50.4s\tremaining: 9.53s\n",
      "841:\tlearn: 0.0241946\ttotal: 50.4s\tremaining: 9.47s\n",
      "842:\tlearn: 0.0241938\ttotal: 50.5s\tremaining: 9.41s\n",
      "843:\tlearn: 0.0241922\ttotal: 50.6s\tremaining: 9.35s\n",
      "844:\tlearn: 0.0241908\ttotal: 50.6s\tremaining: 9.28s\n",
      "845:\tlearn: 0.0241887\ttotal: 50.7s\tremaining: 9.22s\n",
      "846:\tlearn: 0.0241865\ttotal: 50.7s\tremaining: 9.16s\n",
      "847:\tlearn: 0.0241842\ttotal: 50.8s\tremaining: 9.1s\n",
      "848:\tlearn: 0.0241821\ttotal: 50.8s\tremaining: 9.04s\n",
      "849:\tlearn: 0.0241801\ttotal: 50.9s\tremaining: 8.98s\n",
      "850:\tlearn: 0.0241788\ttotal: 51s\tremaining: 8.92s\n",
      "851:\tlearn: 0.0241782\ttotal: 51s\tremaining: 8.86s\n",
      "852:\tlearn: 0.0241760\ttotal: 51.1s\tremaining: 8.8s\n",
      "853:\tlearn: 0.0241750\ttotal: 51.1s\tremaining: 8.74s\n",
      "854:\tlearn: 0.0241731\ttotal: 51.2s\tremaining: 8.68s\n",
      "855:\tlearn: 0.0241715\ttotal: 51.2s\tremaining: 8.62s\n",
      "856:\tlearn: 0.0241705\ttotal: 51.3s\tremaining: 8.56s\n",
      "857:\tlearn: 0.0241693\ttotal: 51.3s\tremaining: 8.5s\n",
      "858:\tlearn: 0.0241672\ttotal: 51.4s\tremaining: 8.44s\n",
      "859:\tlearn: 0.0241650\ttotal: 51.4s\tremaining: 8.38s\n",
      "860:\tlearn: 0.0241638\ttotal: 51.5s\tremaining: 8.31s\n",
      "861:\tlearn: 0.0241623\ttotal: 51.6s\tremaining: 8.26s\n",
      "862:\tlearn: 0.0241607\ttotal: 51.6s\tremaining: 8.2s\n",
      "863:\tlearn: 0.0241589\ttotal: 51.7s\tremaining: 8.13s\n",
      "864:\tlearn: 0.0241578\ttotal: 51.7s\tremaining: 8.07s\n",
      "865:\tlearn: 0.0241562\ttotal: 51.8s\tremaining: 8.01s\n",
      "866:\tlearn: 0.0241541\ttotal: 51.8s\tremaining: 7.95s\n",
      "867:\tlearn: 0.0241528\ttotal: 51.9s\tremaining: 7.89s\n",
      "868:\tlearn: 0.0241508\ttotal: 52s\tremaining: 7.83s\n",
      "869:\tlearn: 0.0241498\ttotal: 52s\tremaining: 7.77s\n",
      "870:\tlearn: 0.0241482\ttotal: 52.1s\tremaining: 7.71s\n",
      "871:\tlearn: 0.0241459\ttotal: 52.1s\tremaining: 7.65s\n",
      "872:\tlearn: 0.0241448\ttotal: 52.2s\tremaining: 7.59s\n",
      "873:\tlearn: 0.0241430\ttotal: 52.2s\tremaining: 7.53s\n",
      "874:\tlearn: 0.0241420\ttotal: 52.3s\tremaining: 7.47s\n",
      "875:\tlearn: 0.0241401\ttotal: 52.4s\tremaining: 7.41s\n",
      "876:\tlearn: 0.0241388\ttotal: 52.4s\tremaining: 7.35s\n",
      "877:\tlearn: 0.0241372\ttotal: 52.5s\tremaining: 7.29s\n",
      "878:\tlearn: 0.0241354\ttotal: 52.5s\tremaining: 7.23s\n",
      "879:\tlearn: 0.0241342\ttotal: 52.6s\tremaining: 7.17s\n",
      "880:\tlearn: 0.0241331\ttotal: 52.6s\tremaining: 7.11s\n",
      "881:\tlearn: 0.0241313\ttotal: 52.7s\tremaining: 7.05s\n",
      "882:\tlearn: 0.0241283\ttotal: 52.8s\tremaining: 6.99s\n",
      "883:\tlearn: 0.0241272\ttotal: 52.8s\tremaining: 6.93s\n",
      "884:\tlearn: 0.0241261\ttotal: 52.9s\tremaining: 6.87s\n",
      "885:\tlearn: 0.0241231\ttotal: 52.9s\tremaining: 6.81s\n",
      "886:\tlearn: 0.0241211\ttotal: 53s\tremaining: 6.75s\n",
      "887:\tlearn: 0.0241200\ttotal: 53s\tremaining: 6.69s\n",
      "888:\tlearn: 0.0241182\ttotal: 53.1s\tremaining: 6.63s\n",
      "889:\tlearn: 0.0241166\ttotal: 53.1s\tremaining: 6.57s\n",
      "890:\tlearn: 0.0241154\ttotal: 53.2s\tremaining: 6.51s\n",
      "891:\tlearn: 0.0241139\ttotal: 53.3s\tremaining: 6.45s\n",
      "892:\tlearn: 0.0241126\ttotal: 53.3s\tremaining: 6.39s\n",
      "893:\tlearn: 0.0241110\ttotal: 53.4s\tremaining: 6.33s\n",
      "894:\tlearn: 0.0241089\ttotal: 53.4s\tremaining: 6.27s\n",
      "895:\tlearn: 0.0241074\ttotal: 53.5s\tremaining: 6.21s\n",
      "896:\tlearn: 0.0241063\ttotal: 53.5s\tremaining: 6.15s\n",
      "897:\tlearn: 0.0241054\ttotal: 53.6s\tremaining: 6.09s\n",
      "898:\tlearn: 0.0241036\ttotal: 53.7s\tremaining: 6.03s\n",
      "899:\tlearn: 0.0241023\ttotal: 53.7s\tremaining: 5.97s\n",
      "900:\tlearn: 0.0241009\ttotal: 53.8s\tremaining: 5.91s\n",
      "901:\tlearn: 0.0240992\ttotal: 53.8s\tremaining: 5.85s\n",
      "902:\tlearn: 0.0240976\ttotal: 53.9s\tremaining: 5.79s\n",
      "903:\tlearn: 0.0240960\ttotal: 53.9s\tremaining: 5.73s\n",
      "904:\tlearn: 0.0240948\ttotal: 54s\tremaining: 5.67s\n",
      "905:\tlearn: 0.0240932\ttotal: 54.1s\tremaining: 5.61s\n",
      "906:\tlearn: 0.0240919\ttotal: 54.1s\tremaining: 5.55s\n",
      "907:\tlearn: 0.0240903\ttotal: 54.2s\tremaining: 5.49s\n",
      "908:\tlearn: 0.0240893\ttotal: 54.2s\tremaining: 5.43s\n",
      "909:\tlearn: 0.0240874\ttotal: 54.3s\tremaining: 5.37s\n",
      "910:\tlearn: 0.0240862\ttotal: 54.3s\tremaining: 5.31s\n",
      "911:\tlearn: 0.0240849\ttotal: 54.4s\tremaining: 5.25s\n",
      "912:\tlearn: 0.0240836\ttotal: 54.4s\tremaining: 5.19s\n",
      "913:\tlearn: 0.0240824\ttotal: 54.5s\tremaining: 5.13s\n",
      "914:\tlearn: 0.0240806\ttotal: 54.6s\tremaining: 5.07s\n",
      "915:\tlearn: 0.0240783\ttotal: 54.6s\tremaining: 5.01s\n",
      "916:\tlearn: 0.0240771\ttotal: 54.7s\tremaining: 4.95s\n",
      "917:\tlearn: 0.0240752\ttotal: 54.7s\tremaining: 4.89s\n",
      "918:\tlearn: 0.0240739\ttotal: 54.8s\tremaining: 4.83s\n",
      "919:\tlearn: 0.0240720\ttotal: 54.8s\tremaining: 4.77s\n",
      "920:\tlearn: 0.0240709\ttotal: 54.9s\tremaining: 4.71s\n",
      "921:\tlearn: 0.0240695\ttotal: 54.9s\tremaining: 4.65s\n",
      "922:\tlearn: 0.0240678\ttotal: 55s\tremaining: 4.59s\n",
      "923:\tlearn: 0.0240663\ttotal: 55s\tremaining: 4.53s\n",
      "924:\tlearn: 0.0240655\ttotal: 55.1s\tremaining: 4.47s\n",
      "925:\tlearn: 0.0240642\ttotal: 55.2s\tremaining: 4.41s\n",
      "926:\tlearn: 0.0240630\ttotal: 55.2s\tremaining: 4.35s\n",
      "927:\tlearn: 0.0240617\ttotal: 55.3s\tremaining: 4.29s\n",
      "928:\tlearn: 0.0240601\ttotal: 55.3s\tremaining: 4.23s\n",
      "929:\tlearn: 0.0240591\ttotal: 55.4s\tremaining: 4.17s\n",
      "930:\tlearn: 0.0240570\ttotal: 55.4s\tremaining: 4.11s\n",
      "931:\tlearn: 0.0240557\ttotal: 55.5s\tremaining: 4.05s\n",
      "932:\tlearn: 0.0240539\ttotal: 55.6s\tremaining: 3.99s\n",
      "933:\tlearn: 0.0240528\ttotal: 55.6s\tremaining: 3.93s\n",
      "934:\tlearn: 0.0240509\ttotal: 55.7s\tremaining: 3.87s\n",
      "935:\tlearn: 0.0240491\ttotal: 55.7s\tremaining: 3.81s\n",
      "936:\tlearn: 0.0240475\ttotal: 55.8s\tremaining: 3.75s\n",
      "937:\tlearn: 0.0240464\ttotal: 55.9s\tremaining: 3.69s\n",
      "938:\tlearn: 0.0240449\ttotal: 55.9s\tremaining: 3.63s\n",
      "939:\tlearn: 0.0240435\ttotal: 56s\tremaining: 3.57s\n",
      "940:\tlearn: 0.0240420\ttotal: 56s\tremaining: 3.51s\n",
      "941:\tlearn: 0.0240405\ttotal: 56.1s\tremaining: 3.45s\n",
      "942:\tlearn: 0.0240395\ttotal: 56.1s\tremaining: 3.39s\n",
      "943:\tlearn: 0.0240378\ttotal: 56.2s\tremaining: 3.33s\n",
      "944:\tlearn: 0.0240366\ttotal: 56.2s\tremaining: 3.27s\n",
      "945:\tlearn: 0.0240355\ttotal: 56.3s\tremaining: 3.21s\n",
      "946:\tlearn: 0.0240343\ttotal: 56.4s\tremaining: 3.15s\n",
      "947:\tlearn: 0.0240322\ttotal: 56.4s\tremaining: 3.09s\n",
      "948:\tlearn: 0.0240311\ttotal: 56.5s\tremaining: 3.03s\n",
      "949:\tlearn: 0.0240301\ttotal: 56.5s\tremaining: 2.97s\n",
      "950:\tlearn: 0.0240282\ttotal: 56.6s\tremaining: 2.92s\n",
      "951:\tlearn: 0.0240266\ttotal: 56.6s\tremaining: 2.85s\n",
      "952:\tlearn: 0.0240248\ttotal: 56.7s\tremaining: 2.79s\n",
      "953:\tlearn: 0.0240237\ttotal: 56.7s\tremaining: 2.74s\n",
      "954:\tlearn: 0.0240220\ttotal: 56.8s\tremaining: 2.68s\n",
      "955:\tlearn: 0.0240206\ttotal: 56.9s\tremaining: 2.62s\n",
      "956:\tlearn: 0.0240195\ttotal: 56.9s\tremaining: 2.56s\n",
      "957:\tlearn: 0.0240179\ttotal: 57s\tremaining: 2.5s\n",
      "958:\tlearn: 0.0240163\ttotal: 57s\tremaining: 2.44s\n",
      "959:\tlearn: 0.0240149\ttotal: 57.1s\tremaining: 2.38s\n",
      "960:\tlearn: 0.0240134\ttotal: 57.1s\tremaining: 2.32s\n",
      "961:\tlearn: 0.0240120\ttotal: 57.2s\tremaining: 2.26s\n",
      "962:\tlearn: 0.0240106\ttotal: 57.3s\tremaining: 2.2s\n",
      "963:\tlearn: 0.0240086\ttotal: 57.3s\tremaining: 2.14s\n",
      "964:\tlearn: 0.0240074\ttotal: 57.4s\tremaining: 2.08s\n",
      "965:\tlearn: 0.0240063\ttotal: 57.4s\tremaining: 2.02s\n",
      "966:\tlearn: 0.0240048\ttotal: 57.5s\tremaining: 1.96s\n",
      "967:\tlearn: 0.0240035\ttotal: 57.5s\tremaining: 1.9s\n",
      "968:\tlearn: 0.0240023\ttotal: 57.6s\tremaining: 1.84s\n",
      "969:\tlearn: 0.0240005\ttotal: 57.7s\tremaining: 1.78s\n",
      "970:\tlearn: 0.0239990\ttotal: 57.7s\tremaining: 1.72s\n",
      "971:\tlearn: 0.0239980\ttotal: 57.8s\tremaining: 1.66s\n",
      "972:\tlearn: 0.0239963\ttotal: 57.8s\tremaining: 1.6s\n",
      "973:\tlearn: 0.0239946\ttotal: 57.9s\tremaining: 1.54s\n",
      "974:\tlearn: 0.0239936\ttotal: 58s\tremaining: 1.49s\n",
      "975:\tlearn: 0.0239922\ttotal: 58s\tremaining: 1.43s\n",
      "976:\tlearn: 0.0239912\ttotal: 58.1s\tremaining: 1.37s\n",
      "977:\tlearn: 0.0239899\ttotal: 58.1s\tremaining: 1.31s\n",
      "978:\tlearn: 0.0239886\ttotal: 58.2s\tremaining: 1.25s\n",
      "979:\tlearn: 0.0239877\ttotal: 58.2s\tremaining: 1.19s\n",
      "980:\tlearn: 0.0239863\ttotal: 58.3s\tremaining: 1.13s\n",
      "981:\tlearn: 0.0239845\ttotal: 58.4s\tremaining: 1.07s\n",
      "982:\tlearn: 0.0239836\ttotal: 58.4s\tremaining: 1.01s\n",
      "983:\tlearn: 0.0239822\ttotal: 58.5s\tremaining: 951ms\n",
      "984:\tlearn: 0.0239806\ttotal: 58.5s\tremaining: 891ms\n",
      "985:\tlearn: 0.0239791\ttotal: 58.6s\tremaining: 832ms\n",
      "986:\tlearn: 0.0239769\ttotal: 58.6s\tremaining: 772ms\n",
      "987:\tlearn: 0.0239748\ttotal: 58.7s\tremaining: 713ms\n",
      "988:\tlearn: 0.0239740\ttotal: 58.8s\tremaining: 653ms\n",
      "989:\tlearn: 0.0239726\ttotal: 58.8s\tremaining: 594ms\n",
      "990:\tlearn: 0.0239710\ttotal: 58.9s\tremaining: 535ms\n",
      "991:\tlearn: 0.0239699\ttotal: 58.9s\tremaining: 475ms\n",
      "992:\tlearn: 0.0239685\ttotal: 59s\tremaining: 416ms\n",
      "993:\tlearn: 0.0239674\ttotal: 59s\tremaining: 356ms\n",
      "994:\tlearn: 0.0239663\ttotal: 59.1s\tremaining: 297ms\n",
      "995:\tlearn: 0.0239651\ttotal: 59.1s\tremaining: 238ms\n",
      "996:\tlearn: 0.0239636\ttotal: 59.2s\tremaining: 178ms\n",
      "997:\tlearn: 0.0239622\ttotal: 59.3s\tremaining: 119ms\n",
      "998:\tlearn: 0.0239607\ttotal: 59.3s\tremaining: 59.4ms\n",
      "999:\tlearn: 0.0239596\ttotal: 59.4s\tremaining: 0us\n",
      "Training accuracy: 52.52755730979517 %\n",
      "Validation accuracy: 52.72539269591838 %\n",
      "CatBoost Model Mean Absolute Percent Error: 0.023800581589449952\n"
     ]
    }
   ],
   "source": [
    "from catboost import CatBoostRegressor, cv\n",
    "\n",
    "cat_model = CatBoostRegressor(loss_function='MAPE')\n",
    "cat_model.fit(X_train, y_train)\n",
    "cat_pred = cat_model.predict(X_val)\n",
    "\n",
    "cat_train_acc = (cat_model.score(X_train, y_train))*100\n",
    "cat_val_acc = (cat_model.score(X_val, y_val))*100\n",
    "mape_cat = mean_absolute_percentage_error(y_val, cat_pred)\n",
    "\n",
    "print(f\"Training accuracy: {cat_train_acc} %\")\n",
    "print(f\"Validation accuracy: {cat_val_acc} %\")\n",
    "print(f\"CatBoost Model Mean Absolute Percent Error: {mape_cat}\")"
   ]
  },
  {
   "cell_type": "markdown",
   "metadata": {},
   "source": [
    "**Cross-Validation on CatBoost**"
   ]
  },
  {
   "cell_type": "code",
   "execution_count": 134,
   "metadata": {},
   "outputs": [],
   "source": [
    "#CATBOOST_PARAMS = {\n",
    "#    'random_seed':47,\n",
    "#    'learning_rate':0.4,\n",
    "#    'iterations':1000,\n",
    "#    'max_depth':12,\n",
    "#    'early_stopping_rounds':10,\n",
    "#    'min_data_in_leaf':12}"
   ]
  },
  {
   "cell_type": "code",
   "execution_count": 135,
   "metadata": {},
   "outputs": [],
   "source": [
    "# from catboost import CatBoostRegressor\n",
    "# cb_model = CatBoostRegressor(**CATBOOST_PARAMS)\n",
    "\n",
    "# cb_model.fit(X_train, y_train)\n",
    "# cb_pred = cb_model.predict(X_val)\n",
    "\n",
    "# cb_train_acc = (cb_model.score(X_train, y_train))*100\n",
    "# cb_val_acc = (cb_model.score(X_val, y_val))*100\n",
    "# mape_cb = mean_absolute_percentage_error(y_val, cb_pred)\n",
    "\n",
    "# print(f\"Training accuracy: {cb_train_acc} %\")\n",
    "# print(f\"Validation accuracy: {cb_val_acc} %\")\n",
    "# print(f\"CatBoost Model Mean Absolute Percent Error: {mape_cb}\")\n"
   ]
  },
  {
   "cell_type": "code",
   "execution_count": 136,
   "metadata": {},
   "outputs": [
    {
     "name": "stdout",
     "output_type": "stream",
     "text": [
      "                   Feature Id  Importances\n",
      "0                nacelle_temp    27.624453\n",
      "1         ambient_temperature    23.518542\n",
      "2  generator_winding_temp_max    18.476639\n",
      "3             nc1_inside_temp    16.659043\n",
      "4     grid_power10min_average     7.197500\n",
      "5          wind_direction_raw     5.187113\n",
      "6       wind_speed_turbulence     0.728082\n",
      "7             generator_speed     0.313086\n",
      "8              wind_speed_raw     0.295542\n"
     ]
    }
   ],
   "source": [
    "print(cat_model.get_feature_importance(prettified=True))\n"
   ]
  },
  {
   "cell_type": "code",
   "execution_count": 137,
   "metadata": {},
   "outputs": [],
   "source": [
    "# from sklearn.model_selection import RandomizedSearchCV\n",
    "# cat_model = CatBoostRegressor(loss_function='MAPE')\n",
    "\n",
    "# grid = {'depth':[3,1,2,6,4,5,7,8,9,10],\n",
    "#           'iterations':[250,100,500,1000],\n",
    "#           'learning_rate':[0.03,0.001,0.01,0.1,0.2,0.3],\n",
    "#           'max_depth':[0,2,4,6,8,10,12,14,16],\n",
    "#           'l2_leaf_reg':[3,1,5,10,100],\n",
    "#           'border_count':[32,5,10,20,50,100,200],\n",
    "#           'min_data_in_leaf':[1,2,3,4,5,6,7,8,9,10]}\n",
    "\n",
    "# randomized_search_result = cat_model.randomized_search(grid,\n",
    "#             X,\n",
    "#             y,\n",
    "#             cv=5,\n",
    "#             partition_random_seed=42,\n",
    "#             search_by_train_test_split=True,\n",
    "#             refit=True,\n",
    "#             shuffle=True,\n",
    "#             stratified=None,\n",
    "#             train_size=0.8,\n",
    "#             verbose=0,\n",
    "#             plot=False)\n",
    "\n",
    "# cat_model.fit(X_train, y_train)\n",
    "# cat_pred = cat_model.predict(X_val)\n",
    "\n",
    "# cat_train_acc = (cat_model.score(X_train, y_train))*100\n",
    "# cat_val_acc = (cat_model.score(X_val, y_val))*100\n",
    "# mape_cat = mean_absolute_percentage_error(y_val, cat_pred)\n",
    "\n",
    "# print(f\"Training accuracy: {cat_train_acc} %\")\n",
    "# print(f\"Validation accuracy: {cat_val_acc} %\")\n",
    "# print(f\"CatBoost Model Mean Absolute Percent Error: {mape_cat}\")"
   ]
  },
  {
   "cell_type": "code",
   "execution_count": 139,
   "metadata": {},
   "outputs": [
    {
     "name": "stdout",
     "output_type": "stream",
     "text": [
      "{'learn': {'MAPE': 0.023959609602862832}}\n"
     ]
    }
   ],
   "source": [
    "print(cat_model.get_best_score())"
   ]
  },
  {
   "cell_type": "code",
   "execution_count": 144,
   "metadata": {},
   "outputs": [],
   "source": [
    "def objective(trial):\n",
    "    X_train, X_val, y_train, y_val = train_test_split(X, y, test_size=0.3)\n",
    "    param = {\n",
    "        \"loss_function\": trial.suggest_categorical(\"loss_function\", [\"RMSE\", \"MAE\", \"MAPE\"]),\n",
    "        \"learning_rate\": trial.suggest_loguniform(\"learning_rate\", 1e-5, 1e0),\n",
    "        \"l2_leaf_reg\": trial.suggest_loguniform(\"l2_leaf_reg\", 1e-2, 1e0),\n",
    "        \"colsample_bylevel\": trial.suggest_float(\"colsample_bylevel\", 0.01, 0.1),\n",
    "        \"depth\": trial.suggest_int(\"depth\", 1, 10),\n",
    "        \"boosting_type\": trial.suggest_categorical(\"boosting_type\", [\"Ordered\", \"Plain\"]),\n",
    "        \"bootstrap_type\": trial.suggest_categorical(\"bootstrap_type\", [\"Bayesian\", \"Bernoulli\", \"MVS\"]),\n",
    "        \"min_data_in_leaf\": trial.suggest_int(\"min_data_in_leaf\", 2, 20),\n",
    "        \"one_hot_max_size\": trial.suggest_int(\"one_hot_max_size\", 2, 20),  \n",
    "    }\n",
    "    # Conditional Hyper-Parameters\n",
    "    if param[\"bootstrap_type\"] == \"Bayesian\":\n",
    "        param[\"bagging_temperature\"] = trial.suggest_float(\"bagging_temperature\", 0, 10)\n",
    "    elif param[\"bootstrap_type\"] == \"Bernoulli\":\n",
    "        param[\"subsample\"] = trial.suggest_float(\"subsample\", 0.1, 1)\n",
    "\n",
    "    cb_reg = CatBoostRegressor(**param)\n",
    "    cb_reg.fit(X_train, y_train, eval_set=[(X_val, y_val)], verbose=0, early_stopping_rounds=100)\n",
    "    cb_pred = cb_reg.predict(X_val)\n",
    "    mape_score = mean_absolute_percentage_error(y_val, cb_pred)\n",
    "    return mape_score"
   ]
  },
  {
   "cell_type": "code",
   "execution_count": 147,
   "metadata": {},
   "outputs": [
    {
     "name": "stderr",
     "output_type": "stream",
     "text": [
      "\u001b[32m[I 2022-09-08 17:32:55,357]\u001b[0m A new study created in memory with name: no-name-7cd265dd-38a9-48c8-b283-89d7da3c3eb8\u001b[0m\n",
      "\u001b[32m[I 2022-09-08 17:33:16,783]\u001b[0m Trial 0 finished with value: 0.027261383015881897 and parameters: {'loss_function': 'RMSE', 'learning_rate': 0.09156840173113963, 'l2_leaf_reg': 0.13578461184482418, 'colsample_bylevel': 0.08342348769959038, 'depth': 8, 'boosting_type': 'Ordered', 'bootstrap_type': 'Bayesian', 'min_data_in_leaf': 13, 'one_hot_max_size': 14, 'bagging_temperature': 5.410133926510752}. Best is trial 0 with value: 0.027261383015881897.\u001b[0m\n",
      "\u001b[32m[I 2022-09-08 17:34:09,314]\u001b[0m Trial 1 finished with value: 0.034902986504257646 and parameters: {'loss_function': 'MAE', 'learning_rate': 0.006921090075391283, 'l2_leaf_reg': 0.03164275278640322, 'colsample_bylevel': 0.05296716663487475, 'depth': 3, 'boosting_type': 'Ordered', 'bootstrap_type': 'MVS', 'min_data_in_leaf': 18, 'one_hot_max_size': 11}. Best is trial 1 with value: 0.034902986504257646.\u001b[0m\n",
      "\u001b[32m[I 2022-09-08 17:34:19,177]\u001b[0m Trial 2 finished with value: 0.04110652959597213 and parameters: {'loss_function': 'RMSE', 'learning_rate': 0.00019543651550159053, 'l2_leaf_reg': 0.018257031210398362, 'colsample_bylevel': 0.016341393917703013, 'depth': 6, 'boosting_type': 'Plain', 'bootstrap_type': 'Bernoulli', 'min_data_in_leaf': 8, 'one_hot_max_size': 19, 'subsample': 0.6835607912548489}. Best is trial 2 with value: 0.04110652959597213.\u001b[0m\n",
      "\u001b[32m[I 2022-09-08 17:35:08,553]\u001b[0m Trial 3 finished with value: 0.0328440288539531 and parameters: {'loss_function': 'MAE', 'learning_rate': 0.022660304105119326, 'l2_leaf_reg': 0.0669144764410555, 'colsample_bylevel': 0.03158732130564088, 'depth': 6, 'boosting_type': 'Ordered', 'bootstrap_type': 'Bernoulli', 'min_data_in_leaf': 7, 'one_hot_max_size': 18, 'subsample': 0.3704264457210399}. Best is trial 2 with value: 0.04110652959597213.\u001b[0m\n",
      "\u001b[32m[I 2022-09-08 17:35:51,604]\u001b[0m Trial 4 finished with value: 0.04083355514449193 and parameters: {'loss_function': 'MAE', 'learning_rate': 6.133746965150044e-05, 'l2_leaf_reg': 0.29781042524247964, 'colsample_bylevel': 0.04380323935419051, 'depth': 10, 'boosting_type': 'Plain', 'bootstrap_type': 'Bernoulli', 'min_data_in_leaf': 19, 'one_hot_max_size': 12, 'subsample': 0.9166896072657812}. Best is trial 2 with value: 0.04110652959597213.\u001b[0m\n",
      "\u001b[32m[I 2022-09-08 17:36:10,001]\u001b[0m Trial 5 finished with value: 0.027605203391579243 and parameters: {'loss_function': 'RMSE', 'learning_rate': 0.15461225481094895, 'l2_leaf_reg': 0.21549685432414648, 'colsample_bylevel': 0.04906257007550002, 'depth': 10, 'boosting_type': 'Ordered', 'bootstrap_type': 'Bernoulli', 'min_data_in_leaf': 17, 'one_hot_max_size': 14, 'subsample': 0.7801892358563377}. Best is trial 2 with value: 0.04110652959597213.\u001b[0m\n",
      "\u001b[32m[I 2022-09-08 17:36:29,984]\u001b[0m Trial 6 finished with value: 0.028841221743327983 and parameters: {'loss_function': 'RMSE', 'learning_rate': 0.10397158243535537, 'l2_leaf_reg': 0.20595600093135313, 'colsample_bylevel': 0.04034659881583434, 'depth': 5, 'boosting_type': 'Ordered', 'bootstrap_type': 'MVS', 'min_data_in_leaf': 2, 'one_hot_max_size': 8}. Best is trial 2 with value: 0.04110652959597213.\u001b[0m\n",
      "\u001b[32m[I 2022-09-08 17:37:04,593]\u001b[0m Trial 7 finished with value: 0.030154088830033184 and parameters: {'loss_function': 'MAPE', 'learning_rate': 0.08462066713950041, 'l2_leaf_reg': 0.02852988627501496, 'colsample_bylevel': 0.07959670082842323, 'depth': 1, 'boosting_type': 'Plain', 'bootstrap_type': 'Bernoulli', 'min_data_in_leaf': 9, 'one_hot_max_size': 17, 'subsample': 0.8810287915399876}. Best is trial 2 with value: 0.04110652959597213.\u001b[0m\n",
      "\u001b[32m[I 2022-09-08 17:37:25,129]\u001b[0m Trial 8 finished with value: 0.028306702217177845 and parameters: {'loss_function': 'RMSE', 'learning_rate': 0.15492090243348272, 'l2_leaf_reg': 0.5142230746493737, 'colsample_bylevel': 0.054458142787017695, 'depth': 2, 'boosting_type': 'Ordered', 'bootstrap_type': 'Bayesian', 'min_data_in_leaf': 2, 'one_hot_max_size': 18, 'bagging_temperature': 4.235142286387048}. Best is trial 2 with value: 0.04110652959597213.\u001b[0m\n",
      "\u001b[32m[I 2022-09-08 17:37:45,386]\u001b[0m Trial 9 finished with value: 0.03677109761879156 and parameters: {'loss_function': 'RMSE', 'learning_rate': 0.0014887183787336406, 'l2_leaf_reg': 0.1402643107139038, 'colsample_bylevel': 0.09960014208504799, 'depth': 8, 'boosting_type': 'Ordered', 'bootstrap_type': 'Bernoulli', 'min_data_in_leaf': 20, 'one_hot_max_size': 3, 'subsample': 0.7080701888894905}. Best is trial 2 with value: 0.04110652959597213.\u001b[0m\n"
     ]
    },
    {
     "name": "stdout",
     "output_type": "stream",
     "text": [
      "Number of completed trials: 10\n",
      "Best trial:\n",
      "\tBest Score: 0.04110652959597213\n",
      "\tBest Params: \n",
      "    loss_function: RMSE\n",
      "    learning_rate: 0.00019543651550159053\n",
      "    l2_leaf_reg: 0.018257031210398362\n",
      "    colsample_bylevel: 0.016341393917703013\n",
      "    depth: 6\n",
      "    boosting_type: Plain\n",
      "    bootstrap_type: Bernoulli\n",
      "    min_data_in_leaf: 8\n",
      "    one_hot_max_size: 19\n",
      "    subsample: 0.6835607912548489\n"
     ]
    },
    {
     "data": {
      "application/vnd.plotly.v1+json": {
       "config": {
        "plotlyServerURL": "https://plot.ly"
       },
       "data": [
        {
         "cliponaxis": false,
         "hovertemplate": [
          "one_hot_max_size (IntUniformDistribution): 0.02377115472168062<extra></extra>",
          "depth (IntUniformDistribution): 0.03029278196991723<extra></extra>",
          "l2_leaf_reg (LogUniformDistribution): 0.04161279153335483<extra></extra>",
          "min_data_in_leaf (IntUniformDistribution): 0.04605710343871633<extra></extra>",
          "boosting_type (CategoricalDistribution): 0.04835123736036902<extra></extra>",
          "bootstrap_type (CategoricalDistribution): 0.05989916799915597<extra></extra>",
          "colsample_bylevel (UniformDistribution): 0.12670777002015535<extra></extra>",
          "loss_function (CategoricalDistribution): 0.1513859062639636<extra></extra>",
          "learning_rate (LogUniformDistribution): 0.47192208669268715<extra></extra>"
         ],
         "marker": {
          "color": "rgb(66,146,198)"
         },
         "orientation": "h",
         "text": [
          "0.02377115472168062",
          "0.03029278196991723",
          "0.04161279153335483",
          "0.04605710343871633",
          "0.04835123736036902",
          "0.05989916799915597",
          "0.12670777002015535",
          "0.1513859062639636",
          "0.47192208669268715"
         ],
         "textposition": "outside",
         "texttemplate": "%{text:.2f}",
         "type": "bar",
         "x": [
          0.02377115472168062,
          0.03029278196991723,
          0.04161279153335483,
          0.04605710343871633,
          0.04835123736036902,
          0.05989916799915597,
          0.12670777002015535,
          0.1513859062639636,
          0.47192208669268715
         ],
         "y": [
          "one_hot_max_size",
          "depth",
          "l2_leaf_reg",
          "min_data_in_leaf",
          "boosting_type",
          "bootstrap_type",
          "colsample_bylevel",
          "loss_function",
          "learning_rate"
         ]
        }
       ],
       "layout": {
        "showlegend": false,
        "template": {
         "data": {
          "bar": [
           {
            "error_x": {
             "color": "#2a3f5f"
            },
            "error_y": {
             "color": "#2a3f5f"
            },
            "marker": {
             "line": {
              "color": "#E5ECF6",
              "width": 0.5
             },
             "pattern": {
              "fillmode": "overlay",
              "size": 10,
              "solidity": 0.2
             }
            },
            "type": "bar"
           }
          ],
          "barpolar": [
           {
            "marker": {
             "line": {
              "color": "#E5ECF6",
              "width": 0.5
             },
             "pattern": {
              "fillmode": "overlay",
              "size": 10,
              "solidity": 0.2
             }
            },
            "type": "barpolar"
           }
          ],
          "carpet": [
           {
            "aaxis": {
             "endlinecolor": "#2a3f5f",
             "gridcolor": "white",
             "linecolor": "white",
             "minorgridcolor": "white",
             "startlinecolor": "#2a3f5f"
            },
            "baxis": {
             "endlinecolor": "#2a3f5f",
             "gridcolor": "white",
             "linecolor": "white",
             "minorgridcolor": "white",
             "startlinecolor": "#2a3f5f"
            },
            "type": "carpet"
           }
          ],
          "choropleth": [
           {
            "colorbar": {
             "outlinewidth": 0,
             "ticks": ""
            },
            "type": "choropleth"
           }
          ],
          "contour": [
           {
            "colorbar": {
             "outlinewidth": 0,
             "ticks": ""
            },
            "colorscale": [
             [
              0,
              "#0d0887"
             ],
             [
              0.1111111111111111,
              "#46039f"
             ],
             [
              0.2222222222222222,
              "#7201a8"
             ],
             [
              0.3333333333333333,
              "#9c179e"
             ],
             [
              0.4444444444444444,
              "#bd3786"
             ],
             [
              0.5555555555555556,
              "#d8576b"
             ],
             [
              0.6666666666666666,
              "#ed7953"
             ],
             [
              0.7777777777777778,
              "#fb9f3a"
             ],
             [
              0.8888888888888888,
              "#fdca26"
             ],
             [
              1,
              "#f0f921"
             ]
            ],
            "type": "contour"
           }
          ],
          "contourcarpet": [
           {
            "colorbar": {
             "outlinewidth": 0,
             "ticks": ""
            },
            "type": "contourcarpet"
           }
          ],
          "heatmap": [
           {
            "colorbar": {
             "outlinewidth": 0,
             "ticks": ""
            },
            "colorscale": [
             [
              0,
              "#0d0887"
             ],
             [
              0.1111111111111111,
              "#46039f"
             ],
             [
              0.2222222222222222,
              "#7201a8"
             ],
             [
              0.3333333333333333,
              "#9c179e"
             ],
             [
              0.4444444444444444,
              "#bd3786"
             ],
             [
              0.5555555555555556,
              "#d8576b"
             ],
             [
              0.6666666666666666,
              "#ed7953"
             ],
             [
              0.7777777777777778,
              "#fb9f3a"
             ],
             [
              0.8888888888888888,
              "#fdca26"
             ],
             [
              1,
              "#f0f921"
             ]
            ],
            "type": "heatmap"
           }
          ],
          "heatmapgl": [
           {
            "colorbar": {
             "outlinewidth": 0,
             "ticks": ""
            },
            "colorscale": [
             [
              0,
              "#0d0887"
             ],
             [
              0.1111111111111111,
              "#46039f"
             ],
             [
              0.2222222222222222,
              "#7201a8"
             ],
             [
              0.3333333333333333,
              "#9c179e"
             ],
             [
              0.4444444444444444,
              "#bd3786"
             ],
             [
              0.5555555555555556,
              "#d8576b"
             ],
             [
              0.6666666666666666,
              "#ed7953"
             ],
             [
              0.7777777777777778,
              "#fb9f3a"
             ],
             [
              0.8888888888888888,
              "#fdca26"
             ],
             [
              1,
              "#f0f921"
             ]
            ],
            "type": "heatmapgl"
           }
          ],
          "histogram": [
           {
            "marker": {
             "pattern": {
              "fillmode": "overlay",
              "size": 10,
              "solidity": 0.2
             }
            },
            "type": "histogram"
           }
          ],
          "histogram2d": [
           {
            "colorbar": {
             "outlinewidth": 0,
             "ticks": ""
            },
            "colorscale": [
             [
              0,
              "#0d0887"
             ],
             [
              0.1111111111111111,
              "#46039f"
             ],
             [
              0.2222222222222222,
              "#7201a8"
             ],
             [
              0.3333333333333333,
              "#9c179e"
             ],
             [
              0.4444444444444444,
              "#bd3786"
             ],
             [
              0.5555555555555556,
              "#d8576b"
             ],
             [
              0.6666666666666666,
              "#ed7953"
             ],
             [
              0.7777777777777778,
              "#fb9f3a"
             ],
             [
              0.8888888888888888,
              "#fdca26"
             ],
             [
              1,
              "#f0f921"
             ]
            ],
            "type": "histogram2d"
           }
          ],
          "histogram2dcontour": [
           {
            "colorbar": {
             "outlinewidth": 0,
             "ticks": ""
            },
            "colorscale": [
             [
              0,
              "#0d0887"
             ],
             [
              0.1111111111111111,
              "#46039f"
             ],
             [
              0.2222222222222222,
              "#7201a8"
             ],
             [
              0.3333333333333333,
              "#9c179e"
             ],
             [
              0.4444444444444444,
              "#bd3786"
             ],
             [
              0.5555555555555556,
              "#d8576b"
             ],
             [
              0.6666666666666666,
              "#ed7953"
             ],
             [
              0.7777777777777778,
              "#fb9f3a"
             ],
             [
              0.8888888888888888,
              "#fdca26"
             ],
             [
              1,
              "#f0f921"
             ]
            ],
            "type": "histogram2dcontour"
           }
          ],
          "mesh3d": [
           {
            "colorbar": {
             "outlinewidth": 0,
             "ticks": ""
            },
            "type": "mesh3d"
           }
          ],
          "parcoords": [
           {
            "line": {
             "colorbar": {
              "outlinewidth": 0,
              "ticks": ""
             }
            },
            "type": "parcoords"
           }
          ],
          "pie": [
           {
            "automargin": true,
            "type": "pie"
           }
          ],
          "scatter": [
           {
            "fillpattern": {
             "fillmode": "overlay",
             "size": 10,
             "solidity": 0.2
            },
            "type": "scatter"
           }
          ],
          "scatter3d": [
           {
            "line": {
             "colorbar": {
              "outlinewidth": 0,
              "ticks": ""
             }
            },
            "marker": {
             "colorbar": {
              "outlinewidth": 0,
              "ticks": ""
             }
            },
            "type": "scatter3d"
           }
          ],
          "scattercarpet": [
           {
            "marker": {
             "colorbar": {
              "outlinewidth": 0,
              "ticks": ""
             }
            },
            "type": "scattercarpet"
           }
          ],
          "scattergeo": [
           {
            "marker": {
             "colorbar": {
              "outlinewidth": 0,
              "ticks": ""
             }
            },
            "type": "scattergeo"
           }
          ],
          "scattergl": [
           {
            "marker": {
             "colorbar": {
              "outlinewidth": 0,
              "ticks": ""
             }
            },
            "type": "scattergl"
           }
          ],
          "scattermapbox": [
           {
            "marker": {
             "colorbar": {
              "outlinewidth": 0,
              "ticks": ""
             }
            },
            "type": "scattermapbox"
           }
          ],
          "scatterpolar": [
           {
            "marker": {
             "colorbar": {
              "outlinewidth": 0,
              "ticks": ""
             }
            },
            "type": "scatterpolar"
           }
          ],
          "scatterpolargl": [
           {
            "marker": {
             "colorbar": {
              "outlinewidth": 0,
              "ticks": ""
             }
            },
            "type": "scatterpolargl"
           }
          ],
          "scatterternary": [
           {
            "marker": {
             "colorbar": {
              "outlinewidth": 0,
              "ticks": ""
             }
            },
            "type": "scatterternary"
           }
          ],
          "surface": [
           {
            "colorbar": {
             "outlinewidth": 0,
             "ticks": ""
            },
            "colorscale": [
             [
              0,
              "#0d0887"
             ],
             [
              0.1111111111111111,
              "#46039f"
             ],
             [
              0.2222222222222222,
              "#7201a8"
             ],
             [
              0.3333333333333333,
              "#9c179e"
             ],
             [
              0.4444444444444444,
              "#bd3786"
             ],
             [
              0.5555555555555556,
              "#d8576b"
             ],
             [
              0.6666666666666666,
              "#ed7953"
             ],
             [
              0.7777777777777778,
              "#fb9f3a"
             ],
             [
              0.8888888888888888,
              "#fdca26"
             ],
             [
              1,
              "#f0f921"
             ]
            ],
            "type": "surface"
           }
          ],
          "table": [
           {
            "cells": {
             "fill": {
              "color": "#EBF0F8"
             },
             "line": {
              "color": "white"
             }
            },
            "header": {
             "fill": {
              "color": "#C8D4E3"
             },
             "line": {
              "color": "white"
             }
            },
            "type": "table"
           }
          ]
         },
         "layout": {
          "annotationdefaults": {
           "arrowcolor": "#2a3f5f",
           "arrowhead": 0,
           "arrowwidth": 1
          },
          "autotypenumbers": "strict",
          "coloraxis": {
           "colorbar": {
            "outlinewidth": 0,
            "ticks": ""
           }
          },
          "colorscale": {
           "diverging": [
            [
             0,
             "#8e0152"
            ],
            [
             0.1,
             "#c51b7d"
            ],
            [
             0.2,
             "#de77ae"
            ],
            [
             0.3,
             "#f1b6da"
            ],
            [
             0.4,
             "#fde0ef"
            ],
            [
             0.5,
             "#f7f7f7"
            ],
            [
             0.6,
             "#e6f5d0"
            ],
            [
             0.7,
             "#b8e186"
            ],
            [
             0.8,
             "#7fbc41"
            ],
            [
             0.9,
             "#4d9221"
            ],
            [
             1,
             "#276419"
            ]
           ],
           "sequential": [
            [
             0,
             "#0d0887"
            ],
            [
             0.1111111111111111,
             "#46039f"
            ],
            [
             0.2222222222222222,
             "#7201a8"
            ],
            [
             0.3333333333333333,
             "#9c179e"
            ],
            [
             0.4444444444444444,
             "#bd3786"
            ],
            [
             0.5555555555555556,
             "#d8576b"
            ],
            [
             0.6666666666666666,
             "#ed7953"
            ],
            [
             0.7777777777777778,
             "#fb9f3a"
            ],
            [
             0.8888888888888888,
             "#fdca26"
            ],
            [
             1,
             "#f0f921"
            ]
           ],
           "sequentialminus": [
            [
             0,
             "#0d0887"
            ],
            [
             0.1111111111111111,
             "#46039f"
            ],
            [
             0.2222222222222222,
             "#7201a8"
            ],
            [
             0.3333333333333333,
             "#9c179e"
            ],
            [
             0.4444444444444444,
             "#bd3786"
            ],
            [
             0.5555555555555556,
             "#d8576b"
            ],
            [
             0.6666666666666666,
             "#ed7953"
            ],
            [
             0.7777777777777778,
             "#fb9f3a"
            ],
            [
             0.8888888888888888,
             "#fdca26"
            ],
            [
             1,
             "#f0f921"
            ]
           ]
          },
          "colorway": [
           "#636efa",
           "#EF553B",
           "#00cc96",
           "#ab63fa",
           "#FFA15A",
           "#19d3f3",
           "#FF6692",
           "#B6E880",
           "#FF97FF",
           "#FECB52"
          ],
          "font": {
           "color": "#2a3f5f"
          },
          "geo": {
           "bgcolor": "white",
           "lakecolor": "white",
           "landcolor": "#E5ECF6",
           "showlakes": true,
           "showland": true,
           "subunitcolor": "white"
          },
          "hoverlabel": {
           "align": "left"
          },
          "hovermode": "closest",
          "mapbox": {
           "style": "light"
          },
          "paper_bgcolor": "white",
          "plot_bgcolor": "#E5ECF6",
          "polar": {
           "angularaxis": {
            "gridcolor": "white",
            "linecolor": "white",
            "ticks": ""
           },
           "bgcolor": "#E5ECF6",
           "radialaxis": {
            "gridcolor": "white",
            "linecolor": "white",
            "ticks": ""
           }
          },
          "scene": {
           "xaxis": {
            "backgroundcolor": "#E5ECF6",
            "gridcolor": "white",
            "gridwidth": 2,
            "linecolor": "white",
            "showbackground": true,
            "ticks": "",
            "zerolinecolor": "white"
           },
           "yaxis": {
            "backgroundcolor": "#E5ECF6",
            "gridcolor": "white",
            "gridwidth": 2,
            "linecolor": "white",
            "showbackground": true,
            "ticks": "",
            "zerolinecolor": "white"
           },
           "zaxis": {
            "backgroundcolor": "#E5ECF6",
            "gridcolor": "white",
            "gridwidth": 2,
            "linecolor": "white",
            "showbackground": true,
            "ticks": "",
            "zerolinecolor": "white"
           }
          },
          "shapedefaults": {
           "line": {
            "color": "#2a3f5f"
           }
          },
          "ternary": {
           "aaxis": {
            "gridcolor": "white",
            "linecolor": "white",
            "ticks": ""
           },
           "baxis": {
            "gridcolor": "white",
            "linecolor": "white",
            "ticks": ""
           },
           "bgcolor": "#E5ECF6",
           "caxis": {
            "gridcolor": "white",
            "linecolor": "white",
            "ticks": ""
           }
          },
          "title": {
           "x": 0.05
          },
          "xaxis": {
           "automargin": true,
           "gridcolor": "white",
           "linecolor": "white",
           "ticks": "",
           "title": {
            "standoff": 15
           },
           "zerolinecolor": "white",
           "zerolinewidth": 2
          },
          "yaxis": {
           "automargin": true,
           "gridcolor": "white",
           "linecolor": "white",
           "ticks": "",
           "title": {
            "standoff": 15
           },
           "zerolinecolor": "white",
           "zerolinewidth": 2
          }
         }
        },
        "title": {
         "text": "Hyperparameter Importances"
        },
        "xaxis": {
         "title": {
          "text": "Importance for Objective Value"
         }
        },
        "yaxis": {
         "title": {
          "text": "Hyperparameter"
         }
        }
       }
      }
     },
     "metadata": {},
     "output_type": "display_data"
    }
   ],
   "source": [
    "from optuna.samplers import TPESampler\n",
    "\n",
    "#df = pd.read_csv('diamonds.csv').drop(['index'],axis=1)\n",
    "#X = df.drop(['price'],axis=1)\n",
    "#y = df['price']\n",
    "#categorical_features_indices = np.where(X.dtypes != np.float)[0]\n",
    "\n",
    "study = optuna.create_study(sampler=TPESampler(), direction=\"maximize\")\n",
    "study.optimize(objective, n_trials=10, timeout=600) # Run for 10 minutes\n",
    "print(\"Number of completed trials: {}\".format(len(study.trials)))\n",
    "print(\"Best trial:\")\n",
    "trial = study.best_trial\n",
    "\n",
    "print(\"\\tBest Score: {}\".format(trial.value))\n",
    "print(\"\\tBest Params: \")\n",
    "for key, value in trial.params.items():\n",
    "    print(\"    {}: {}\".format(key, value))\n",
    "\n",
    "optuna.visualization.plot_param_importances(study)"
   ]
  },
  {
   "cell_type": "code",
   "execution_count": 142,
   "metadata": {},
   "outputs": [
    {
     "name": "stdout",
     "output_type": "stream",
     "text": [
      "Base MAPE: make_scorer(mean_absolute_percentage_error, greater_is_better=False)\n"
     ]
    }
   ],
   "source": [
    "# from sklearn.metrics import make_scorer\n",
    "# gr_reg = GradientBoostingRegressor()\n",
    "\n",
    "# kf = KFold(n_splits=5, shuffle=True, random_state=100)\n",
    "# scores = cross_validate(\n",
    "#     gr_reg, X, y, cv=kf, scoring=\"neg_mean_absolute_percentage_error\", n_jobs=-1)\n",
    "\n",
    "# base_mape = make_scorer(mean_absolute_percentage_error, greater_is_better=False)\n",
    "# print(f\"Base MAPE: {base_mape}\")\n"
   ]
  },
  {
   "cell_type": "markdown",
   "metadata": {},
   "source": [
    "**MODEL EVALUATION TABLE**"
   ]
  },
  {
   "cell_type": "code",
   "execution_count": 78,
   "metadata": {},
   "outputs": [
    {
     "data": {
      "text/html": [
       "<div>\n",
       "<style scoped>\n",
       "    .dataframe tbody tr th:only-of-type {\n",
       "        vertical-align: middle;\n",
       "    }\n",
       "\n",
       "    .dataframe tbody tr th {\n",
       "        vertical-align: top;\n",
       "    }\n",
       "\n",
       "    .dataframe thead th {\n",
       "        text-align: right;\n",
       "    }\n",
       "</style>\n",
       "<table border=\"1\" class=\"dataframe\">\n",
       "  <thead>\n",
       "    <tr style=\"text-align: right;\">\n",
       "      <th></th>\n",
       "      <th>Model</th>\n",
       "      <th>Training Accuracy %</th>\n",
       "      <th>Validation Accuracy %</th>\n",
       "      <th>MAPE Score</th>\n",
       "    </tr>\n",
       "  </thead>\n",
       "  <tbody>\n",
       "    <tr>\n",
       "      <th>3</th>\n",
       "      <td>Random Forest Regressor</td>\n",
       "      <td>96.998899</td>\n",
       "      <td>78.496042</td>\n",
       "      <td>0.015786</td>\n",
       "    </tr>\n",
       "    <tr>\n",
       "      <th>4</th>\n",
       "      <td>CatBoost Regressor</td>\n",
       "      <td>80.832951</td>\n",
       "      <td>67.381752</td>\n",
       "      <td>0.019251</td>\n",
       "    </tr>\n",
       "    <tr>\n",
       "      <th>1</th>\n",
       "      <td>XGBoost Regressor</td>\n",
       "      <td>70.877773</td>\n",
       "      <td>68.583001</td>\n",
       "      <td>0.021315</td>\n",
       "    </tr>\n",
       "    <tr>\n",
       "      <th>0</th>\n",
       "      <td>Linear Regression</td>\n",
       "      <td>41.124234</td>\n",
       "      <td>41.395850</td>\n",
       "      <td>0.029890</td>\n",
       "    </tr>\n",
       "    <tr>\n",
       "      <th>2</th>\n",
       "      <td>AdaBoost Regressor</td>\n",
       "      <td>16.117634</td>\n",
       "      <td>16.154187</td>\n",
       "      <td>0.037768</td>\n",
       "    </tr>\n",
       "  </tbody>\n",
       "</table>\n",
       "</div>"
      ],
      "text/plain": [
       "                     Model  Training Accuracy %  Validation Accuracy %  \\\n",
       "3  Random Forest Regressor            96.998899              78.496042   \n",
       "4       CatBoost Regressor            80.832951              67.381752   \n",
       "1        XGBoost Regressor            70.877773              68.583001   \n",
       "0        Linear Regression            41.124234              41.395850   \n",
       "2       AdaBoost Regressor            16.117634              16.154187   \n",
       "\n",
       "   MAPE Score  \n",
       "3    0.015786  \n",
       "4    0.019251  \n",
       "1    0.021315  \n",
       "0    0.029890  \n",
       "2    0.037768  "
      ]
     },
     "execution_count": 78,
     "metadata": {},
     "output_type": "execute_result"
    }
   ],
   "source": [
    "models = pd.DataFrame({\n",
    "    'Model': ['Linear Regression','XGBoost Regressor', \n",
    "             'Random Forest Regressor', 'CatBoost Regressor'],\n",
    "    'Training Accuracy %' : [lr_train_acc, xg_train_acc, rf_train_acc, cat_train_acc],\n",
    "    'Validation Accuracy %' : [lr_val_acc, xg_val_acc, rf_val_acc, cat_val_acc],\n",
    "    'MAPE Score' : [mape_lr, mape_xg, mape_rf, mape_cat]\n",
    "})\n",
    "\n",
    "models.sort_values(by = ['MAPE Score'],ascending = True)"
   ]
  },
  {
   "cell_type": "markdown",
   "metadata": {},
   "source": [
    "It looks like the Random Forest Regressor has performed well with the lowest MAPE value amongst all and with the highest model score overall. We will now run the same models with the features derived from RF and CatBoost Feature importance methods and check if there is a difference in the above comparison."
   ]
  },
  {
   "cell_type": "markdown",
   "metadata": {},
   "source": [
    "**PREDICTION**\n",
    "\n",
    "As we can see from the above the RF Regressor on the 10 features as derived from the initial RF regressor model provided a slightly better model in terms of MAPE value. We will consider the above RF Model to predict on the test set and generate the submission file."
   ]
  },
  {
   "cell_type": "code",
   "execution_count": null,
   "metadata": {},
   "outputs": [],
   "source": [
    "test['Target'] = rf_model.predict(X_test)\n",
    "test['Target'].to_csv('./ReNew_Participants_Data/my_submission.csv', index=False)"
   ]
  },
  {
   "cell_type": "code",
   "execution_count": null,
   "metadata": {},
   "outputs": [],
   "source": [
    "test['Target'] = cat_model.predict(X_test)\n",
    "test['Target'].to_csv('my_submission.csv', index=False)"
   ]
  },
  {
   "cell_type": "code",
   "execution_count": null,
   "metadata": {},
   "outputs": [],
   "source": []
  }
 ],
 "metadata": {
  "kernelspec": {
   "display_name": "Python 3.9.12 ('base')",
   "language": "python",
   "name": "python3"
  },
  "language_info": {
   "codemirror_mode": {
    "name": "ipython",
    "version": 3
   },
   "file_extension": ".py",
   "mimetype": "text/x-python",
   "name": "python",
   "nbconvert_exporter": "python",
   "pygments_lexer": "ipython3",
   "version": "3.9.12"
  },
  "vscode": {
   "interpreter": {
    "hash": "1ae2d08e1c10c3c09fd1b03fef41ce0fc88bcb9e531ff8c9fd4a0cdd869bc683"
   }
  }
 },
 "nbformat": 4,
 "nbformat_minor": 2
}
